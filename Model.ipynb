{
 "cells": [
  {
   "cell_type": "markdown",
   "id": "749a7f99-7ae8-4d75-8089-fbc4e7c6b57a",
   "metadata": {},
   "source": [
    "### Import Libraries"
   ]
  },
  {
   "cell_type": "code",
   "execution_count": 40,
   "id": "b03544ab-0116-44bb-a9c9-22851b707203",
   "metadata": {},
   "outputs": [
    {
     "name": "stderr",
     "output_type": "stream",
     "text": [
      "2025-06-14 17:22:08.892301: I tensorflow/core/util/port.cc:153] oneDNN custom operations are on. You may see slightly different numerical results due to floating-point round-off errors from different computation orders. To turn them off, set the environment variable `TF_ENABLE_ONEDNN_OPTS=0`.\n",
      "2025-06-14 17:22:10.662332: E external/local_xla/xla/stream_executor/cuda/cuda_fft.cc:477] Unable to register cuFFT factory: Attempting to register factory for plugin cuFFT when one has already been registered\n",
      "WARNING: All log messages before absl::InitializeLog() is called are written to STDERR\n",
      "E0000 00:00:1749936131.319880    2998 cuda_dnn.cc:8310] Unable to register cuDNN factory: Attempting to register factory for plugin cuDNN when one has already been registered\n",
      "E0000 00:00:1749936131.603600    2998 cuda_blas.cc:1418] Unable to register cuBLAS factory: Attempting to register factory for plugin cuBLAS when one has already been registered\n",
      "2025-06-14 17:22:13.601326: I tensorflow/core/platform/cpu_feature_guard.cc:210] This TensorFlow binary is optimized to use available CPU instructions in performance-critical operations.\n",
      "To enable the following instructions: AVX2 AVX_VNNI FMA, in other operations, rebuild TensorFlow with the appropriate compiler flags.\n"
     ]
    }
   ],
   "source": [
    "import pandas as pd\n",
    "from sklearn.preprocessing import LabelEncoder\n",
    "from sklearn.model_selection import train_test_split\n",
    "import tensorflow as tf\n",
    "from tensorflow.keras import layers, models"
   ]
  },
  {
   "cell_type": "markdown",
   "id": "0c06c84b-757d-472c-bb09-df7951a7da08",
   "metadata": {},
   "source": [
    "## Preprocessing"
   ]
  },
  {
   "cell_type": "markdown",
   "id": "5a5f491d-7c6f-4d64-b5fa-e3bc0a132db6",
   "metadata": {},
   "source": [
    "### Read data for model"
   ]
  },
  {
   "cell_type": "code",
   "execution_count": 21,
   "id": "b1146291-a095-4255-ae96-3cd1fd09c43f",
   "metadata": {},
   "outputs": [],
   "source": [
    "train_df = pd.read_csv(\"CBIS-DDSM_Clean_Data/train_descriptions.csv\")\n",
    "test_df = pd.read_csv(\"CBIS-DDSM_Clean_Data/test_descriptions.csv\")"
   ]
  },
  {
   "cell_type": "code",
   "execution_count": 22,
   "id": "5f8640b2-ba60-46c9-b5cc-3b106cb11b3d",
   "metadata": {},
   "outputs": [
    {
     "name": "stdout",
     "output_type": "stream",
     "text": [
      "<class 'pandas.core.frame.DataFrame'>\n",
      "RangeIndex: 2864 entries, 0 to 2863\n",
      "Data columns (total 8 columns):\n",
      " #   Column            Non-Null Count  Dtype \n",
      "---  ------            --------------  ----- \n",
      " 0   breast_density    2864 non-null   int64 \n",
      " 1   breast_side       2864 non-null   object\n",
      " 2   image_view        2864 non-null   object\n",
      " 3   abnormality_type  2864 non-null   object\n",
      " 4   pathology         2864 non-null   object\n",
      " 5   series_uid        2864 non-null   object\n",
      " 6   images_new_paths  2864 non-null   object\n",
      " 7   image_type        2864 non-null   object\n",
      "dtypes: int64(1), object(7)\n",
      "memory usage: 179.1+ KB\n"
     ]
    }
   ],
   "source": [
    "train_df.info()"
   ]
  },
  {
   "cell_type": "code",
   "execution_count": 23,
   "id": "f515d840-ee76-41b2-bba2-b0e3d90b02e9",
   "metadata": {},
   "outputs": [
    {
     "name": "stdout",
     "output_type": "stream",
     "text": [
      "<class 'pandas.core.frame.DataFrame'>\n",
      "RangeIndex: 704 entries, 0 to 703\n",
      "Data columns (total 8 columns):\n",
      " #   Column            Non-Null Count  Dtype \n",
      "---  ------            --------------  ----- \n",
      " 0   breast_density    704 non-null    int64 \n",
      " 1   breast_side       704 non-null    object\n",
      " 2   image_view        704 non-null    object\n",
      " 3   abnormality_type  704 non-null    object\n",
      " 4   pathology         704 non-null    object\n",
      " 5   series_uid        704 non-null    object\n",
      " 6   images_new_paths  704 non-null    object\n",
      " 7   image_type        704 non-null    object\n",
      "dtypes: int64(1), object(7)\n",
      "memory usage: 44.1+ KB\n"
     ]
    }
   ],
   "source": [
    "test_df.info()"
   ]
  },
  {
   "cell_type": "code",
   "execution_count": 24,
   "id": "5a241174-1d3c-44a7-9233-2246f641ae0a",
   "metadata": {},
   "outputs": [
    {
     "data": {
      "text/plain": [
       "breast_density                                                      3\n",
       "breast_side                                                      LEFT\n",
       "image_view                                                         CC\n",
       "abnormality_type                                                 mass\n",
       "pathology                                                   MALIGNANT\n",
       "series_uid          1.3.6.1.4.1.9590.100.1.2.342386194811267636608...\n",
       "images_new_paths    1.3.6.1.4.1.9590.100.1.2.342386194811267636608...\n",
       "image_type                                      full mammogram images\n",
       "Name: 0, dtype: object"
      ]
     },
     "execution_count": 24,
     "metadata": {},
     "output_type": "execute_result"
    }
   ],
   "source": [
    "train_df.iloc[0]"
   ]
  },
  {
   "cell_type": "code",
   "execution_count": 25,
   "id": "32ac6ec7-eed7-44f1-9e6b-49780fc9e478",
   "metadata": {},
   "outputs": [
    {
     "name": "stdout",
     "output_type": "stream",
     "text": [
      "Size of training data 2864\n",
      "Size of testing data 704\n"
     ]
    }
   ],
   "source": [
    "print(\"Size of training data\", len(train_df))\n",
    "print(\"Size of testing data\", len(test_df))"
   ]
  },
  {
   "cell_type": "markdown",
   "id": "738a4a4e-8013-44e9-8d0a-62158bc999dd",
   "metadata": {},
   "source": [
    "### Encode labels"
   ]
  },
  {
   "cell_type": "code",
   "execution_count": 34,
   "id": "9a96d1c1-3650-41c0-8945-cb102625e280",
   "metadata": {},
   "outputs": [
    {
     "name": "stdout",
     "output_type": "stream",
     "text": [
      "Non Encoded: \n",
      "['MALIGNANT' 'BENIGN' 'BENIGN_WITHOUT_CALLBACK']\n",
      "['MALIGNANT' 'BENIGN' 'BENIGN_WITHOUT_CALLBACK']\n",
      "\n",
      "Encoded: \n",
      "[2 0 1]\n",
      "[2 0 1]\n"
     ]
    }
   ],
   "source": [
    "# create dataframe and transform(encodes) pathology labels\n",
    "train_full_df = train_df\n",
    "test_full_df = test_df\n",
    "print(\"Non Encoded: \")\n",
    "print(train_full_df[\"pathology\"].unique())\n",
    "print(test_full_df[\"pathology\"].unique())\n",
    "print()\n",
    "\n",
    "train_full_df[\"label\"] = LabelEncoder().fit_transform(train_full_df[\"pathology\"])\n",
    "test_full_df[\"label\"] = LabelEncoder().fit_transform(test_full_df[\"pathology\"])\n",
    "\n",
    "print(\"Encoded: \")\n",
    "print(train_full_df[\"label\"].unique())\n",
    "print(test_full_df[\"label\"].unique())"
   ]
  },
  {
   "cell_type": "markdown",
   "id": "ac8e4d62-9aaa-47da-83ad-f0ee138f257b",
   "metadata": {},
   "source": [
    "### Split Training data into validation and training sets"
   ]
  },
  {
   "cell_type": "code",
   "execution_count": 37,
   "id": "6be4609f-9982-4f97-8718-956a3f7b991e",
   "metadata": {},
   "outputs": [
    {
     "name": "stdout",
     "output_type": "stream",
     "text": [
      "Train set 2434\n",
      "Validation set 430\n",
      "Test set 704\n"
     ]
    }
   ],
   "source": [
    "train_data, val_data = train_test_split(train_full_df, \n",
    "                                        test_size=0.15, \n",
    "                                        stratify=train_full_df[\"label\"], \n",
    "                                        random_state=42\n",
    "                                       )\n",
    "test_data = test_full_df.copy()\n",
    "\n",
    "print(\"Train set\", len(train_data))\n",
    "print(\"Validation set\", len(val_data))\n",
    "print(\"Test set\", len(test_data))"
   ]
  },
  {
   "cell_type": "markdown",
   "id": "607693a8-e644-4644-9cd5-8c125b1a7f78",
   "metadata": {},
   "source": [
    "## Model Architecture "
   ]
  },
  {
   "cell_type": "code",
   "execution_count": null,
   "id": "60e130de-e86b-4c40-a1a9-95334699720d",
   "metadata": {},
   "outputs": [],
   "source": []
  }
 ],
 "metadata": {
  "kernelspec": {
   "display_name": "Python (DQNvenv)",
   "language": "python",
   "name": "dqnvenv"
  },
  "language_info": {
   "codemirror_mode": {
    "name": "ipython",
    "version": 3
   },
   "file_extension": ".py",
   "mimetype": "text/x-python",
   "name": "python",
   "nbconvert_exporter": "python",
   "pygments_lexer": "ipython3",
   "version": "3.11.11"
  }
 },
 "nbformat": 4,
 "nbformat_minor": 5
}
