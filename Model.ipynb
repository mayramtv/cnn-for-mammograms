{
 "cells": [
  {
   "cell_type": "markdown",
   "id": "749a7f99-7ae8-4d75-8089-fbc4e7c6b57a",
   "metadata": {},
   "source": [
    "### Import Libraries"
   ]
  },
  {
   "cell_type": "code",
   "execution_count": 1,
   "id": "b03544ab-0116-44bb-a9c9-22851b707203",
   "metadata": {},
   "outputs": [],
   "source": [
    "import pandas as pd"
   ]
  },
  {
   "cell_type": "markdown",
   "id": "5a5f491d-7c6f-4d64-b5fa-e3bc0a132db6",
   "metadata": {},
   "source": [
    "### Read data for model"
   ]
  },
  {
   "cell_type": "code",
   "execution_count": 4,
   "id": "b1146291-a095-4255-ae96-3cd1fd09c43f",
   "metadata": {},
   "outputs": [],
   "source": [
    "train_df = pd.read_csv(\"CBIS-DDSM_Clean_Data/train_descriptions.csv\")\n",
    "test_df = pd.read_csv(\"CBIS-DDSM_Clean_Data/test_descriptions.csv\")"
   ]
  },
  {
   "cell_type": "code",
   "execution_count": 7,
   "id": "5f8640b2-ba60-46c9-b5cc-3b106cb11b3d",
   "metadata": {},
   "outputs": [
    {
     "name": "stdout",
     "output_type": "stream",
     "text": [
      "<class 'pandas.core.frame.DataFrame'>\n",
      "RangeIndex: 2864 entries, 0 to 2863\n",
      "Data columns (total 8 columns):\n",
      " #   Column            Non-Null Count  Dtype \n",
      "---  ------            --------------  ----- \n",
      " 0   breast_density    2864 non-null   int64 \n",
      " 1   breast_side       2864 non-null   object\n",
      " 2   image_view        2864 non-null   object\n",
      " 3   abnormality_type  2864 non-null   object\n",
      " 4   pathology         2864 non-null   object\n",
      " 5   series_uid        2864 non-null   object\n",
      " 6   images_new_paths  2864 non-null   object\n",
      " 7   image_type        2864 non-null   object\n",
      "dtypes: int64(1), object(7)\n",
      "memory usage: 179.1+ KB\n"
     ]
    }
   ],
   "source": [
    "train_df.info()"
   ]
  },
  {
   "cell_type": "code",
   "execution_count": 8,
   "id": "f515d840-ee76-41b2-bba2-b0e3d90b02e9",
   "metadata": {},
   "outputs": [
    {
     "name": "stdout",
     "output_type": "stream",
     "text": [
      "<class 'pandas.core.frame.DataFrame'>\n",
      "RangeIndex: 2864 entries, 0 to 2863\n",
      "Data columns (total 8 columns):\n",
      " #   Column            Non-Null Count  Dtype \n",
      "---  ------            --------------  ----- \n",
      " 0   breast_density    2864 non-null   int64 \n",
      " 1   breast_side       2864 non-null   object\n",
      " 2   image_view        2864 non-null   object\n",
      " 3   abnormality_type  2864 non-null   object\n",
      " 4   pathology         2864 non-null   object\n",
      " 5   series_uid        2864 non-null   object\n",
      " 6   images_new_paths  2864 non-null   object\n",
      " 7   image_type        2864 non-null   object\n",
      "dtypes: int64(1), object(7)\n",
      "memory usage: 179.1+ KB\n"
     ]
    }
   ],
   "source": [
    "test_df.info()"
   ]
  },
  {
   "cell_type": "code",
   "execution_count": 10,
   "id": "5a241174-1d3c-44a7-9233-2246f641ae0a",
   "metadata": {},
   "outputs": [
    {
     "data": {
      "text/plain": [
       "breast_density                                                      3\n",
       "breast_side                                                      LEFT\n",
       "image_view                                                         CC\n",
       "abnormality_type                                                 mass\n",
       "pathology                                                   MALIGNANT\n",
       "series_uid          1.3.6.1.4.1.9590.100.1.2.342386194811267636608...\n",
       "images_new_paths    1.3.6.1.4.1.9590.100.1.2.342386194811267636608...\n",
       "image_type                                      full mammogram images\n",
       "Name: 0, dtype: object"
      ]
     },
     "execution_count": 10,
     "metadata": {},
     "output_type": "execute_result"
    }
   ],
   "source": [
    "train_df.iloc[0]"
   ]
  },
  {
   "cell_type": "code",
   "execution_count": null,
   "id": "9dac674e-36a0-4cc0-af01-4b7722ae5b9d",
   "metadata": {},
   "outputs": [],
   "source": []
  }
 ],
 "metadata": {
  "kernelspec": {
   "display_name": "Python (DQNvenv)",
   "language": "python",
   "name": "dqnvenv"
  },
  "language_info": {
   "codemirror_mode": {
    "name": "ipython",
    "version": 3
   },
   "file_extension": ".py",
   "mimetype": "text/x-python",
   "name": "python",
   "nbconvert_exporter": "python",
   "pygments_lexer": "ipython3",
   "version": "3.11.11"
  }
 },
 "nbformat": 4,
 "nbformat_minor": 5
}
