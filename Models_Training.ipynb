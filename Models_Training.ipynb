{
 "cells": [
  {
   "cell_type": "markdown",
   "id": "e4ce9042-8dde-477f-92ce-994cac8c16d7",
   "metadata": {},
   "source": [
    "## Phase 3: Find Training Model"
   ]
  },
  {
   "cell_type": "markdown",
   "id": "de7ee0cb-e714-4837-ad93-87e227ec2700",
   "metadata": {},
   "source": [
    "### Iteration 2: Finding best model by comparing VGG and ResNet with custom CNN"
   ]
  },
  {
   "cell_type": "markdown",
   "id": "64b127f1-3665-4532-85a1-a18ebd6e7c89",
   "metadata": {},
   "source": [
    "### Iteration 3: Fine tune best model. "
   ]
  }
 ],
 "metadata": {
  "kernelspec": {
   "display_name": "Python (DQNvenv)",
   "language": "python",
   "name": "dqnvenv"
  },
  "language_info": {
   "codemirror_mode": {
    "name": "ipython",
    "version": 3
   },
   "file_extension": ".py",
   "mimetype": "text/x-python",
   "name": "python",
   "nbconvert_exporter": "python",
   "pygments_lexer": "ipython3",
   "version": "3.11.11"
  }
 },
 "nbformat": 4,
 "nbformat_minor": 5
}
