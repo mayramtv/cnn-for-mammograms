{
 "cells": [
  {
   "cell_type": "markdown",
   "id": "c1565dd7-ad9a-44c0-b1bb-d1074df26f0c",
   "metadata": {},
   "source": [
    "# Phase 1: Data Basic Preporcessing"
   ]
  },
  {
   "cell_type": "markdown",
   "id": "2991c7e0-8b93-4fa7-84a7-91ad440c05d7",
   "metadata": {},
   "source": [
    "## Libraries and Data Loading"
   ]
  },
  {
   "cell_type": "markdown",
   "id": "96f02aa5-b656-49b0-a9d0-501d9db876c9",
   "metadata": {},
   "source": [
    "### Import Libraries"
   ]
  },
  {
   "cell_type": "code",
   "execution_count": 20,
   "id": "99c7a739-04d9-495a-b9c1-4a5f17fa7446",
   "metadata": {},
   "outputs": [],
   "source": [
    "# Import libraries\n",
    "import pandas as pd\n",
    "import os"
   ]
  },
  {
   "cell_type": "markdown",
   "id": "c9cd8d5f-09f8-4fdc-86cb-a5eb9f7697a4",
   "metadata": {},
   "source": [
    "### Load Data\n",
    "The CBIS-DDSM datset contains: \n",
    "- A metadata file in csv format\n",
    "- Four descriptions files in csv format\n",
    "- One directory with images stored in directories with a path based on the description of the case."
   ]
  },
  {
   "cell_type": "code",
   "execution_count": 243,
   "id": "b253dd67-8599-419d-bc26-25a6ae7d3542",
   "metadata": {},
   "outputs": [],
   "source": [
    "# Load data from metadata file\n",
    "meta_path = 'CBIS-DDSM_Data/images_dataset/metadata.csv' \n",
    "metadata_df = pd.read_csv(meta_path)\n",
    "\n",
    "# Load data from csv data files for training and testing sets\n",
    "mass_train_orig = pd.read_csv(\"CBIS-DDSM_Data/mass_case_description_train_set.csv\")\n",
    "mass_test_orig = pd.read_csv(\"CBIS-DDSM_Data/mass_case_description_test_set.csv\")\n",
    "calc_train_orig = pd.read_csv(\"CBIS-DDSM_Data/calc_case_description_train_set.csv\")\n",
    "calc_test_orig = pd.read_csv(\"CBIS-DDSM_Data/calc_case_description_test_set.csv\")"
   ]
  },
  {
   "cell_type": "markdown",
   "id": "64c9ca38-29a6-4206-bf77-58254adeeca5",
   "metadata": {},
   "source": [
    "Example of an image's path    "
   ]
  },
  {
   "cell_type": "code",
   "execution_count": 244,
   "id": "cf65b716-32d4-4eb1-9c66-17b5240266b5",
   "metadata": {},
   "outputs": [
    {
     "data": {
      "text/plain": [
       "'Calc-Test_P_00038_LEFT_CC/1.3.6.1.4.1.9590.100.1.2.85935434310203356712688695661986996009/1.3.6.1.4.1.9590.100.1.2.374115997511889073021386151921807063992/000000.dcm'"
      ]
     },
     "execution_count": 244,
     "metadata": {},
     "output_type": "execute_result"
    }
   ],
   "source": [
    "calc_test_orig[\"image file path\"][0]"
   ]
  },
  {
   "cell_type": "markdown",
   "id": "aee4501b-5190-40c8-9928-b200c1666900",
   "metadata": {},
   "source": [
    "## Extract Metadata and Description Data"
   ]
  },
  {
   "cell_type": "markdown",
   "id": "e1803f8b-8c1d-4bac-8886-559314ccba42",
   "metadata": {},
   "source": [
    "### Prepare Description Data\n",
    "#### Match and Combine Description Data\n",
    "Currently the mass and calcification description files have different names. The names are matched to combine files"
   ]
  },
  {
   "cell_type": "code",
   "execution_count": 245,
   "id": "c2f65549-45bc-4edb-9341-5f5aec19a502",
   "metadata": {},
   "outputs": [],
   "source": [
    "# Columns current names and new names\n",
    "col_new_names = [\"breast_density\", \"breast_side\", \"image_view\", \"abnormality_type\", \"pathology\", \"image_path\", \"cropped_image_path\", \"ROI_mask_path\"] \n",
    "mass_names = [\"breast_density\", \"left or right breast\", \"image view\", \"abnormality type\", \"pathology\", \"image file path\", \"cropped image file path\", \"ROI mask file path\"]\n",
    "calc_names = [\"breast density\", \"left or right breast\", \"image view\", \"abnormality type\", \"pathology\", \"image file path\", \"cropped image file path\", \"ROI mask file path\"]"
   ]
  },
  {
   "cell_type": "code",
   "execution_count": 246,
   "id": "ebcaeb9f-c599-4056-b7cf-16306e84c071",
   "metadata": {},
   "outputs": [],
   "source": [
    "# Rename columns\n",
    "mass_train_renamed = mass_train_orig.rename(columns={name:new_name for name, new_name in zip(mass_names, col_new_names)})\n",
    "mass_test_renamed = mass_test_orig.rename(columns={name:new_name for name, new_name in zip(mass_names, col_new_names)})\n",
    "calc_train_renamed = calc_train_orig.rename(columns={name:new_name for name, new_name in zip(calc_names, col_new_names)})\n",
    "calc_test_renamed = calc_test_orig.rename(columns={name:new_name for name, new_name in zip(calc_names, col_new_names)})"
   ]
  },
  {
   "cell_type": "code",
   "execution_count": 247,
   "id": "063d6829-f152-43b3-9570-7ec3a0d0ef14",
   "metadata": {},
   "outputs": [
    {
     "name": "stdout",
     "output_type": "stream",
     "text": [
      "Original Number of Cases:\n",
      " - Mass trained cases:  1318\n",
      " - Mass trained cases:  378\n",
      " - Calc trained cases:  1546\n",
      " - Calc trained cases:  326\n"
     ]
    }
   ],
   "source": [
    "# Print number of cases for file\n",
    "print(\"Original Number of Cases:\")\n",
    "print(\" - Mass trained cases: \", len(mass_train_renamed))\n",
    "print(\" - Mass trained cases: \", len(mass_test_renamed))\n",
    "print(\" - Calc trained cases: \", len(calc_train_renamed))\n",
    "print(\" - Calc trained cases: \", len(calc_test_renamed))"
   ]
  },
  {
   "cell_type": "code",
   "execution_count": 248,
   "id": "814bedee-2a9c-4b26-bffd-c371bf7ef01d",
   "metadata": {},
   "outputs": [
    {
     "name": "stdout",
     "output_type": "stream",
     "text": [
      "New Number of Cases per Set:\n",
      " - Train cases:  2864\n",
      " - Test cases:  704\n",
      "\n",
      " Index(['breast_density', 'breast_side', 'image_view', 'abnormality_type',\n",
      "       'pathology', 'image_path', 'cropped_image_path', 'ROI_mask_path'],\n",
      "      dtype='object')\n"
     ]
    }
   ],
   "source": [
    "# Combine needed columns and print number of cases combining training and testing data\n",
    "train_orig = []\n",
    "test_orig = []\n",
    "train_orig = pd.concat([mass_train_renamed[col_new_names], calc_train_renamed[col_new_names]], ignore_index=True)\n",
    "test_orig = pd.concat([mass_test_renamed[col_new_names], calc_test_renamed[col_new_names]], ignore_index=True)\n",
    "print(\"New Number of Cases per Set:\")\n",
    "print(\" - Train cases: \", len(train_orig))\n",
    "print(\" - Test cases: \", len(test_orig))\n",
    "print(\"\\n\", train_orig.columns)"
   ]
  },
  {
   "cell_type": "code",
   "execution_count": 249,
   "id": "ebc7e03a-e3ea-4997-8f2c-ecc9b1dab544",
   "metadata": {},
   "outputs": [],
   "source": [
    "# Add a split marker column\n",
    "train_orig[\"split\"] = [\"train\"] * len(train_orig) \n",
    "test_orig[\"split\"] = [\"test\"] * len(test_orig) "
   ]
  },
  {
   "cell_type": "code",
   "execution_count": 250,
   "id": "6675cadf-1969-4083-a8b2-4f9e681f25a6",
   "metadata": {},
   "outputs": [
    {
     "name": "stdout",
     "output_type": "stream",
     "text": [
      "Index(['breast_density', 'breast_side', 'image_view', 'abnormality_type',\n",
      "       'pathology', 'image_path', 'cropped_image_path', 'ROI_mask_path',\n",
      "       'split'],\n",
      "      dtype='object')\n"
     ]
    }
   ],
   "source": [
    "print(train_orig.columns)"
   ]
  },
  {
   "cell_type": "code",
   "execution_count": 251,
   "id": "3a3547e0-ed53-45dd-9b24-c31eb711989c",
   "metadata": {},
   "outputs": [
    {
     "data": {
      "text/plain": [
       "array([ True,  True,  True,  True,  True,  True,  True,  True,  True])"
      ]
     },
     "execution_count": 251,
     "metadata": {},
     "output_type": "execute_result"
    }
   ],
   "source": [
    "test_orig.columns == train_orig.columns"
   ]
  },
  {
   "cell_type": "markdown",
   "id": "7851956b-dddf-459d-bce0-09789f116377",
   "metadata": {},
   "source": [
    "#### Extract Series UIDs from Description Paths \n",
    "The decompressed images are stored in one directory where the name is the series ID number generated using the metadata file. To connect the description with its respective image already decompresed, the series UIDs are extracted from paths from descriptions files to match with images stored in images_png "
   ]
  },
  {
   "cell_type": "code",
   "execution_count": 252,
   "id": "7ffd7937-dade-4b73-b50d-afe41221a297",
   "metadata": {},
   "outputs": [],
   "source": [
    "# Function for extracting description series UIDs from paths stored in the description files \n",
    "def get_series_from_descriptions(im_types, new_cols, train, test, new_train, new_test):\n",
    "    for im_type, col in zip(im_types, new_cols):\n",
    "        train_set = [serie.split(\"/\")[2] for serie in train[im_type]]\n",
    "        test_set = [serie.split(\"/\")[2] for serie in test[im_type]]\n",
    "        new_train[col] = train_set\n",
    "        new_test[col] = test_set\n",
    "    return new_train, new_test"
   ]
  },
  {
   "cell_type": "code",
   "execution_count": 253,
   "id": "7b3331dc-aa75-4bf4-ac94-6c7e0d84f9be",
   "metadata": {},
   "outputs": [],
   "source": [
    "# Extract description series UIDs from paths stored in the description files \n",
    "train_desc, test_desc = get_series_from_descriptions([\"image_path\", \"cropped_image_path\", \"ROI_mask_path\"], \n",
    "                                                     [\"series_uid_full\", \"series_uid_crop\", \"series_uid_roi\"], \n",
    "                                                     train_orig, test_orig, train_desc, test_desc)"
   ]
  },
  {
   "cell_type": "code",
   "execution_count": 254,
   "id": "030ed2bb-35bb-4582-a7a1-66d30f114d5f",
   "metadata": {},
   "outputs": [
    {
     "name": "stdout",
     "output_type": "stream",
     "text": [
      "Two examples of description data cases with series_uid included: \n",
      "\n",
      "breast_density                                                        3\n",
      "breast_side                                                        LEFT\n",
      "image_view                                                           CC\n",
      "abnormality_type                                                   mass\n",
      "pathology                                                     MALIGNANT\n",
      "image_path            Mass-Training_P_00001_LEFT_CC/1.3.6.1.4.1.9590...\n",
      "cropped_image_path    Mass-Training_P_00001_LEFT_CC_1/1.3.6.1.4.1.95...\n",
      "ROI_mask_path         Mass-Training_P_00001_LEFT_CC_1/1.3.6.1.4.1.95...\n",
      "split                                                             train\n",
      "series_uid_full       1.3.6.1.4.1.9590.100.1.2.342386194811267636608...\n",
      "series_uid_crop       1.3.6.1.4.1.9590.100.1.2.296736403313792599626...\n",
      "series_uid_roi        1.3.6.1.4.1.9590.100.1.2.296736403313792599626...\n",
      "Name: 0, dtype: object \n",
      "\n",
      "breast_density                                                        1\n",
      "breast_side                                                        LEFT\n",
      "image_view                                                          MLO\n",
      "abnormality_type                                          calcification\n",
      "pathology                                                        BENIGN\n",
      "image_path            Calc-Training_P_02584_LEFT_MLO/1.3.6.1.4.1.959...\n",
      "cropped_image_path    Calc-Training_P_02584_LEFT_MLO_1/1.3.6.1.4.1.9...\n",
      "ROI_mask_path         Calc-Training_P_02584_LEFT_MLO_1/1.3.6.1.4.1.9...\n",
      "split                                                             train\n",
      "series_uid_full       1.3.6.1.4.1.9590.100.1.2.197835155813429240930...\n",
      "series_uid_crop       1.3.6.1.4.1.9590.100.1.2.376397880911533038033...\n",
      "series_uid_roi        1.3.6.1.4.1.9590.100.1.2.376397880911533038033...\n",
      "Name: 2863, dtype: object\n"
     ]
    }
   ],
   "source": [
    "# Examples of the description of two cases. The new columns are included. \n",
    "print(\"Two examples of description data cases with series_uid included: \\n\")\n",
    "print(train_desc.iloc[0], \"\\n\")\n",
    "print(train_desc.iloc[len(train_desc)-1])"
   ]
  },
  {
   "cell_type": "markdown",
   "id": "33302a05-9589-427e-89c0-605a1e820f73",
   "metadata": {},
   "source": [
    "### Extract Data\n",
    "#### Images Data\n",
    "Gets images new locations and make a new data frame. \n",
    "Create a new data frame with information of each image. For each image saved: \n",
    "- extract series_uid\n",
    "- find its respective information in the description (train/test) sets\n",
    "- find its respective metadata. "
   ]
  },
  {
   "cell_type": "code",
   "execution_count": 255,
   "id": "97ec2028-5dac-494b-b09b-e34eac25301a",
   "metadata": {
    "scrolled": true
   },
   "outputs": [
    {
     "name": "stdout",
     "output_type": "stream",
     "text": [
      "Number of images in total:\n",
      " -  10239\n",
      "\n",
      "Examples of PNG images paths:\n"
     ]
    },
    {
     "data": {
      "text/plain": [
       "['1.3.6.1.4.1.9590.100.1.2.100018879311824535125115145152454291132_cropped.png',\n",
       " '1.3.6.1.4.1.9590.100.1.2.100018879311824535125115145152454291132_roi.png']"
      ]
     },
     "execution_count": 255,
     "metadata": {},
     "output_type": "execute_result"
    }
   ],
   "source": [
    "# Extracts paths from images stored in images_png directory \n",
    "path_to_imgs = \"CBIS-DDSM_Clean_Data/labeled_images_png/\"\n",
    "images_paths = os.listdir(path_to_imgs)\n",
    "\n",
    "\n",
    "print(\"Number of images in total:\")\n",
    "print(\" - \", len(images_paths))\n",
    "\n",
    "print(\"\\nExamples of PNG images paths:\")\n",
    "images_paths[:2]"
   ]
  },
  {
   "cell_type": "code",
   "execution_count": 256,
   "id": "9e6e7b50-7d9d-4e03-822e-4303e1c16df8",
   "metadata": {},
   "outputs": [
    {
     "data": {
      "text/plain": [
       "['1.3.6.1.4.1.9590.100.1.2.100018879311824535125115145152454291132',\n",
       " '1.3.6.1.4.1.9590.100.1.2.100018879311824535125115145152454291132',\n",
       " '1.3.6.1.4.1.9590.100.1.2.100131208110604806117271735422083351547']"
      ]
     },
     "execution_count": 256,
     "metadata": {},
     "output_type": "execute_result"
    }
   ],
   "source": [
    "# creates a list of series UIDs by removing file extension and last 3 digits \n",
    "images_series = [path.split(\"_\")[0] for path in images_paths]\n",
    "images_series[:3]"
   ]
  },
  {
   "cell_type": "code",
   "execution_count": 257,
   "id": "55565aa3-7ee7-4777-aa76-61df3db27e59",
   "metadata": {},
   "outputs": [
    {
     "name": "stdout",
     "output_type": "stream",
     "text": [
      "Unique paths: 10239 out of  10239\n",
      "Unique series: 6775 out of  10239\n"
     ]
    }
   ],
   "source": [
    "# verify the series are unique\n",
    "print(\"Unique paths:\", len(set(images_paths)), \"out of \", len(images_paths))\n",
    "print(\"Unique series:\", len(set(images_series)), \"out of \", len(images_series))"
   ]
  },
  {
   "cell_type": "code",
   "execution_count": 275,
   "id": "52a85a20-227e-4f41-ba78-c5b749318a5a",
   "metadata": {},
   "outputs": [],
   "source": []
  },
  {
   "cell_type": "markdown",
   "id": "9dd075a2-7a17-4639-8fc9-6040de862530",
   "metadata": {},
   "source": [
    "#### Extract metadata\n",
    "As we can see in the folowing cell, some series cantain more than one images. For that reason, the path can be used to diferenciate images by adding a column with the type of image."
   ]
  },
  {
   "cell_type": "code",
   "execution_count": 258,
   "id": "30e41fa7-d584-4e04-862c-1eba8c56ffd6",
   "metadata": {},
   "outputs": [],
   "source": [
    "# Function for matching images paths to metadata \n",
    "def get_images_metadata(images_series, metadata_series, metadata_col):\n",
    "    new_col = []\n",
    "    # uses description series uids\n",
    "    for serie in images_series:\n",
    "        # makes sure the series is in the metadata\n",
    "        if serie in list(metadata_series):\n",
    "            index = list(metadata_series).index(serie)\n",
    "            new_col.append(metadata_col[index])\n",
    "        else: \n",
    "            new_col.append(None)\n",
    "            print(serie, \"not found\")\n",
    "            \n",
    "    return new_col\n",
    "            "
   ]
  },
  {
   "cell_type": "code",
   "execution_count": 259,
   "id": "55e3085c-29a4-45b7-9aaa-7026dd53539d",
   "metadata": {},
   "outputs": [],
   "source": [
    "# Create dataframe and add metadata\n",
    "images_data = pd.DataFrame()\n",
    "\n",
    "base_path = \"CBIS-DDSM_Clean_Data/labeled_images_png/\"\n",
    "imges_types = [path.split(\"_\")[1].split(\".\")[0] for path in images_paths]\n",
    "mapping = {\"full\": \"00\", \"cropped\": \"01\", \"roi\": \"02\"}\n",
    "# Adds metadata to new dataframe\n",
    "images_data[\"image_id\"] = [serie[-5:] + \"_\" + mapping[im_type] for serie, im_type in zip(images_series, imges_types)]\n",
    "images_data[\"image_type\"] = imges_types\n",
    "images_data[\"image_path\"] = [base_path + im for im in images_paths]\n",
    "images_data[\"series_uid\"] = images_series\n",
    "images_data[\"subject_id\"] = get_images_metadata(images_series, metadata_df[\"Series UID\"], metadata_df[\"Subject ID\"])\n",
    "images_data[\"study_uid\"] = get_images_metadata(images_series, metadata_df[\"Series UID\"], metadata_df[\"Study UID\"])\n"
   ]
  },
  {
   "cell_type": "code",
   "execution_count": 260,
   "id": "20702449-fe9f-46d7-a3a7-3e441ed9f6ae",
   "metadata": {
    "scrolled": true
   },
   "outputs": [
    {
     "data": {
      "text/html": [
       "<div>\n",
       "<style scoped>\n",
       "    .dataframe tbody tr th:only-of-type {\n",
       "        vertical-align: middle;\n",
       "    }\n",
       "\n",
       "    .dataframe tbody tr th {\n",
       "        vertical-align: top;\n",
       "    }\n",
       "\n",
       "    .dataframe thead th {\n",
       "        text-align: right;\n",
       "    }\n",
       "</style>\n",
       "<table border=\"1\" class=\"dataframe\">\n",
       "  <thead>\n",
       "    <tr style=\"text-align: right;\">\n",
       "      <th></th>\n",
       "      <th>image_id</th>\n",
       "      <th>image_type</th>\n",
       "      <th>image_path</th>\n",
       "      <th>series_uid</th>\n",
       "      <th>subject_id</th>\n",
       "      <th>study_uid</th>\n",
       "    </tr>\n",
       "  </thead>\n",
       "  <tbody>\n",
       "    <tr>\n",
       "      <th>0</th>\n",
       "      <td>91132_01</td>\n",
       "      <td>cropped</td>\n",
       "      <td>CBIS-DDSM_Clean_Data/labeled_images_png/1.3.6....</td>\n",
       "      <td>1.3.6.1.4.1.9590.100.1.2.100018879311824535125...</td>\n",
       "      <td>Calc-Training_P_01128_RIGHT_CC_1</td>\n",
       "      <td>1.3.6.1.4.1.9590.100.1.2.346810468613236696616...</td>\n",
       "    </tr>\n",
       "    <tr>\n",
       "      <th>1</th>\n",
       "      <td>91132_02</td>\n",
       "      <td>roi</td>\n",
       "      <td>CBIS-DDSM_Clean_Data/labeled_images_png/1.3.6....</td>\n",
       "      <td>1.3.6.1.4.1.9590.100.1.2.100018879311824535125...</td>\n",
       "      <td>Calc-Training_P_01128_RIGHT_CC_1</td>\n",
       "      <td>1.3.6.1.4.1.9590.100.1.2.346810468613236696616...</td>\n",
       "    </tr>\n",
       "    <tr>\n",
       "      <th>2</th>\n",
       "      <td>51547_00</td>\n",
       "      <td>full</td>\n",
       "      <td>CBIS-DDSM_Clean_Data/labeled_images_png/1.3.6....</td>\n",
       "      <td>1.3.6.1.4.1.9590.100.1.2.100131208110604806117...</td>\n",
       "      <td>Calc-Training_P_01107_LEFT_CC</td>\n",
       "      <td>1.3.6.1.4.1.9590.100.1.2.113816182611334006337...</td>\n",
       "    </tr>\n",
       "  </tbody>\n",
       "</table>\n",
       "</div>"
      ],
      "text/plain": [
       "   image_id image_type                                         image_path  \\\n",
       "0  91132_01    cropped  CBIS-DDSM_Clean_Data/labeled_images_png/1.3.6....   \n",
       "1  91132_02        roi  CBIS-DDSM_Clean_Data/labeled_images_png/1.3.6....   \n",
       "2  51547_00       full  CBIS-DDSM_Clean_Data/labeled_images_png/1.3.6....   \n",
       "\n",
       "                                          series_uid  \\\n",
       "0  1.3.6.1.4.1.9590.100.1.2.100018879311824535125...   \n",
       "1  1.3.6.1.4.1.9590.100.1.2.100018879311824535125...   \n",
       "2  1.3.6.1.4.1.9590.100.1.2.100131208110604806117...   \n",
       "\n",
       "                         subject_id  \\\n",
       "0  Calc-Training_P_01128_RIGHT_CC_1   \n",
       "1  Calc-Training_P_01128_RIGHT_CC_1   \n",
       "2     Calc-Training_P_01107_LEFT_CC   \n",
       "\n",
       "                                           study_uid  \n",
       "0  1.3.6.1.4.1.9590.100.1.2.346810468613236696616...  \n",
       "1  1.3.6.1.4.1.9590.100.1.2.346810468613236696616...  \n",
       "2  1.3.6.1.4.1.9590.100.1.2.113816182611334006337...  "
      ]
     },
     "execution_count": 260,
     "metadata": {},
     "output_type": "execute_result"
    }
   ],
   "source": [
    "images_data.iloc[:3]"
   ]
  },
  {
   "cell_type": "markdown",
   "id": "d694b77e-862e-471c-b0ae-6906c6901981",
   "metadata": {},
   "source": [
    "#### Extract description data\n",
    "The description files contain three columns to specify the series that are part of one description. However, to find the data we need to identify what series column should be used (full, roi, or cropped). Moreover, it needs to be verifyied if all matched images found per column  match their respective data."
   ]
  },
  {
   "cell_type": "code",
   "execution_count": 261,
   "id": "67767854-2387-4730-857f-cdee7f955e6f",
   "metadata": {},
   "outputs": [
    {
     "data": {
      "text/plain": [
       "0    cropped\n",
       "1        roi\n",
       "2       full\n",
       "3       full\n",
       "Name: image_type, dtype: object"
      ]
     },
     "execution_count": 261,
     "metadata": {},
     "output_type": "execute_result"
    }
   ],
   "source": [
    "images_data[\"image_type\"][:4]"
   ]
  },
  {
   "cell_type": "code",
   "execution_count": 262,
   "id": "b7491a91-9c71-4e8f-9f18-fbba7096d7dd",
   "metadata": {},
   "outputs": [],
   "source": [
    "# Function for matching images paths to description data \n",
    "def get_images_description(images_series, image_types, descr_series_cols, descr_data):\n",
    "    rows = [None] * len(images_series)\n",
    "    multi_label_images = []\n",
    "    not_found = []\n",
    "    for i, serie, im_type in zip(range(len(images_series)), images_series, image_types):\n",
    "        \n",
    "        # makes sure the series is in the descriptions data \n",
    "        if im_type == \"full\": \n",
    "            matched_rows = descr_data[descr_series_cols[0] == serie]\n",
    "        elif im_type == \"cropped\":\n",
    "            matched_rows = descr_data[descr_series_cols[1] == serie]\n",
    "        elif im_type == \"roi\":\n",
    "            matched_rows = descr_data[descr_series_cols[2] == serie]\n",
    "            \n",
    "        # Makes sure the data is identical in the rows found\n",
    "        if len(matched_rows) > 1:\n",
    "            identical = (matched_rows == matched_rows.iloc[0]).all().all()\n",
    "            if identical:\n",
    "                rows[i] = list(matched_rows.iloc[0])\n",
    "            else:\n",
    "                rows[i] = [None] * len(matched_rows.iloc[0])\n",
    "                multi_label_images.append(serie)\n",
    "        elif len(matched_rows) == 1:\n",
    "            rows[i] = list(matched_rows.iloc[0])\n",
    "        else:\n",
    "            rows[i] = [None] * 6\n",
    "            not_found.append(serie)\n",
    "    print(\"Number of cases that contain multiple labels for one image: \", len(multi_label_images))\n",
    "    print(\"Number of series that where NOT found in the description data: \", len(not_found))\n",
    "    return rows, multi_label_images, not_found\n",
    "        \n",
    "        \n",
    "\n"
   ]
  },
  {
   "cell_type": "code",
   "execution_count": 263,
   "id": "247a3b9f-faa2-49e6-ad01-333bcff9e509",
   "metadata": {
    "scrolled": true
   },
   "outputs": [
    {
     "name": "stdout",
     "output_type": "stream",
     "text": [
      "Number of cases that contain multiple labels for one image:  19\n",
      "Number of series that where NOT found in the description data:  2\n"
     ]
    },
    {
     "data": {
      "text/plain": [
       "[np.int64(3), 'RIGHT', 'CC', 'calcification', 'MALIGNANT', 'train']"
      ]
     },
     "execution_count": 263,
     "metadata": {},
     "output_type": "execute_result"
    }
   ],
   "source": [
    "# Adds Description data to new dataframe\n",
    "col_names = [\"breast_density\", \"breast_side\", \"image_view\", \"abnormality_type\", \"pathology\", \"split\", \"series_uid_full\", \"series_uid_crop\", \"series_uid_roi\"] \n",
    "all_desc_data = pd.concat([train_desc[col_names], test_desc[col_names]], ignore_index=True)\n",
    "images_desc, multi_label_cases, not_found_cases = get_images_description(images_series,\n",
    "                                                 images_data[\"image_type\"],\n",
    "                                                 [all_desc_data[\"series_uid_full\"], all_desc_data[\"series_uid_crop\"], all_desc_data[\"series_uid_roi\"]],\n",
    "                                                 all_desc_data[all_desc_data.columns[:6]] )\n",
    "images_desc[0]"
   ]
  },
  {
   "cell_type": "markdown",
   "id": "9de27997-3800-445f-bc2b-98e0deffb3e5",
   "metadata": {},
   "source": [
    "#### Combine metadata, paths and description data"
   ]
  },
  {
   "cell_type": "code",
   "execution_count": 264,
   "id": "b75cd585-8a3b-4822-a46a-97c462fd13e3",
   "metadata": {},
   "outputs": [
    {
     "data": {
      "text/html": [
       "<div>\n",
       "<style scoped>\n",
       "    .dataframe tbody tr th:only-of-type {\n",
       "        vertical-align: middle;\n",
       "    }\n",
       "\n",
       "    .dataframe tbody tr th {\n",
       "        vertical-align: top;\n",
       "    }\n",
       "\n",
       "    .dataframe thead th {\n",
       "        text-align: right;\n",
       "    }\n",
       "</style>\n",
       "<table border=\"1\" class=\"dataframe\">\n",
       "  <thead>\n",
       "    <tr style=\"text-align: right;\">\n",
       "      <th></th>\n",
       "      <th>breast_density</th>\n",
       "      <th>breast_side</th>\n",
       "      <th>image_view</th>\n",
       "      <th>abnormality_type</th>\n",
       "      <th>pathology</th>\n",
       "      <th>split</th>\n",
       "    </tr>\n",
       "  </thead>\n",
       "  <tbody>\n",
       "    <tr>\n",
       "      <th>0</th>\n",
       "      <td>3.0</td>\n",
       "      <td>RIGHT</td>\n",
       "      <td>CC</td>\n",
       "      <td>calcification</td>\n",
       "      <td>MALIGNANT</td>\n",
       "      <td>train</td>\n",
       "    </tr>\n",
       "    <tr>\n",
       "      <th>1</th>\n",
       "      <td>3.0</td>\n",
       "      <td>RIGHT</td>\n",
       "      <td>CC</td>\n",
       "      <td>calcification</td>\n",
       "      <td>MALIGNANT</td>\n",
       "      <td>train</td>\n",
       "    </tr>\n",
       "    <tr>\n",
       "      <th>2</th>\n",
       "      <td>2.0</td>\n",
       "      <td>LEFT</td>\n",
       "      <td>CC</td>\n",
       "      <td>calcification</td>\n",
       "      <td>BENIGN</td>\n",
       "      <td>train</td>\n",
       "    </tr>\n",
       "    <tr>\n",
       "      <th>3</th>\n",
       "      <td>2.0</td>\n",
       "      <td>LEFT</td>\n",
       "      <td>MLO</td>\n",
       "      <td>mass</td>\n",
       "      <td>MALIGNANT</td>\n",
       "      <td>test</td>\n",
       "    </tr>\n",
       "  </tbody>\n",
       "</table>\n",
       "</div>"
      ],
      "text/plain": [
       "   breast_density breast_side image_view abnormality_type  pathology  split\n",
       "0             3.0       RIGHT         CC    calcification  MALIGNANT  train\n",
       "1             3.0       RIGHT         CC    calcification  MALIGNANT  train\n",
       "2             2.0        LEFT         CC    calcification     BENIGN  train\n",
       "3             2.0        LEFT        MLO             mass  MALIGNANT   test"
      ]
     },
     "execution_count": 264,
     "metadata": {},
     "output_type": "execute_result"
    }
   ],
   "source": [
    "# create a dataframe \n",
    "images_desc_df = pd.DataFrame(images_desc, columns=col_names[:6])\n",
    "images_desc_df[:4]"
   ]
  },
  {
   "cell_type": "code",
   "execution_count": 265,
   "id": "a508c742-bc38-4376-b234-f3b8989f72c6",
   "metadata": {
    "scrolled": true
   },
   "outputs": [
    {
     "data": {
      "text/plain": [
       "image_id                                                     91565_02\n",
       "image_type                                                        roi\n",
       "image_path          CBIS-DDSM_Clean_Data/labeled_images_png/1.3.6....\n",
       "series_uid          1.3.6.1.4.1.9590.100.1.2.276112479100234745155...\n",
       "subject_id                           Calc-Training_P_00474_LEFT_MLO_1\n",
       "study_uid           1.3.6.1.4.1.9590.100.1.2.317367128312662574506...\n",
       "breast_density                                                    NaN\n",
       "breast_side                                                      None\n",
       "image_view                                                       None\n",
       "abnormality_type                                                 None\n",
       "pathology                                                        None\n",
       "split                                                            None\n",
       "Name: 4765, dtype: object"
      ]
     },
     "execution_count": 265,
     "metadata": {},
     "output_type": "execute_result"
    }
   ],
   "source": [
    "# combine images data (files paths and metadata) with description data \n",
    "all_images_data = pd.DataFrame()\n",
    "all_images_data = pd.concat([images_data, images_desc_df], axis=1)\n",
    "all_images_data.iloc[4765]"
   ]
  },
  {
   "cell_type": "code",
   "execution_count": 266,
   "id": "7aaf9ce1-1fc9-4b22-9c14-f96a66480c4f",
   "metadata": {},
   "outputs": [
    {
     "data": {
      "text/plain": [
       "10239"
      ]
     },
     "execution_count": 266,
     "metadata": {},
     "output_type": "execute_result"
    }
   ],
   "source": [
    "len(all_images_data)"
   ]
  },
  {
   "cell_type": "code",
   "execution_count": 267,
   "id": "104ad320-e67b-410e-82d0-b5cf651a5885",
   "metadata": {},
   "outputs": [
    {
     "data": {
      "text/plain": [
       "10218"
      ]
     },
     "execution_count": 267,
     "metadata": {},
     "output_type": "execute_result"
    }
   ],
   "source": [
    "# remove rows that include None\n",
    "all_images_data = all_images_data[all_images_data[\"pathology\"].notna()]\n",
    "len(all_images_data) "
   ]
  },
  {
   "cell_type": "markdown",
   "id": "39f9ae80-0902-42da-939c-0d5a19d5cb4b",
   "metadata": {},
   "source": [
    "### Spliting Stage\n",
    "#### Separate full images, cropped and ROIs masks"
   ]
  },
  {
   "cell_type": "code",
   "execution_count": 268,
   "id": "2dab286b-7a4d-40e6-9ea3-3ca847c0d35e",
   "metadata": {},
   "outputs": [
    {
     "data": {
      "text/html": [
       "<div>\n",
       "<style scoped>\n",
       "    .dataframe tbody tr th:only-of-type {\n",
       "        vertical-align: middle;\n",
       "    }\n",
       "\n",
       "    .dataframe tbody tr th {\n",
       "        vertical-align: top;\n",
       "    }\n",
       "\n",
       "    .dataframe thead th {\n",
       "        text-align: right;\n",
       "    }\n",
       "</style>\n",
       "<table border=\"1\" class=\"dataframe\">\n",
       "  <thead>\n",
       "    <tr style=\"text-align: right;\">\n",
       "      <th></th>\n",
       "      <th>image_id</th>\n",
       "      <th>image_type</th>\n",
       "      <th>image_path</th>\n",
       "      <th>series_uid</th>\n",
       "      <th>subject_id</th>\n",
       "      <th>study_uid</th>\n",
       "      <th>breast_density</th>\n",
       "      <th>breast_side</th>\n",
       "      <th>image_view</th>\n",
       "      <th>abnormality_type</th>\n",
       "      <th>pathology</th>\n",
       "      <th>split</th>\n",
       "    </tr>\n",
       "  </thead>\n",
       "  <tbody>\n",
       "    <tr>\n",
       "      <th>2</th>\n",
       "      <td>51547_00</td>\n",
       "      <td>full</td>\n",
       "      <td>CBIS-DDSM_Clean_Data/labeled_images_png/1.3.6....</td>\n",
       "      <td>1.3.6.1.4.1.9590.100.1.2.100131208110604806117...</td>\n",
       "      <td>Calc-Training_P_01107_LEFT_CC</td>\n",
       "      <td>1.3.6.1.4.1.9590.100.1.2.113816182611334006337...</td>\n",
       "      <td>2.0</td>\n",
       "      <td>LEFT</td>\n",
       "      <td>CC</td>\n",
       "      <td>calcification</td>\n",
       "      <td>BENIGN</td>\n",
       "      <td>train</td>\n",
       "    </tr>\n",
       "    <tr>\n",
       "      <th>3</th>\n",
       "      <td>62869_00</td>\n",
       "      <td>full</td>\n",
       "      <td>CBIS-DDSM_Clean_Data/labeled_images_png/1.3.6....</td>\n",
       "      <td>1.3.6.1.4.1.9590.100.1.2.100522099512256189513...</td>\n",
       "      <td>Mass-Test_P_00576_LEFT_MLO</td>\n",
       "      <td>1.3.6.1.4.1.9590.100.1.2.286066835611001826026...</td>\n",
       "      <td>2.0</td>\n",
       "      <td>LEFT</td>\n",
       "      <td>MLO</td>\n",
       "      <td>mass</td>\n",
       "      <td>MALIGNANT</td>\n",
       "      <td>test</td>\n",
       "    </tr>\n",
       "    <tr>\n",
       "      <th>4</th>\n",
       "      <td>45647_00</td>\n",
       "      <td>full</td>\n",
       "      <td>CBIS-DDSM_Clean_Data/labeled_images_png/1.3.6....</td>\n",
       "      <td>1.3.6.1.4.1.9590.100.1.2.100522676511025180541...</td>\n",
       "      <td>Mass-Test_P_01510_RIGHT_MLO</td>\n",
       "      <td>1.3.6.1.4.1.9590.100.1.2.403479789212123359501...</td>\n",
       "      <td>4.0</td>\n",
       "      <td>RIGHT</td>\n",
       "      <td>MLO</td>\n",
       "      <td>mass</td>\n",
       "      <td>BENIGN</td>\n",
       "      <td>test</td>\n",
       "    </tr>\n",
       "    <tr>\n",
       "      <th>7</th>\n",
       "      <td>99884_00</td>\n",
       "      <td>full</td>\n",
       "      <td>CBIS-DDSM_Clean_Data/labeled_images_png/1.3.6....</td>\n",
       "      <td>1.3.6.1.4.1.9590.100.1.2.100579676611077714807...</td>\n",
       "      <td>Calc-Training_P_00685_RIGHT_CC</td>\n",
       "      <td>1.3.6.1.4.1.9590.100.1.2.137434121012998881531...</td>\n",
       "      <td>3.0</td>\n",
       "      <td>RIGHT</td>\n",
       "      <td>CC</td>\n",
       "      <td>calcification</td>\n",
       "      <td>MALIGNANT</td>\n",
       "      <td>train</td>\n",
       "    </tr>\n",
       "  </tbody>\n",
       "</table>\n",
       "</div>"
      ],
      "text/plain": [
       "   image_id image_type                                         image_path  \\\n",
       "2  51547_00       full  CBIS-DDSM_Clean_Data/labeled_images_png/1.3.6....   \n",
       "3  62869_00       full  CBIS-DDSM_Clean_Data/labeled_images_png/1.3.6....   \n",
       "4  45647_00       full  CBIS-DDSM_Clean_Data/labeled_images_png/1.3.6....   \n",
       "7  99884_00       full  CBIS-DDSM_Clean_Data/labeled_images_png/1.3.6....   \n",
       "\n",
       "                                          series_uid  \\\n",
       "2  1.3.6.1.4.1.9590.100.1.2.100131208110604806117...   \n",
       "3  1.3.6.1.4.1.9590.100.1.2.100522099512256189513...   \n",
       "4  1.3.6.1.4.1.9590.100.1.2.100522676511025180541...   \n",
       "7  1.3.6.1.4.1.9590.100.1.2.100579676611077714807...   \n",
       "\n",
       "                       subject_id  \\\n",
       "2   Calc-Training_P_01107_LEFT_CC   \n",
       "3      Mass-Test_P_00576_LEFT_MLO   \n",
       "4     Mass-Test_P_01510_RIGHT_MLO   \n",
       "7  Calc-Training_P_00685_RIGHT_CC   \n",
       "\n",
       "                                           study_uid  breast_density  \\\n",
       "2  1.3.6.1.4.1.9590.100.1.2.113816182611334006337...             2.0   \n",
       "3  1.3.6.1.4.1.9590.100.1.2.286066835611001826026...             2.0   \n",
       "4  1.3.6.1.4.1.9590.100.1.2.403479789212123359501...             4.0   \n",
       "7  1.3.6.1.4.1.9590.100.1.2.137434121012998881531...             3.0   \n",
       "\n",
       "  breast_side image_view abnormality_type  pathology  split  \n",
       "2        LEFT         CC    calcification     BENIGN  train  \n",
       "3        LEFT        MLO             mass  MALIGNANT   test  \n",
       "4       RIGHT        MLO             mass     BENIGN   test  \n",
       "7       RIGHT         CC    calcification  MALIGNANT  train  "
      ]
     },
     "execution_count": 268,
     "metadata": {},
     "output_type": "execute_result"
    }
   ],
   "source": [
    "# Separate type of images by group \n",
    "full_images = all_images_data[all_images_data[\"image_type\"] == \"full\"]\n",
    "cropped_images = all_images_data[all_images_data[\"image_type\"] == \"cropped\"]\n",
    "roi_images = all_images_data[all_images_data[\"image_type\"] == \"roi\"]\n",
    "full_images[:4]"
   ]
  },
  {
   "cell_type": "markdown",
   "id": "976e6c4e-ad84-413d-aed2-e88a414b011c",
   "metadata": {},
   "source": [
    "#### Split data based on split marker"
   ]
  },
  {
   "cell_type": "code",
   "execution_count": 269,
   "id": "84f1c278-db24-4533-996e-7e3e4cac2045",
   "metadata": {},
   "outputs": [
    {
     "name": "stdout",
     "output_type": "stream",
     "text": [
      "\n",
      "Training set size: 2443\n",
      "Testing set size: 641 \n",
      "\n",
      "Total full images cases:  3084\n",
      "Train/Test ratio: 0.7921530479896238  /  0.20784695201037615\n"
     ]
    }
   ],
   "source": [
    "train_full = full_images[full_images[\"split\"] == \"train\"]\n",
    "test_full = full_images[full_images[\"split\"] == \"test\"]\n",
    "total_full = (len(train_full) + len(test_full))\n",
    "print(\"\\nTraining set size:\", len(train_full))\n",
    "print(\"Testing set size:\", len(test_full), \"\\n\")\n",
    "print(\"Total full images cases: \", total_full)\n",
    "print(\"Train/Test ratio:\", (len(train_full) / total_full), \" / \", (len(test_full) / total_full))"
   ]
  },
  {
   "cell_type": "code",
   "execution_count": 270,
   "id": "76358230-22c0-4e9b-b865-7cda5805a0b5",
   "metadata": {},
   "outputs": [
    {
     "name": "stdout",
     "output_type": "stream",
     "text": [
      "image_id                                                     51547_00\n",
      "image_type                                                       full\n",
      "image_path          CBIS-DDSM_Clean_Data/labeled_images_png/1.3.6....\n",
      "series_uid          1.3.6.1.4.1.9590.100.1.2.100131208110604806117...\n",
      "subject_id                              Calc-Training_P_01107_LEFT_CC\n",
      "study_uid           1.3.6.1.4.1.9590.100.1.2.113816182611334006337...\n",
      "breast_density                                                    2.0\n",
      "breast_side                                                      LEFT\n",
      "image_view                                                         CC\n",
      "abnormality_type                                        calcification\n",
      "pathology                                                      BENIGN\n",
      "split                                                           train\n",
      "Name: 2, dtype: object \n",
      "\n",
      "image_id                                                     62869_00\n",
      "image_type                                                       full\n",
      "image_path          CBIS-DDSM_Clean_Data/labeled_images_png/1.3.6....\n",
      "series_uid          1.3.6.1.4.1.9590.100.1.2.100522099512256189513...\n",
      "subject_id                                 Mass-Test_P_00576_LEFT_MLO\n",
      "study_uid           1.3.6.1.4.1.9590.100.1.2.286066835611001826026...\n",
      "breast_density                                                    2.0\n",
      "breast_side                                                      LEFT\n",
      "image_view                                                        MLO\n",
      "abnormality_type                                                 mass\n",
      "pathology                                                   MALIGNANT\n",
      "split                                                            test\n",
      "Name: 3, dtype: object\n"
     ]
    }
   ],
   "source": [
    "print(train_full.iloc[0], \"\\n\")\n",
    "print(test_full.iloc[0])"
   ]
  },
  {
   "cell_type": "markdown",
   "id": "f85e1fe4-0b5b-406d-bedb-f720e0ca5216",
   "metadata": {},
   "source": [
    "### Labels Distribution \n",
    "The following code shows the number of cases per class."
   ]
  },
  {
   "cell_type": "code",
   "execution_count": 292,
   "id": "7e4e6b17-d969-4f55-bfd2-8ae9540e55ce",
   "metadata": {},
   "outputs": [
    {
     "name": "stdout",
     "output_type": "stream",
     "text": [
      "Total of training cases:  2443\n",
      "Total of benign + malignant cases:  2123 \n",
      "\n",
      "Malignant:  1098 cases. 51.71926519076778 % of malignant plus benignant\n",
      "Benignant:  1025 cases. 48.28073480923222 % of malignant plus benignant\n",
      "\n",
      "Benignant without call back:  320\n"
     ]
    }
   ],
   "source": [
    "total = len(train_full[\"pathology\"])\n",
    "malignant = len(train_full[\"pathology\"][train_full[\"pathology\"] == \"MALIGNANT\"])\n",
    "benignant = len(train_full[\"pathology\"][train_full[\"pathology\"] == \"BENIGN\"])\n",
    "benignant_wo_call = len(train_full[\"pathology\"][train_full[\"pathology\"] == \"BENIGN_WITHOUT_CALLBACK\"])\n",
    "\n",
    "print(\"Total of training cases: \", total)\n",
    "print(\"Total of benign + malignant cases: \", malignant + benignant, \"\\n\")\n",
    "print(\"Malignant: \", malignant, \"cases.\", malignant * 100 / (malignant + benignant), \"% of malignant plus benignant\")\n",
    "print(\"Benignant: \", benignant, \"cases.\", benignant * 100 / (malignant + benignant), \"% of malignant plus benignant\\n\")\n",
    "print(\"Benignant without call back: \", benignant_wo_call)"
   ]
  },
  {
   "cell_type": "code",
   "execution_count": 293,
   "id": "2d5f89e0-ea4e-43d0-a217-338d44460f27",
   "metadata": {},
   "outputs": [
    {
     "name": "stdout",
     "output_type": "stream",
     "text": [
      "Total of testing cases:  641\n",
      "Total of benign + malignant cases:  562 \n",
      "\n",
      "Malignant:  260 cases. 46.263345195729535 % of malignant plus benignant\n",
      "Benignant:  302 cases. 53.736654804270465 % of malignant plus benignant\n",
      "\n",
      "Benignant without call back:  79\n"
     ]
    }
   ],
   "source": [
    "total = len(test_full[\"pathology\"])\n",
    "malignant = len(test_full[\"pathology\"][test_full[\"pathology\"] == \"MALIGNANT\"])\n",
    "benignant = len(test_full[\"pathology\"][test_full[\"pathology\"] == \"BENIGN\"])\n",
    "benignant_wo_call = len(test_full[\"pathology\"][test_full[\"pathology\"] == \"BENIGN_WITHOUT_CALLBACK\"])\n",
    "\n",
    "print(\"Total of testing cases: \", total)\n",
    "print(\"Total of benign + malignant cases: \", malignant + benignant, \"\\n\")\n",
    "print(\"Malignant: \", malignant, \"cases.\", malignant * 100 / (malignant + benignant), \"% of malignant plus benignant\")\n",
    "print(\"Benignant: \", benignant, \"cases.\", benignant * 100 / (malignant + benignant), \"% of malignant plus benignant\\n\")\n",
    "print(\"Benignant without call back: \", benignant_wo_call)"
   ]
  },
  {
   "cell_type": "markdown",
   "id": "660d8a34-e5ec-4535-9808-5d6423be1e50",
   "metadata": {},
   "source": [
    "Due to class imbalnce the of benign without call back that class will be removed therefor the train and test set will be a binary classification of malignant vs benignant pathology."
   ]
  },
  {
   "cell_type": "code",
   "execution_count": 294,
   "id": "3e91122e-c668-4dad-9fcd-6519cd8d4faa",
   "metadata": {},
   "outputs": [],
   "source": [
    "# removes the \"beign without callback\" cases\n",
    "train_full = train_full[train_full[\"pathology\"] != \"BENIGN_WITHOUT_CALLBACK\"]\n",
    "test_full = test_full[test_full[\"pathology\"] != \"BENIGN_WITHOUT_CALLBACK\"]\n"
   ]
  },
  {
   "cell_type": "code",
   "execution_count": 296,
   "id": "6b7fcc73-f7ab-4946-9603-045d27e7f432",
   "metadata": {},
   "outputs": [
    {
     "data": {
      "text/plain": [
       "3        MALIGNANT\n",
       "4           BENIGN\n",
       "9        MALIGNANT\n",
       "24          BENIGN\n",
       "27       MALIGNANT\n",
       "           ...    \n",
       "10205    MALIGNANT\n",
       "10208    MALIGNANT\n",
       "10214       BENIGN\n",
       "10218    MALIGNANT\n",
       "10219       BENIGN\n",
       "Name: pathology, Length: 562, dtype: object"
      ]
     },
     "execution_count": 296,
     "metadata": {},
     "output_type": "execute_result"
    }
   ],
   "source": [
    "test_full[\"pathology\"]"
   ]
  },
  {
   "cell_type": "markdown",
   "id": "3186f764-3e82-444f-a650-bdfe6972609f",
   "metadata": {},
   "source": [
    "###  Image Size"
   ]
  },
  {
   "cell_type": "code",
   "execution_count": 297,
   "id": "7036f081-4304-4d5f-95fe-1df527d96fa8",
   "metadata": {},
   "outputs": [],
   "source": [
    "# Gets image sizes\n",
    "from PIL import Image\n",
    "\n",
    "sizes_train = []\n",
    "for path in train_full[\"image_path\"]:\n",
    "    with Image.open(path) as img:\n",
    "        width, height = img.size\n",
    "        sizes_train.append([width, height])"
   ]
  },
  {
   "cell_type": "code",
   "execution_count": 282,
   "id": "d19fbdd3-a2a1-4440-b027-d4f71d9500d8",
   "metadata": {},
   "outputs": [
    {
     "data": {
      "text/plain": [
       "[[3826, 6601], [2952, 4504], [3480, 5992], [3166, 6256], [2896, 4504]]"
      ]
     },
     "execution_count": 282,
     "metadata": {},
     "output_type": "execute_result"
    }
   ],
   "source": [
    "sizes_train[:5]"
   ]
  },
  {
   "cell_type": "markdown",
   "id": "658d888d-9df1-4d86-b4ef-accb01849ddc",
   "metadata": {},
   "source": [
    "### Save new organized data in Dataframe\n",
    "Save full images data to csv files to be used in model training"
   ]
  },
  {
   "cell_type": "code",
   "execution_count": 298,
   "id": "6ac69faa-4e33-416e-aa20-af93e6c17079",
   "metadata": {
    "scrolled": true
   },
   "outputs": [
    {
     "data": {
      "text/plain": [
       "Index(['image_id', 'image_type', 'image_path', 'series_uid', 'subject_id',\n",
       "       'study_uid', 'breast_density', 'breast_side', 'image_view',\n",
       "       'abnormality_type', 'pathology', 'split'],\n",
       "      dtype='object')"
      ]
     },
     "execution_count": 298,
     "metadata": {},
     "output_type": "execute_result"
    }
   ],
   "source": [
    "train_full.columns"
   ]
  },
  {
   "cell_type": "code",
   "execution_count": 299,
   "id": "2109594f-74dd-49bc-93c9-d44c2ba07d81",
   "metadata": {},
   "outputs": [],
   "source": [
    "# save full images dta to csv files to be used in model training\n",
    "train_full.to_csv(\"CBIS-DDSM_Clean_Data/train_full.csv\", index=False)\n",
    "test_full.to_csv(\"CBIS-DDSM_Clean_Data/test_full.csv\", index=False)"
   ]
  },
  {
   "cell_type": "markdown",
   "id": "fdeb2682-4554-4cc2-a279-dbf0cd483fa3",
   "metadata": {},
   "source": [
    "### Save full images in new directory"
   ]
  },
  {
   "cell_type": "code",
   "execution_count": null,
   "id": "12016ce6-73dc-45de-9451-c948d5796d60",
   "metadata": {},
   "outputs": [],
   "source": [
    "# def save_full_images(dset):\n",
    "#     # parent directory\n",
    "#     parent_dir = \"CBIS-DDSM_Clean_Data/full_images/\"\n",
    "#     os.makedirs(parent_dir, exist_ok=True)\n",
    "    \n",
    "#     for path in dset[\"image_path\"]:\n",
    "            \n",
    "#         # loads image\n",
    "#         image = cv2.imread(path, cv2.IMREAD_GRAYSCALE)\n",
    "        \n",
    "#         # creates path and saves image\n",
    "#         file_name = path.split(\"/\")[-1]\n",
    "        \n",
    "#         im_path = os.path.join(parent_dir, file_name)\n",
    "#         cv2.imwrite(im_path, image)"
   ]
  }
 ],
 "metadata": {
  "kernelspec": {
   "display_name": "Python (DQNvenv)",
   "language": "python",
   "name": "dqnvenv"
  },
  "language_info": {
   "codemirror_mode": {
    "name": "ipython",
    "version": 3
   },
   "file_extension": ".py",
   "mimetype": "text/x-python",
   "name": "python",
   "nbconvert_exporter": "python",
   "pygments_lexer": "ipython3",
   "version": "3.11.11"
  }
 },
 "nbformat": 4,
 "nbformat_minor": 5
}
