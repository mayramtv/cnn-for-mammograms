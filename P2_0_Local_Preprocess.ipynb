{
 "cells": [
  {
   "cell_type": "markdown",
   "id": "50e99e55-341e-43da-8c1f-afee52bb0e3c",
   "metadata": {},
   "source": [
    "# Phase 2: Find Processing Techniques\n",
    "## Preprocess Images Locally\n",
    "### Import Libraries and Scripts "
   ]
  },
  {
   "cell_type": "code",
   "execution_count": 17,
   "id": "96fd6e95-d1fa-48f2-bd0c-3bef4f9577fc",
   "metadata": {},
   "outputs": [],
   "source": [
    "%reload_ext autoreload\n",
    "%autoreload 2"
   ]
  },
  {
   "cell_type": "code",
   "execution_count": 2,
   "id": "cbec7fd7-6fc7-4346-ae93-4d26542a2e6b",
   "metadata": {},
   "outputs": [],
   "source": [
    "# import functions \n",
    "from Utils.preporcessing_utils import data_loading \n",
    "from Utils.preporcessing_utils import labels_encoding\n",
    "from Utils.preporcessing_utils import split_data\n",
    "from Utils.preporcessing_utils import ablation\n",
    "from Utils.preporcessing_utils import combination\n",
    "from Utils.preporcessing_utils import preprocess_locally"
   ]
  },
  {
   "cell_type": "markdown",
   "id": "96d45554-3efd-41ca-b5b0-8e68c3b7de7f",
   "metadata": {},
   "source": [
    "### Data Preparation and Basic Preprocessing"
   ]
  },
  {
   "cell_type": "code",
   "execution_count": 3,
   "id": "33cd2722-e9fc-41e5-87fa-0d54425feec0",
   "metadata": {},
   "outputs": [],
   "source": [
    "# Loads data\n",
    "train_df, test_df = data_loading(\"train_full.csv\", \"test_full.csv\")"
   ]
  },
  {
   "cell_type": "code",
   "execution_count": 4,
   "id": "b5b047f1-562e-410c-a183-5745bdfca878",
   "metadata": {},
   "outputs": [],
   "source": [
    "# Create dataframe and transform(encodes) pathology labels\n",
    "train_df, test_df = labels_encoding(train_df, test_df)"
   ]
  },
  {
   "cell_type": "code",
   "execution_count": 5,
   "id": "beb30fc9-9569-40f2-9b0c-1095bafa070d",
   "metadata": {},
   "outputs": [
    {
     "data": {
      "text/plain": [
       "Index(['image_id', 'image_type', 'image_path', 'series_uid', 'subject_id',\n",
       "       'study_uid', 'breast_density', 'breast_side', 'image_view',\n",
       "       'abnormality_type', 'pathology', 'split', 'label'],\n",
       "      dtype='object')"
      ]
     },
     "execution_count": 5,
     "metadata": {},
     "output_type": "execute_result"
    }
   ],
   "source": [
    "train_df.columns"
   ]
  },
  {
   "cell_type": "code",
   "execution_count": 6,
   "id": "abc2cb65-26ed-4787-bb71-d66af7b29445",
   "metadata": {
    "scrolled": true
   },
   "outputs": [
    {
     "name": "stdout",
     "output_type": "stream",
     "text": [
      "Train set: 1889 cases, 70.35 %\n",
      "Validation set: 234 cases, 8.72 %\n",
      "Test set: 562 cases, 20.93 %\n"
     ]
    }
   ],
   "source": [
    "# Split data\n",
    "train_data, val_data, test_data = split_data(train_df, test_df, 0.11)"
   ]
  },
  {
   "cell_type": "markdown",
   "id": "e3891839-3d10-428b-90a1-708b44d7d6fe",
   "metadata": {},
   "source": [
    "### Create Preporcessing Groups By Using Ablation"
   ]
  },
  {
   "cell_type": "code",
   "execution_count": 7,
   "id": "a806ec0b-0461-449b-8323-b688fdf7e77a",
   "metadata": {},
   "outputs": [],
   "source": [
    "# create groups using ablation\n",
    "options = ['apply_background_removal',\n",
    "           'apply_crop',\n",
    "           'apply_noise_reduction',\n",
    "           'apply_contrast_enhancement',\n",
    "           'apply_edge_enhancement',\n",
    "           'apply_lbp_texturizer']"
   ]
  },
  {
   "cell_type": "code",
   "execution_count": 7,
   "id": "c526edd3-7ae2-433e-8008-af0a6d8be615",
   "metadata": {},
   "outputs": [],
   "source": [
    "# create group of techniques to try\n",
    "techniques_groups = ablation(options)"
   ]
  },
  {
   "cell_type": "code",
   "execution_count": 8,
   "id": "e2bc0106-c314-42ce-b165-fbc49d9cad65",
   "metadata": {},
   "outputs": [
    {
     "data": {
      "text/plain": [
       "{'apply_background_removal': False,\n",
       " 'apply_crop': False,\n",
       " 'apply_noise_reduction': False,\n",
       " 'apply_contrast_enhancement': False,\n",
       " 'apply_edge_enhancement': False,\n",
       " 'apply_lbp_texturizer': False}"
      ]
     },
     "execution_count": 8,
     "metadata": {},
     "output_type": "execute_result"
    }
   ],
   "source": [
    "techniques_groups[\"Baseline Basic Preporcessing\"]"
   ]
  },
  {
   "cell_type": "markdown",
   "id": "59071a7e-a304-413a-80cc-43b833865274",
   "metadata": {},
   "source": [
    "### Preprocesss Images Locally by using Ablation"
   ]
  },
  {
   "cell_type": "code",
   "execution_count": 9,
   "id": "6a115bc2-3d14-47fe-8b37-3ed872d3b407",
   "metadata": {
    "scrolled": true
   },
   "outputs": [
    {
     "name": "stdout",
     "output_type": "stream",
     "text": [
      "Saving images for Baseline Basic Preporcessing .....\n"
     ]
    },
    {
     "name": "stderr",
     "output_type": "stream",
     "text": [
      "I0000 00:00:1757771775.551650    1481 gpu_device.cc:2022] Created device /job:localhost/replica:0/task:0/device:GPU:0 with 5563 MB memory:  -> device: 0, name: NVIDIA GeForce RTX 4060 Laptop GPU, pci bus id: 0000:01:00.0, compute capability: 8.9\n"
     ]
    },
    {
     "name": "stdout",
     "output_type": "stream",
     "text": [
      "Finish saving images for Baseline Basic Preporcessing\n",
      "Saving images for All Preporcessing Techniques .....\n",
      "Finish saving images for All Preporcessing Techniques\n",
      "Saving images for No Background removal .....\n",
      "Finish saving images for No Background removal\n",
      "Saving images for No Crop .....\n",
      "Finish saving images for No Crop\n",
      "Saving images for No Noise reduction .....\n",
      "Finish saving images for No Noise reduction\n",
      "Saving images for No Contrast enhancement .....\n",
      "Finish saving images for No Contrast enhancement\n",
      "Saving images for No Edge enhancement .....\n",
      "Finish saving images for No Edge enhancement\n",
      "Saving images for No Lbp texturizer .....\n",
      "Finish saving images for No Lbp texturizer\n",
      "Saving images for Baseline Basic Preporcessing .....\n",
      "Finish saving images for Baseline Basic Preporcessing\n",
      "Saving images for All Preporcessing Techniques .....\n",
      "Finish saving images for All Preporcessing Techniques\n",
      "Saving images for No Background removal .....\n",
      "Finish saving images for No Background removal\n",
      "Saving images for No Crop .....\n",
      "Finish saving images for No Crop\n",
      "Saving images for No Noise reduction .....\n",
      "Finish saving images for No Noise reduction\n",
      "Saving images for No Contrast enhancement .....\n",
      "Finish saving images for No Contrast enhancement\n",
      "Saving images for No Edge enhancement .....\n",
      "Finish saving images for No Edge enhancement\n",
      "Saving images for No Lbp texturizer .....\n",
      "Finish saving images for No Lbp texturizer\n",
      "Saving images for Baseline Basic Preporcessing .....\n",
      "Finish saving images for Baseline Basic Preporcessing\n",
      "Saving images for All Preporcessing Techniques .....\n",
      "Finish saving images for All Preporcessing Techniques\n",
      "Saving images for No Background removal .....\n",
      "Finish saving images for No Background removal\n",
      "Saving images for No Crop .....\n",
      "Finish saving images for No Crop\n",
      "Saving images for No Noise reduction .....\n",
      "Finish saving images for No Noise reduction\n",
      "Saving images for No Contrast enhancement .....\n",
      "Finish saving images for No Contrast enhancement\n",
      "Saving images for No Edge enhancement .....\n",
      "Finish saving images for No Edge enhancement\n",
      "Saving images for No Lbp texturizer .....\n",
      "Finish saving images for No Lbp texturizer\n"
     ]
    }
   ],
   "source": [
    "# saves images locally \n",
    "preprocess_locally(train_data, techniques_groups)\n",
    "preprocess_locally(val_data, techniques_groups)\n",
    "preprocess_locally(test_data, techniques_groups)"
   ]
  },
  {
   "cell_type": "code",
   "execution_count": null,
   "id": "5c96685e-c04f-4c74-882f-4eb01c297a5a",
   "metadata": {},
   "outputs": [],
   "source": []
  },
  {
   "cell_type": "markdown",
   "id": "04fcdc69-e935-4b98-8fa6-ada0f1f1bdcc",
   "metadata": {},
   "source": [
    "### Create Preporcessing Groups By Using Combinations"
   ]
  },
  {
   "cell_type": "code",
   "execution_count": 8,
   "id": "979c3ce8-31fb-4eb9-94bc-8cb00815b93a",
   "metadata": {},
   "outputs": [],
   "source": [
    "# create groups using ablation\n",
    "options_c = ['apply_background_removal',\n",
    "           'apply_crop',\n",
    "           'apply_noise_reduction',\n",
    "           'apply_contrast_enhancement',\n",
    "           'apply_edge_enhancement',\n",
    "           'apply_lbp_texturizer']"
   ]
  },
  {
   "cell_type": "code",
   "execution_count": 9,
   "id": "002c2f46-e8d1-427a-8065-7f59fec15e7c",
   "metadata": {},
   "outputs": [],
   "source": [
    "# create group of techniques to try\n",
    "techniques_groups = combination(options_c)"
   ]
  },
  {
   "cell_type": "code",
   "execution_count": 10,
   "id": "7994af22-b32f-4cd8-a489-233b8a58e150",
   "metadata": {},
   "outputs": [
    {
     "data": {
      "text/plain": [
       "{'apply_background_removal': False,\n",
       " 'apply_crop': False,\n",
       " 'apply_noise_reduction': False,\n",
       " 'apply_contrast_enhancement': False,\n",
       " 'apply_edge_enhancement': False,\n",
       " 'apply_lbp_texturizer': False}"
      ]
     },
     "execution_count": 10,
     "metadata": {},
     "output_type": "execute_result"
    }
   ],
   "source": [
    "techniques_groups[\"Baseline Basic Preporcessing\"]"
   ]
  },
  {
   "cell_type": "markdown",
   "id": "a4546d70-5a92-46af-b481-1ec4a45a6bbb",
   "metadata": {},
   "source": [
    "### Preprocesss Images Locally by using Combination"
   ]
  },
  {
   "cell_type": "code",
   "execution_count": 11,
   "id": "3b5eb1cc-5acf-42e3-82f1-0b33b459b190",
   "metadata": {
    "scrolled": true
   },
   "outputs": [
    {
     "name": "stdout",
     "output_type": "stream",
     "text": [
      "Saving images for Baseline Basic Preporcessing .....\n"
     ]
    },
    {
     "name": "stderr",
     "output_type": "stream",
     "text": [
      "I0000 00:00:1757880030.099178   23251 gpu_device.cc:2022] Created device /job:localhost/replica:0/task:0/device:GPU:0 with 5563 MB memory:  -> device: 0, name: NVIDIA GeForce RTX 4060 Laptop GPU, pci bus id: 0000:01:00.0, compute capability: 8.9\n"
     ]
    },
    {
     "name": "stdout",
     "output_type": "stream",
     "text": [
      "Finish saving images for Baseline Basic Preporcessing\n",
      "Saving images for All Preporcessing Techniques .....\n",
      "Finish saving images for All Preporcessing Techniques\n",
      "Saving images for Add Background removal .....\n",
      "Finish saving images for Add Background removal\n",
      "Saving images for Add Crop .....\n",
      "Finish saving images for Add Crop\n",
      "Saving images for Add Noise reduction .....\n",
      "Finish saving images for Add Noise reduction\n",
      "Saving images for Add Contrast enhancement .....\n",
      "Finish saving images for Add Contrast enhancement\n",
      "Saving images for Add Edge enhancement .....\n",
      "Finish saving images for Add Edge enhancement\n",
      "Saving images for Add Lbp texturizer .....\n",
      "Finish saving images for Add Lbp texturizer\n",
      "Saving images for Baseline Basic Preporcessing .....\n",
      "Finish saving images for Baseline Basic Preporcessing\n",
      "Saving images for All Preporcessing Techniques .....\n",
      "Finish saving images for All Preporcessing Techniques\n",
      "Saving images for Add Background removal .....\n",
      "Finish saving images for Add Background removal\n",
      "Saving images for Add Crop .....\n",
      "Finish saving images for Add Crop\n",
      "Saving images for Add Noise reduction .....\n",
      "Finish saving images for Add Noise reduction\n",
      "Saving images for Add Contrast enhancement .....\n",
      "Finish saving images for Add Contrast enhancement\n",
      "Saving images for Add Edge enhancement .....\n",
      "Finish saving images for Add Edge enhancement\n",
      "Saving images for Add Lbp texturizer .....\n",
      "Finish saving images for Add Lbp texturizer\n",
      "Saving images for Baseline Basic Preporcessing .....\n",
      "Finish saving images for Baseline Basic Preporcessing\n",
      "Saving images for All Preporcessing Techniques .....\n",
      "Finish saving images for All Preporcessing Techniques\n",
      "Saving images for Add Background removal .....\n",
      "Finish saving images for Add Background removal\n",
      "Saving images for Add Crop .....\n",
      "Finish saving images for Add Crop\n",
      "Saving images for Add Noise reduction .....\n",
      "Finish saving images for Add Noise reduction\n",
      "Saving images for Add Contrast enhancement .....\n",
      "Finish saving images for Add Contrast enhancement\n",
      "Saving images for Add Edge enhancement .....\n",
      "Finish saving images for Add Edge enhancement\n",
      "Saving images for Add Lbp texturizer .....\n",
      "Finish saving images for Add Lbp texturizer\n"
     ]
    }
   ],
   "source": [
    "# saves images locally \n",
    "preprocess_locally(train_data, techniques_groups)\n",
    "preprocess_locally(val_data, techniques_groups)\n",
    "preprocess_locally(test_data, techniques_groups)"
   ]
  },
  {
   "cell_type": "code",
   "execution_count": null,
   "id": "fe845d8a-f91e-4ca1-8b46-b57b2de3ad82",
   "metadata": {},
   "outputs": [],
   "source": []
  }
 ],
 "metadata": {
  "kernelspec": {
   "display_name": "Python (DQNvenv)",
   "language": "python",
   "name": "dqnvenv"
  },
  "language_info": {
   "codemirror_mode": {
    "name": "ipython",
    "version": 3
   },
   "file_extension": ".py",
   "mimetype": "text/x-python",
   "name": "python",
   "nbconvert_exporter": "python",
   "pygments_lexer": "ipython3",
   "version": "3.11.11"
  }
 },
 "nbformat": 4,
 "nbformat_minor": 5
}
