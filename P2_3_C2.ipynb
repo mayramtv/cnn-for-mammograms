{
 "cells": [
  {
   "cell_type": "markdown",
   "id": "50e99e55-341e-43da-8c1f-afee52bb0e3c",
   "metadata": {},
   "source": [
    "# Phase 2: Find Processing Techniques\n",
    "## Iteration 3: Find Best Preprocessing Techniques \n",
    "### Import Libraries and Scripts"
   ]
  },
  {
   "cell_type": "code",
   "execution_count": 6,
   "id": "96fd6e95-d1fa-48f2-bd0c-3bef4f9577fc",
   "metadata": {},
   "outputs": [],
   "source": [
    "%reload_ext autoreload\n",
    "%autoreload 2"
   ]
  },
  {
   "cell_type": "code",
   "execution_count": null,
   "id": "cbec7fd7-6fc7-4346-ae93-4d26542a2e6b",
   "metadata": {},
   "outputs": [],
   "source": [
    "# import functions and classes for model\n",
    "from Utils.preporcessing_utils import data_loading \n",
    "from Utils.preporcessing_utils import labels_encoding\n",
    "from Utils.preporcessing_utils import split_data\n",
    "from Utils.preporcessing_utils import ablation\n",
    "from Utils.preporcessing_utils_Copy1 import combination\n",
    "from Utils.run_model_utils import run_model"
   ]
  },
  {
   "cell_type": "code",
   "execution_count": null,
   "id": "a1d82a1f-9a37-4780-a6ed-3ed7db691e6f",
   "metadata": {},
   "outputs": [],
   "source": [
    "# import functions and classes for visualization\n",
    "from Utils.visualizations_utils import Visualization"
   ]
  },
  {
   "cell_type": "markdown",
   "id": "96d45554-3efd-41ca-b5b0-8e68c3b7de7f",
   "metadata": {},
   "source": [
    "### Data Preparation and Basic Preprocessing"
   ]
  },
  {
   "cell_type": "code",
   "execution_count": null,
   "id": "33cd2722-e9fc-41e5-87fa-0d54425feec0",
   "metadata": {},
   "outputs": [],
   "source": [
    "# Loads data\n",
    "train_df, test_df = data_loading(\"train_full.csv\", \"test_full.csv\")"
   ]
  },
  {
   "cell_type": "code",
   "execution_count": null,
   "id": "b5b047f1-562e-410c-a183-5745bdfca878",
   "metadata": {},
   "outputs": [],
   "source": [
    "# Create dataframe and transform(encodes) pathology labels\n",
    "train_df, test_df = labels_encoding(train_df, test_df)"
   ]
  },
  {
   "cell_type": "code",
   "execution_count": null,
   "id": "beb30fc9-9569-40f2-9b0c-1095bafa070d",
   "metadata": {},
   "outputs": [],
   "source": [
    "train_df.columns"
   ]
  },
  {
   "cell_type": "code",
   "execution_count": null,
   "id": "abc2cb65-26ed-4787-bb71-d66af7b29445",
   "metadata": {
    "scrolled": true
   },
   "outputs": [],
   "source": [
    "# Split data\n",
    "train_data, val_data, test_data = split_data(train_df, test_df, 0.11)"
   ]
  },
  {
   "cell_type": "code",
   "execution_count": null,
   "id": "3ae5f9ab-36ea-49f4-a63c-97ac74620674",
   "metadata": {},
   "outputs": [],
   "source": []
  },
  {
   "cell_type": "markdown",
   "id": "6273d592-0e46-4716-88a4-cb0140c8a595",
   "metadata": {},
   "source": [
    "### Create Preporcessing Groups By Using Combinations"
   ]
  },
  {
   "cell_type": "code",
   "execution_count": null,
   "id": "c216bfea-f49c-4a33-ba28-a16cf1ba537b",
   "metadata": {},
   "outputs": [],
   "source": [
    "# create groups using ablation\n",
    "options_c = ['apply_background_removal',\n",
    "           'apply_crop',\n",
    "           'apply_noise_reduction',\n",
    "           'apply_contrast_enhancement',\n",
    "           'apply_edge_enhancement',\n",
    "           'apply_lbp_texturizer']"
   ]
  },
  {
   "cell_type": "code",
   "execution_count": null,
   "id": "defc1a4f-7a0d-4a3d-b256-3eec4135e91b",
   "metadata": {},
   "outputs": [],
   "source": [
    "# create group of techniques to try\n",
    "techniques_groups = combination(options_c)"
   ]
  },
  {
   "cell_type": "code",
   "execution_count": null,
   "id": "92167c5c-c260-4e64-8875-d8b2aceeb7b3",
   "metadata": {},
   "outputs": [],
   "source": [
    "techniques_groups[\"Baseline Basic Preporcessing\"]"
   ]
  },
  {
   "cell_type": "markdown",
   "id": "791017d2-ebfa-4daf-be85-13c0defb19f3",
   "metadata": {},
   "source": [
    "### Fine-Tune Custom CNN Settings "
   ]
  },
  {
   "cell_type": "code",
   "execution_count": null,
   "id": "9655d9d0-dd5f-49ef-89c0-6ad62917f582",
   "metadata": {},
   "outputs": [],
   "source": [
    "architecture_settings_iter3 = {\n",
    "    \"Baseline_3.2(DenseU=256, Dropout=0.4, layer=256)\": {\"epochs\":12, \"layers\": [32, 64, 128, 256], \"activation\": 'relu', \"dense_units\":[256], \"dropout\": 0.4}\n",
    "}"
   ]
  },
  {
   "cell_type": "code",
   "execution_count": null,
   "id": "942c7942-a804-407e-96d1-129c0aff7e6e",
   "metadata": {},
   "outputs": [],
   "source": [
    "import pandas as pd\n",
    "arch = pd.DataFrame(architecture_settings_iter3)\n",
    "arch.transpose()"
   ]
  },
  {
   "cell_type": "markdown",
   "id": "0ee96dcb-0bf7-4999-aec0-762c46fd1267",
   "metadata": {},
   "source": [
    "### Trining Dynamic Custom Model with Preprocessing Techniques, 12 Epochs and Best Settings\n",
    "#### Training\n",
    "This models uses the custom CNN with the tf.Dataset image iterator, preporcessing techniques, 12 epochs and best settings. <br>\n",
    "Settings:\n",
    "- Dropout from 0.4\n",
    "- Dense units of 256\n",
    "- Adding a new layer of 256 "
   ]
  },
  {
   "cell_type": "code",
   "execution_count": null,
   "id": "8fa0fd50-2b1c-40ba-bc90-cc0c90b778bb",
   "metadata": {},
   "outputs": [],
   "source": [
    "# runs baseline model with an image dataset generator \n",
    "run_model((train_data, val_data, test_data), \n",
    "              techniques_groups, \n",
    "              project_phase=\"P2\",\n",
    "              iteration=3.2,\n",
    "              with_preprocess=False, \n",
    "              model_type=\"dynamic\",\n",
    "              models_settings=architecture_settings_iter3)"
   ]
  },
  {
   "cell_type": "markdown",
   "id": "329933b1-8df8-48d6-a51b-3c81a0614ec3",
   "metadata": {},
   "source": [
    "#### Visulaizing\n",
    "The following are some visualizations to compare the model outputs for each techniques"
   ]
  },
  {
   "cell_type": "code",
   "execution_count": null,
   "id": "32c29da8-3705-4a96-b733-8e91827692ff",
   "metadata": {},
   "outputs": [],
   "source": [
    "# gets data based from models using tf.Data.Dataset\n",
    "out_dir = \"Outputs/Iteration3.2\"\n",
    "\n",
    "# initialize visualization instance\n",
    "vis = Visualization(out_directory=out_dir, identifier=1)\n",
    "\n",
    "# loads data \n",
    "models_data = vis.load_files()\n",
    "\n",
    "# gets names of models\n",
    "display_models_names = models_data.keys()\n",
    "\n",
    "# classes\n",
    "classes = ['Benigant', 'Malignant']"
   ]
  },
  {
   "cell_type": "code",
   "execution_count": null,
   "id": "e6c2bd3c-5df5-4330-9a84-30e316e63432",
   "metadata": {},
   "outputs": [],
   "source": [
    "# vusualize confusion matrix\n",
    "vis.confusion_matrices(models_data, models_data.keys(), classes=classes)"
   ]
  },
  {
   "cell_type": "code",
   "execution_count": null,
   "id": "1f63c43e-9248-40d9-a2b2-d20d6ba4df7e",
   "metadata": {},
   "outputs": [],
   "source": [
    "# visualize line plots \n",
    "vis.learning_curves(models_data, display_models_names, [\"accuracy\", \"loss\"], [\"blue\", \"orange\"])"
   ]
  },
  {
   "cell_type": "code",
   "execution_count": null,
   "id": "d3bbb03d-1c50-4524-a9ea-e36bac961e65",
   "metadata": {},
   "outputs": [],
   "source": [
    "vis.line_plot(models_data, display_models_names, [\"accuracy\", \"precision\", \"recall\", \"f1_score\", \"roc_auc\", \"specificity\"])"
   ]
  },
  {
   "cell_type": "code",
   "execution_count": null,
   "id": "05b7dabe-60f5-4c25-9dd4-0be552c879be",
   "metadata": {},
   "outputs": [],
   "source": [
    "vis.line_plot(models_data, display_models_names, [\"fpr\", \"fnr\"])"
   ]
  },
  {
   "cell_type": "code",
   "execution_count": null,
   "id": "2137807e-e870-46fd-a2bf-a9e2ff5bca6a",
   "metadata": {},
   "outputs": [],
   "source": [
    "vis.radar_chart(models_data, display_models_names, [\"accuracy\", \"precision\", \"recall\", \"f1_score\", \"roc_auc\", \"specificity\"])"
   ]
  },
  {
   "cell_type": "code",
   "execution_count": null,
   "id": "41958b39-85dc-43d9-92b4-cdc1facfb9ca",
   "metadata": {
    "scrolled": true
   },
   "outputs": [],
   "source": [
    "vis.ROC_curve(models_data, display_models_names)"
   ]
  },
  {
   "cell_type": "code",
   "execution_count": null,
   "id": "5e8fb9fb-d660-43af-a112-3a595bb62a79",
   "metadata": {},
   "outputs": [],
   "source": []
  },
  {
   "cell_type": "code",
   "execution_count": null,
   "id": "4dfceab6-8fe3-4a8a-a1bc-db9ccbff1ca5",
   "metadata": {},
   "outputs": [],
   "source": []
  }
 ],
 "metadata": {
  "kernelspec": {
   "display_name": "Python (DQNvenv)",
   "language": "python",
   "name": "dqnvenv"
  },
  "language_info": {
   "codemirror_mode": {
    "name": "ipython",
    "version": 3
   },
   "file_extension": ".py",
   "mimetype": "text/x-python",
   "name": "python",
   "nbconvert_exporter": "python",
   "pygments_lexer": "ipython3",
   "version": "3.11.11"
  }
 },
 "nbformat": 4,
 "nbformat_minor": 5
}
