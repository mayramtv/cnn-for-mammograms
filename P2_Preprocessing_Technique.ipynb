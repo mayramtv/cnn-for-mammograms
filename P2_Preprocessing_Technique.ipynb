{
 "cells": [
  {
   "cell_type": "markdown",
   "id": "50e99e55-341e-43da-8c1f-afee52bb0e3c",
   "metadata": {},
   "source": [
    "## Phase 2: Find Processing Techniques"
   ]
  },
  {
   "cell_type": "code",
   "execution_count": 3,
   "id": "96fd6e95-d1fa-48f2-bd0c-3bef4f9577fc",
   "metadata": {},
   "outputs": [],
   "source": [
    "# %reload_ext autoreload\n",
    "# %autoreload 2"
   ]
  },
  {
   "cell_type": "code",
   "execution_count": 4,
   "id": "e3721b79-5019-4f5a-916a-a709f08ae1af",
   "metadata": {},
   "outputs": [
    {
     "name": "stdout",
     "output_type": "stream",
     "text": [
      "Class -> Try if python utils connects to notebook: My_Test_Class \n",
      "\n",
      "Function -> Try if python utils connects to notebook: My_Test_Function\n"
     ]
    }
   ],
   "source": [
    "# connects to utils and run a test for connectivity\n",
    "from Utils.test_class_func import Test_py \n",
    "from Utils.test_class_func import test_py  \n",
    "print(Test_py(\"My_Test_Class\").print_(), \"\\n\")\n",
    "print(test_py(\"My_Test_Function\"))"
   ]
  },
  {
   "cell_type": "code",
   "execution_count": 24,
   "id": "cbec7fd7-6fc7-4346-ae93-4d26542a2e6b",
   "metadata": {},
   "outputs": [],
   "source": [
    "# import functions \n",
    "from Utils.preporcessing_utils import data_loading \n",
    "from Utils.preporcessing_utils import labels_encoding\n",
    "from Utils.preporcessing_utils import split_data\n",
    "from Utils.preporcessing_utils import image_iterators\n",
    "from Utils.preporcessing_utils import ablation\n",
    "from Utils.models_utils import Basic_Custom_CNN\n",
    "from Utils.evaluation_utils import Evaluation\n",
    "from Utils.save_data_utils import Save_Data"
   ]
  },
  {
   "cell_type": "code",
   "execution_count": 25,
   "id": "0fc3f4e7-0e09-4cb6-a4dd-38af1616dba6",
   "metadata": {},
   "outputs": [],
   "source": [
    "# import libraries\n",
    "from tensorflow.keras import backend as K"
   ]
  },
  {
   "cell_type": "markdown",
   "id": "58d801ef-a7c3-4803-bd18-3c8b0c1633e3",
   "metadata": {},
   "source": [
    "### Setup Pipeline Workflow"
   ]
  },
  {
   "cell_type": "markdown",
   "id": "96d45554-3efd-41ca-b5b0-8e68c3b7de7f",
   "metadata": {},
   "source": [
    "#### Data Preparation and Preprocessing"
   ]
  },
  {
   "cell_type": "code",
   "execution_count": 10,
   "id": "33cd2722-e9fc-41e5-87fa-0d54425feec0",
   "metadata": {},
   "outputs": [],
   "source": [
    "# Loads data\n",
    "train_df, test_df = data_loading(\"train_full.csv\", \"test_full.csv\")"
   ]
  },
  {
   "cell_type": "code",
   "execution_count": 11,
   "id": "b5b047f1-562e-410c-a183-5745bdfca878",
   "metadata": {},
   "outputs": [],
   "source": [
    "# Create dataframe and transform(encodes) pathology labels\n",
    "train_df, test_df = labels_encoding(train_df, test_df)"
   ]
  },
  {
   "cell_type": "code",
   "execution_count": 23,
   "id": "beb30fc9-9569-40f2-9b0c-1095bafa070d",
   "metadata": {},
   "outputs": [
    {
     "data": {
      "text/plain": [
       "Index(['image_id', 'image_type', 'image_path', 'series_uid', 'subject_id',\n",
       "       'study_uid', 'breast_density', 'breast_side', 'image_view',\n",
       "       'abnormality_type', 'pathology', 'split', 'label'],\n",
       "      dtype='object')"
      ]
     },
     "execution_count": 23,
     "metadata": {},
     "output_type": "execute_result"
    }
   ],
   "source": [
    "train_df.columns"
   ]
  },
  {
   "cell_type": "code",
   "execution_count": 12,
   "id": "abc2cb65-26ed-4787-bb71-d66af7b29445",
   "metadata": {},
   "outputs": [
    {
     "name": "stdout",
     "output_type": "stream",
     "text": [
      "Train set: 1889 cases, 70.35 %\n",
      "Validation set: 234 cases, 8.72 %\n",
      "Test set: 562 cases, 20.93 %\n"
     ]
    }
   ],
   "source": [
    "# Split data\n",
    "train_data, val_data, test_data = split_data(train_df, test_df, 0.11)"
   ]
  },
  {
   "cell_type": "markdown",
   "id": "e728c2a8-ebf2-4a14-a059-4d6c86eafbde",
   "metadata": {},
   "source": [
    "#### Iteration 1: Finding best preprocessing technique using custom CNN"
   ]
  },
  {
   "cell_type": "code",
   "execution_count": 13,
   "id": "a806ec0b-0461-449b-8323-b688fdf7e77a",
   "metadata": {},
   "outputs": [],
   "source": [
    "# variables \n",
    "project_phase = \"P2\"\n",
    "options = ['apply_background_removal',\n",
    "           'apply_crop',\n",
    "           'apply_noise_reduction',\n",
    "           'apply_contrast_enhancement',\n",
    "           'apply_edge_enhancement',\n",
    "           'apply_lbp_texturizer']\n",
    "\n",
    "y_true = test_data[\"label\"]"
   ]
  },
  {
   "cell_type": "code",
   "execution_count": 14,
   "id": "c526edd3-7ae2-433e-8008-af0a6d8be615",
   "metadata": {},
   "outputs": [],
   "source": [
    "# create group of techniques to try\n",
    "techniques_groups = ablation(options)"
   ]
  },
  {
   "cell_type": "code",
   "execution_count": 19,
   "id": "e2bc0106-c314-42ce-b165-fbc49d9cad65",
   "metadata": {
    "collapsed": true,
    "jupyter": {
     "outputs_hidden": true
    }
   },
   "outputs": [
    {
     "data": {
      "text/plain": [
       "{'Baseline Basic Preporcessing': {'apply_background_removal': False,\n",
       "  'apply_crop': False,\n",
       "  'apply_noise_reduction': False,\n",
       "  'apply_contrast_enhancement': False,\n",
       "  'apply_edge_enhancement': False,\n",
       "  'apply_lbp_texturizer': False},\n",
       " 'All Preporcessing Techniques': {'apply_background_removal': True,\n",
       "  'apply_crop': True,\n",
       "  'apply_noise_reduction': True,\n",
       "  'apply_contrast_enhancement': True,\n",
       "  'apply_edge_enhancement': True,\n",
       "  'apply_lbp_texturizer': True},\n",
       " 'No Background removal': {'apply_background_removal': False,\n",
       "  'apply_crop': True,\n",
       "  'apply_noise_reduction': True,\n",
       "  'apply_contrast_enhancement': True,\n",
       "  'apply_edge_enhancement': True,\n",
       "  'apply_lbp_texturizer': True},\n",
       " 'No Crop': {'apply_background_removal': True,\n",
       "  'apply_crop': False,\n",
       "  'apply_noise_reduction': True,\n",
       "  'apply_contrast_enhancement': True,\n",
       "  'apply_edge_enhancement': True,\n",
       "  'apply_lbp_texturizer': True},\n",
       " 'No Noise reduction': {'apply_background_removal': True,\n",
       "  'apply_crop': True,\n",
       "  'apply_noise_reduction': False,\n",
       "  'apply_contrast_enhancement': True,\n",
       "  'apply_edge_enhancement': True,\n",
       "  'apply_lbp_texturizer': True},\n",
       " 'No Contrast enhancement': {'apply_background_removal': True,\n",
       "  'apply_crop': True,\n",
       "  'apply_noise_reduction': True,\n",
       "  'apply_contrast_enhancement': False,\n",
       "  'apply_edge_enhancement': True,\n",
       "  'apply_lbp_texturizer': True},\n",
       " 'No Edge enhancement': {'apply_background_removal': True,\n",
       "  'apply_crop': True,\n",
       "  'apply_noise_reduction': True,\n",
       "  'apply_contrast_enhancement': True,\n",
       "  'apply_edge_enhancement': False,\n",
       "  'apply_lbp_texturizer': True},\n",
       " 'No Lbp texturizer': {'apply_background_removal': True,\n",
       "  'apply_crop': True,\n",
       "  'apply_noise_reduction': True,\n",
       "  'apply_contrast_enhancement': True,\n",
       "  'apply_edge_enhancement': True,\n",
       "  'apply_lbp_texturizer': False}}"
      ]
     },
     "execution_count": 19,
     "metadata": {},
     "output_type": "execute_result"
    }
   ],
   "source": [
    "techniques_groups"
   ]
  },
  {
   "cell_type": "code",
   "execution_count": 22,
   "id": "0d3c437b-5137-4802-9aa0-cc470523a1fc",
   "metadata": {},
   "outputs": [
    {
     "ename": "NameError",
     "evalue": "name 'tectechniques_groups' is not defined",
     "output_type": "error",
     "traceback": [
      "\u001b[0;31m---------------------------------------------------------------------------\u001b[0m",
      "\u001b[0;31mNameError\u001b[0m                                 Traceback (most recent call last)",
      "Cell \u001b[0;32mIn[22], line 2\u001b[0m\n\u001b[1;32m      1\u001b[0m \u001b[38;5;66;03m# iterate trough techniques groups for training a model with each group\u001b[39;00m\n\u001b[0;32m----> 2\u001b[0m \u001b[38;5;28;01mfor\u001b[39;00m technique_name, techniques \u001b[38;5;129;01min\u001b[39;00m \u001b[43mtectechniques_groups\u001b[49m\u001b[38;5;241m.\u001b[39mitems():\n\u001b[1;32m      3\u001b[0m     \u001b[38;5;28mprint\u001b[39m(\u001b[38;5;124m\"\u001b[39m\u001b[38;5;124mTraining Custom CNN Model with preprocessing:\u001b[39m\u001b[38;5;124m\"\u001b[39m, technique_name)\n\u001b[1;32m      5\u001b[0m     \u001b[38;5;66;03m# reset and clears variables before creating a new model \u001b[39;00m\n",
      "\u001b[0;31mNameError\u001b[0m: name 'tectechniques_groups' is not defined"
     ]
    }
   ],
   "source": [
    "# iterate trough techniques groups for training a model with each group\n",
    "for technique_name, techniques in techniques_groups.items():\n",
    "    \n",
    "    # create model name\n",
    "    model_name = \"Custom CNN - \" + technique_name\n",
    "    print(\"Training \" + model_name)\n",
    "    \n",
    "    # reset and clears variables before creating a new model \n",
    "    K.clear_session()\n",
    "    \n",
    "    # Create image iterators with preprocessing function for each set of preprocessing techniques \n",
    "    train_generator, val_generator, test_generator = image_iterators((train_data, val_data, test_data), \n",
    "                                                    is_resnet_vgg=False,\n",
    "                                                    preporcessing_techniques=techniques\n",
    "                                                  )\n",
    "    \n",
    "    # initiate model class\n",
    "    model_instance = Basic_Custom_CNN(input_shape=(256, 256, 1), num_classes=2, epochs=10)\n",
    "    \n",
    "    # create model architecture\n",
    "    model = model_instance.architecture()\n",
    "    \n",
    "    # train model\n",
    "    history = model.train_model(train_generator, val_gen=val_generator)\n",
    "    \n",
    "    # save model and get path\n",
    "    model_path = model_instance.save_model(models_directory=\"Models\", model_file=technique_name)\n",
    "\n",
    "    # evaluate model by making predictions\n",
    "    evaluation = Evaluation(model)\n",
    "    y_probs = evaluation.predict(test_generator)\n",
    "\n",
    "    # calculate metrics\n",
    "    metrics = evaluation.calculate_metrics(y_true, y_probs)\n",
    "\n",
    "    # get labels dictionary\n",
    "    y_labels = evaluation.get_labels()\n",
    "\n",
    "    # save data\n",
    "    save_data = Save_Data(file_name=\"models_data.json\", out_directory=\"Outputs\")\n",
    "    save_data.add_model_data(model_name, model_path, history, metrics, y_labels, project_phase, comments=\"\")\n",
    "    save_data.save_model_data()\n"
   ]
  },
  {
   "cell_type": "code",
   "execution_count": null,
   "id": "d84e9fdc-8874-438c-b30c-d701d47117e9",
   "metadata": {},
   "outputs": [],
   "source": []
  }
 ],
 "metadata": {
  "kernelspec": {
   "display_name": "Python (DQNvenv)",
   "language": "python",
   "name": "dqnvenv"
  },
  "language_info": {
   "codemirror_mode": {
    "name": "ipython",
    "version": 3
   },
   "file_extension": ".py",
   "mimetype": "text/x-python",
   "name": "python",
   "nbconvert_exporter": "python",
   "pygments_lexer": "ipython3",
   "version": "3.11.11"
  }
 },
 "nbformat": 4,
 "nbformat_minor": 5
}
