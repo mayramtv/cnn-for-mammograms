{
 "cells": [
  {
   "cell_type": "markdown",
   "id": "50e99e55-341e-43da-8c1f-afee52bb0e3c",
   "metadata": {},
   "source": [
    "## Phase 2: Find Processing Techniques"
   ]
  },
  {
   "cell_type": "code",
   "execution_count": 1,
   "id": "96fd6e95-d1fa-48f2-bd0c-3bef4f9577fc",
   "metadata": {},
   "outputs": [],
   "source": [
    "# %reload_ext autoreload\n",
    "# %autoreload 2"
   ]
  },
  {
   "cell_type": "code",
   "execution_count": 4,
   "id": "e3721b79-5019-4f5a-916a-a709f08ae1af",
   "metadata": {},
   "outputs": [
    {
     "name": "stdout",
     "output_type": "stream",
     "text": [
      "Class: Try if python utils connects to notebook: My_Test_Class \n",
      "\n",
      "Function: Try if python utils connects to notebook: My_Test_Function\n"
     ]
    }
   ],
   "source": [
    "# connects to utils and run a test for connectivity\n",
    "from Utils.preporcessing_utils import Test_py \n",
    "from Utils.preporcessing_utils import test_py  \n",
    "print(Test_py(\"My_Test_Class\").print_(), \"\\n\")\n",
    "print(test_py(\"My_Test_Function\"))"
   ]
  },
  {
   "cell_type": "code",
   "execution_count": 4,
   "id": "cbec7fd7-6fc7-4346-ae93-4d26542a2e6b",
   "metadata": {},
   "outputs": [
    {
     "ename": "SyntaxError",
     "evalue": "non-default argument follows default argument (P2_Preporcessing_Utils.py, line 125)",
     "output_type": "error",
     "traceback": [
      "Traceback \u001b[0;36m(most recent call last)\u001b[0m:\n",
      "\u001b[0m  File \u001b[1;32m/mnt/c/Users/mayra/OneDrive/Documents/MayraCSc/AI/DQNvenv/lib/python3.11/site-packages/IPython/core/interactiveshell.py:3577\u001b[0m in \u001b[1;35mrun_code\u001b[0m\n    exec(code_obj, self.user_global_ns, self.user_ns)\u001b[0m\n",
      "\u001b[0;36m  Cell \u001b[0;32mIn[4], line 1\u001b[0;36m\n\u001b[0;31m    from P2_Preporcessing_Utils import data_loading\u001b[0;36m\n",
      "\u001b[0;36m  File \u001b[0;32m/mnt/c/Users/mayra/OneDrive/Documents/MayraCSc/FP/cnn-for-mammograms/P2_Preporcessing_Utils.py:125\u001b[0;36m\u001b[0m\n\u001b[0;31m    def __init__(self, input_shape=(256, 256, 1), num_classes=2, epochs):\u001b[0m\n\u001b[0m                                                                 ^\u001b[0m\n\u001b[0;31mSyntaxError\u001b[0m\u001b[0;31m:\u001b[0m non-default argument follows default argument\n"
     ]
    }
   ],
   "source": [
    "# import functions to run\n",
    "from Utils.reporcessing_utils import data_loading \n",
    "from Utils.reporcessing_utils import labels_encoding\n",
    "from Utils.reporcessing_utils import split_data\n",
    "from Utils.reporcessing_utils import image_iterator"
   ]
  },
  {
   "cell_type": "markdown",
   "id": "58d801ef-a7c3-4803-bd18-3c8b0c1633e3",
   "metadata": {},
   "source": [
    "### Setup Pipeline Workflow"
   ]
  },
  {
   "cell_type": "markdown",
   "id": "96d45554-3efd-41ca-b5b0-8e68c3b7de7f",
   "metadata": {},
   "source": [
    "#### Data Preparation and Preprocessing"
   ]
  },
  {
   "cell_type": "code",
   "execution_count": null,
   "id": "33cd2722-e9fc-41e5-87fa-0d54425feec0",
   "metadata": {},
   "outputs": [],
   "source": [
    "# loads data\n",
    "train_df, test_df = data_loading(\"train_full.csv\", \"test_full.csv\")"
   ]
  },
  {
   "cell_type": "code",
   "execution_count": null,
   "id": "b5b047f1-562e-410c-a183-5745bdfca878",
   "metadata": {},
   "outputs": [],
   "source": [
    "# create dataframe and transform(encodes) pathology labels\n",
    "train_df, test_df = labels_encoding(train_df, test_df)"
   ]
  },
  {
   "cell_type": "markdown",
   "id": "e728c2a8-ebf2-4a14-a059-4d6c86eafbde",
   "metadata": {},
   "source": [
    "#### Iteration 1: Finding best preprocessing technique using custom CNN"
   ]
  },
  {
   "cell_type": "code",
   "execution_count": null,
   "id": "abc2cb65-26ed-4787-bb71-d66af7b29445",
   "metadata": {},
   "outputs": [],
   "source": [
    "# Split data\n",
    "train_data, val_data, test_data = split_train(train_df, test_df, 0.11)"
   ]
  }
 ],
 "metadata": {
  "kernelspec": {
   "display_name": "Python (DQNvenv)",
   "language": "python",
   "name": "dqnvenv"
  },
  "language_info": {
   "codemirror_mode": {
    "name": "ipython",
    "version": 3
   },
   "file_extension": ".py",
   "mimetype": "text/x-python",
   "name": "python",
   "nbconvert_exporter": "python",
   "pygments_lexer": "ipython3",
   "version": "3.11.11"
  }
 },
 "nbformat": 4,
 "nbformat_minor": 5
}
