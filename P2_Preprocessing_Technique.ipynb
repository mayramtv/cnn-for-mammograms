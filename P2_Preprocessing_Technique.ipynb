{
 "cells": [
  {
   "cell_type": "markdown",
   "id": "50e99e55-341e-43da-8c1f-afee52bb0e3c",
   "metadata": {},
   "source": [
    "## Phase 2: Find Processing Techniques"
   ]
  },
  {
   "cell_type": "code",
   "execution_count": 1,
   "id": "96fd6e95-d1fa-48f2-bd0c-3bef4f9577fc",
   "metadata": {},
   "outputs": [],
   "source": [
    "# %reload_ext autoreload\n",
    "# %autoreload 2"
   ]
  },
  {
   "cell_type": "code",
   "execution_count": 2,
   "id": "e3721b79-5019-4f5a-916a-a709f08ae1af",
   "metadata": {},
   "outputs": [
    {
     "name": "stdout",
     "output_type": "stream",
     "text": [
      "Class -> Try if python utils connects to notebook: My_Test_Class \n",
      "\n",
      "Function -> Try if python utils connects to notebook: My_Test_Function\n"
     ]
    }
   ],
   "source": [
    "# connects to utils and run a test for connectivity\n",
    "from Utils.test_class_func import Test_py \n",
    "from Utils.test_class_func import test_py  \n",
    "print(Test_py(\"My_Test_Class\").print_(), \"\\n\")\n",
    "print(test_py(\"My_Test_Function\"))"
   ]
  },
  {
   "cell_type": "code",
   "execution_count": null,
   "id": "cbec7fd7-6fc7-4346-ae93-4d26542a2e6b",
   "metadata": {},
   "outputs": [
    {
     "name": "stderr",
     "output_type": "stream",
     "text": [
      "2025-08-20 07:14:51.767085: I tensorflow/core/util/port.cc:153] oneDNN custom operations are on. You may see slightly different numerical results due to floating-point round-off errors from different computation orders. To turn them off, set the environment variable `TF_ENABLE_ONEDNN_OPTS=0`.\n",
      "2025-08-20 07:14:51.863113: E external/local_xla/xla/stream_executor/cuda/cuda_fft.cc:477] Unable to register cuFFT factory: Attempting to register factory for plugin cuFFT when one has already been registered\n",
      "WARNING: All log messages before absl::InitializeLog() is called are written to STDERR\n",
      "E0000 00:00:1755688491.895200   24409 cuda_dnn.cc:8310] Unable to register cuDNN factory: Attempting to register factory for plugin cuDNN when one has already been registered\n",
      "E0000 00:00:1755688491.904370   24409 cuda_blas.cc:1418] Unable to register cuBLAS factory: Attempting to register factory for plugin cuBLAS when one has already been registered\n",
      "2025-08-20 07:14:51.988733: I tensorflow/core/platform/cpu_feature_guard.cc:210] This TensorFlow binary is optimized to use available CPU instructions in performance-critical operations.\n",
      "To enable the following instructions: AVX2 AVX_VNNI FMA, in other operations, rebuild TensorFlow with the appropriate compiler flags.\n"
     ]
    }
   ],
   "source": [
    "# import functions \n",
    "from Utils.preporcessing_utils import data_loading \n",
    "from Utils.preporcessing_utils import labels_encoding\n",
    "from Utils.preporcessing_utils import split_data\n",
    "from Utils.preporcessing_utils import image_iterators\n",
    "from Utils.preporcessing_utils import ablation\n",
    "from Utils.models_utils import Basic_Custom_CNN\n",
    "from Utils.evaluation_utils import Evaluation\n",
    "from Utils.save_data_utils import Save_Data"
   ]
  },
  {
   "cell_type": "code",
   "execution_count": null,
   "id": "0fc3f4e7-0e09-4cb6-a4dd-38af1616dba6",
   "metadata": {},
   "outputs": [],
   "source": [
    "# import libraries\n",
    "from tensorflow.keras import backend as K"
   ]
  },
  {
   "cell_type": "markdown",
   "id": "58d801ef-a7c3-4803-bd18-3c8b0c1633e3",
   "metadata": {},
   "source": [
    "### Pipeline Workflow"
   ]
  },
  {
   "cell_type": "markdown",
   "id": "96d45554-3efd-41ca-b5b0-8e68c3b7de7f",
   "metadata": {},
   "source": [
    "#### Data Preparation and Preprocessing"
   ]
  },
  {
   "cell_type": "code",
   "execution_count": null,
   "id": "33cd2722-e9fc-41e5-87fa-0d54425feec0",
   "metadata": {},
   "outputs": [],
   "source": [
    "# Loads data\n",
    "train_df, test_df = data_loading(\"train_full.csv\", \"test_full.csv\")"
   ]
  },
  {
   "cell_type": "code",
   "execution_count": null,
   "id": "b5b047f1-562e-410c-a183-5745bdfca878",
   "metadata": {},
   "outputs": [],
   "source": [
    "# Create dataframe and transform(encodes) pathology labels\n",
    "train_df, test_df = labels_encoding(train_df, test_df)"
   ]
  },
  {
   "cell_type": "code",
   "execution_count": null,
   "id": "beb30fc9-9569-40f2-9b0c-1095bafa070d",
   "metadata": {},
   "outputs": [],
   "source": [
    "train_df.columns"
   ]
  },
  {
   "cell_type": "code",
   "execution_count": null,
   "id": "abc2cb65-26ed-4787-bb71-d66af7b29445",
   "metadata": {},
   "outputs": [],
   "source": [
    "# Split data\n",
    "train_data, val_data, test_data = split_data(train_df, test_df, 0.11)"
   ]
  },
  {
   "cell_type": "markdown",
   "id": "e728c2a8-ebf2-4a14-a059-4d6c86eafbde",
   "metadata": {},
   "source": [
    "#### Iteration 1: Finding best preprocessing technique using custom CNN"
   ]
  },
  {
   "cell_type": "code",
   "execution_count": null,
   "id": "a806ec0b-0461-449b-8323-b688fdf7e77a",
   "metadata": {},
   "outputs": [],
   "source": [
    "# variables \n",
    "project_phase = \"P2\"\n",
    "options = ['apply_background_removal',\n",
    "           'apply_crop',\n",
    "           'apply_noise_reduction',\n",
    "           'apply_contrast_enhancement',\n",
    "           'apply_edge_enhancement',\n",
    "           'apply_lbp_texturizer']\n",
    "\n",
    "y_true = test_data[\"label\"]"
   ]
  },
  {
   "cell_type": "code",
   "execution_count": null,
   "id": "44302346-7363-43bb-861b-37ad18a3edea",
   "metadata": {},
   "outputs": [],
   "source": [
    "y_true[:5]"
   ]
  },
  {
   "cell_type": "code",
   "execution_count": null,
   "id": "c526edd3-7ae2-433e-8008-af0a6d8be615",
   "metadata": {},
   "outputs": [],
   "source": [
    "# create group of techniques to try\n",
    "techniques_groups = ablation(options)"
   ]
  },
  {
   "cell_type": "code",
   "execution_count": null,
   "id": "e2bc0106-c314-42ce-b165-fbc49d9cad65",
   "metadata": {
    "scrolled": true
   },
   "outputs": [],
   "source": [
    "techniques_groups"
   ]
  },
  {
   "cell_type": "code",
   "execution_count": null,
   "id": "0d3c437b-5137-4802-9aa0-cc470523a1fc",
   "metadata": {},
   "outputs": [],
   "source": [
    "# iterate trough techniques groups for training a model with each group\n",
    "for technique_name, techniques in techniques_groups.items():\n",
    "    \n",
    "    # create model name\n",
    "    model_name = \"Custom CNN - \" + technique_name\n",
    "    print(\"Training \" + model_name)\n",
    "    \n",
    "    # reset and clears variables before creating a new model \n",
    "    K.clear_session()\n",
    "    \n",
    "    # Create image iterators with preprocessing function for each set of preprocessing techniques \n",
    "    train_generator, val_generator, test_generator = image_iterators((train_data, val_data, test_data), \n",
    "                                                    is_resnet_vgg=False,\n",
    "                                                    preprocessing_techniques=techniques\n",
    "                                                  )\n",
    "    \n",
    "    # initiate model class\n",
    "    model_instance = Basic_Custom_CNN(input_shape=(256, 256, 1), num_classes=2, epochs=10)\n",
    "    \n",
    "    # create model architecture\n",
    "    model_instance.architecture()\n",
    "    \n",
    "    # train model\n",
    "    history = model_instance.train_model(train_generator, val_gen=val_generator)\n",
    "    \n",
    "    # save model and get path\n",
    "    name = technique_name.lower().replace(\" \", \"_\") + \".keras\"\n",
    "    model_path = model_instance.save_model(models_directory=\"Models\", model_file=name)\n",
    "\n",
    "    # evaluate model by making predictions\n",
    "    evaluation = Evaluation(model_instance.get_model())\n",
    "    y_probs = evaluation.predict(test_generator)\n",
    "\n",
    "    # calculate metrics\n",
    "    metrics = evaluation.calculate_metrics(y_true, y_probs)\n",
    "\n",
    "    # get labels dictionary\n",
    "    y_labels = evaluation.get_labels()\n",
    "\n",
    "    # save data\n",
    "    save_data = Save_Data(file_name=\"models_data.json\", out_directory=\"Outputs\")\n",
    "    save_data.add_model_data(model_name, model_path, history, metrics, y_labels, project_phase, comments=\"\")\n",
    "    save_data.save_model_data()\n"
   ]
  },
  {
   "cell_type": "code",
   "execution_count": null,
   "id": "d84e9fdc-8874-438c-b30c-d701d47117e9",
   "metadata": {},
   "outputs": [],
   "source": []
  }
 ],
 "metadata": {
  "kernelspec": {
   "display_name": "Python (DQNvenv)",
   "language": "python",
   "name": "dqnvenv"
  },
  "language_info": {
   "codemirror_mode": {
    "name": "ipython",
    "version": 3
   },
   "file_extension": ".py",
   "mimetype": "text/x-python",
   "name": "python",
   "nbconvert_exporter": "python",
   "pygments_lexer": "ipython3",
   "version": "3.11.11"
  }
 },
 "nbformat": 4,
 "nbformat_minor": 5
}
