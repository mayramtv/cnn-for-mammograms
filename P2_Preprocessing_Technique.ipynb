{
 "cells": [
  {
   "cell_type": "markdown",
   "id": "50e99e55-341e-43da-8c1f-afee52bb0e3c",
   "metadata": {},
   "source": [
    "## Phase 2: Find Processing Techniques"
   ]
  },
  {
   "cell_type": "code",
   "execution_count": 3,
   "id": "96fd6e95-d1fa-48f2-bd0c-3bef4f9577fc",
   "metadata": {},
   "outputs": [],
   "source": [
    "%reload_ext autoreload\n",
    "%autoreload 2"
   ]
  },
  {
   "cell_type": "code",
   "execution_count": 13,
   "id": "e3721b79-5019-4f5a-916a-a709f08ae1af",
   "metadata": {},
   "outputs": [
    {
     "name": "stdout",
     "output_type": "stream",
     "text": [
      "Class: Try if python utils connects to notebook: My_Test_1 \n",
      "\n",
      "Function: Try if python utils connects to notebook: My_Test_1\n"
     ]
    }
   ],
   "source": [
    "# connects to utils and run a test for connectivity\n",
    "from P2_Preporcessing_Utils import Test_py \n",
    "from P2_Preporcessing_Utils import test_py  \n",
    "print(Test_py(\"My_Test_1\").print_(), \"\\n\")\n",
    "print(test_py(\"My_Test_1\"))"
   ]
  },
  {
   "cell_type": "code",
   "execution_count": 15,
   "id": "cbec7fd7-6fc7-4346-ae93-4d26542a2e6b",
   "metadata": {},
   "outputs": [],
   "source": [
    "from P2_Preporcessing_Utils import data_loading "
   ]
  },
  {
   "cell_type": "markdown",
   "id": "58d801ef-a7c3-4803-bd18-3c8b0c1633e3",
   "metadata": {},
   "source": [
    "### Setup Pipeline Workflow"
   ]
  },
  {
   "cell_type": "markdown",
   "id": "96d45554-3efd-41ca-b5b0-8e68c3b7de7f",
   "metadata": {},
   "source": [
    "#### Data Preparation and Preprocessing"
   ]
  },
  {
   "cell_type": "code",
   "execution_count": 17,
   "id": "33cd2722-e9fc-41e5-87fa-0d54425feec0",
   "metadata": {},
   "outputs": [],
   "source": [
    "train, test = data_loading(\"train_full.csv\", \"test_full.csv\")"
   ]
  },
  {
   "cell_type": "markdown",
   "id": "e728c2a8-ebf2-4a14-a059-4d6c86eafbde",
   "metadata": {},
   "source": [
    "### Iteration 1: Finding best preprocessing technique using custom CNN"
   ]
  },
  {
   "cell_type": "code",
   "execution_count": null,
   "id": "c57add40-52ae-495b-86c5-de8c2540a785",
   "metadata": {},
   "outputs": [],
   "source": []
  }
 ],
 "metadata": {
  "kernelspec": {
   "display_name": "Python (DQNvenv)",
   "language": "python",
   "name": "dqnvenv"
  },
  "language_info": {
   "codemirror_mode": {
    "name": "ipython",
    "version": 3
   },
   "file_extension": ".py",
   "mimetype": "text/x-python",
   "name": "python",
   "nbconvert_exporter": "python",
   "pygments_lexer": "ipython3",
   "version": "3.11.11"
  }
 },
 "nbformat": 4,
 "nbformat_minor": 5
}
