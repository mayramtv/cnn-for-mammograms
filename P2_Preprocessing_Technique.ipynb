{
 "cells": [
  {
   "cell_type": "markdown",
   "id": "50e99e55-341e-43da-8c1f-afee52bb0e3c",
   "metadata": {},
   "source": [
    "## Phase 2: Find Processing Techniques"
   ]
  },
  {
   "cell_type": "code",
   "execution_count": 1,
   "id": "96fd6e95-d1fa-48f2-bd0c-3bef4f9577fc",
   "metadata": {},
   "outputs": [],
   "source": [
    "# %reload_ext autoreload\n",
    "# %autoreload 2"
   ]
  },
  {
   "cell_type": "code",
   "execution_count": 2,
   "id": "e3721b79-5019-4f5a-916a-a709f08ae1af",
   "metadata": {},
   "outputs": [
    {
     "name": "stdout",
     "output_type": "stream",
     "text": [
      "Class -> Try if python utils connects to notebook: My_Test_Class \n",
      "\n",
      "Function -> Try if python utils connects to notebook: My_Test_Function\n"
     ]
    }
   ],
   "source": [
    "# connects to utils and run a test for connectivity\n",
    "from Utils.test_class_func import Test_py \n",
    "from Utils.test_class_func import test_py  \n",
    "print(Test_py(\"My_Test_Class\").print_(), \"\\n\")\n",
    "print(test_py(\"My_Test_Function\"))"
   ]
  },
  {
   "cell_type": "code",
   "execution_count": 2,
   "id": "cbec7fd7-6fc7-4346-ae93-4d26542a2e6b",
   "metadata": {},
   "outputs": [
    {
     "name": "stderr",
     "output_type": "stream",
     "text": [
      "2025-08-20 00:11:47.931813: I tensorflow/core/util/port.cc:153] oneDNN custom operations are on. You may see slightly different numerical results due to floating-point round-off errors from different computation orders. To turn them off, set the environment variable `TF_ENABLE_ONEDNN_OPTS=0`.\n",
      "2025-08-20 00:11:47.982346: E external/local_xla/xla/stream_executor/cuda/cuda_fft.cc:477] Unable to register cuFFT factory: Attempting to register factory for plugin cuFFT when one has already been registered\n",
      "WARNING: All log messages before absl::InitializeLog() is called are written to STDERR\n",
      "E0000 00:00:1755663108.015094   19767 cuda_dnn.cc:8310] Unable to register cuDNN factory: Attempting to register factory for plugin cuDNN when one has already been registered\n",
      "E0000 00:00:1755663108.021424   19767 cuda_blas.cc:1418] Unable to register cuBLAS factory: Attempting to register factory for plugin cuBLAS when one has already been registered\n",
      "2025-08-20 00:11:48.063644: I tensorflow/core/platform/cpu_feature_guard.cc:210] This TensorFlow binary is optimized to use available CPU instructions in performance-critical operations.\n",
      "To enable the following instructions: AVX2 AVX_VNNI FMA, in other operations, rebuild TensorFlow with the appropriate compiler flags.\n"
     ]
    }
   ],
   "source": [
    "# import functions \n",
    "from Utils.preporcessing_utils import data_loading \n",
    "from Utils.preporcessing_utils import labels_encoding\n",
    "from Utils.preporcessing_utils import split_data\n",
    "from Utils.preporcessing_utils import image_iterators\n",
    "from Utils.preporcessing_utils import ablation\n",
    "from Utils.models_utils import Basic_Custom_CNN\n",
    "from Utils.evaluation_utils import Evaluation\n",
    "from Utils.save_data_utils import Save_Data"
   ]
  },
  {
   "cell_type": "code",
   "execution_count": 3,
   "id": "0fc3f4e7-0e09-4cb6-a4dd-38af1616dba6",
   "metadata": {},
   "outputs": [],
   "source": [
    "# import libraries\n",
    "from tensorflow.keras import backend as K"
   ]
  },
  {
   "cell_type": "markdown",
   "id": "58d801ef-a7c3-4803-bd18-3c8b0c1633e3",
   "metadata": {},
   "source": [
    "### Pipeline Workflow"
   ]
  },
  {
   "cell_type": "markdown",
   "id": "96d45554-3efd-41ca-b5b0-8e68c3b7de7f",
   "metadata": {},
   "source": [
    "#### Data Preparation and Preprocessing"
   ]
  },
  {
   "cell_type": "code",
   "execution_count": 4,
   "id": "33cd2722-e9fc-41e5-87fa-0d54425feec0",
   "metadata": {},
   "outputs": [],
   "source": [
    "# Loads data\n",
    "train_df, test_df = data_loading(\"train_full.csv\", \"test_full.csv\")"
   ]
  },
  {
   "cell_type": "code",
   "execution_count": 5,
   "id": "b5b047f1-562e-410c-a183-5745bdfca878",
   "metadata": {},
   "outputs": [],
   "source": [
    "# Create dataframe and transform(encodes) pathology labels\n",
    "train_df, test_df = labels_encoding(train_df, test_df)"
   ]
  },
  {
   "cell_type": "code",
   "execution_count": 6,
   "id": "beb30fc9-9569-40f2-9b0c-1095bafa070d",
   "metadata": {},
   "outputs": [
    {
     "data": {
      "text/plain": [
       "Index(['image_id', 'image_type', 'image_path', 'series_uid', 'subject_id',\n",
       "       'study_uid', 'breast_density', 'breast_side', 'image_view',\n",
       "       'abnormality_type', 'pathology', 'split', 'label'],\n",
       "      dtype='object')"
      ]
     },
     "execution_count": 6,
     "metadata": {},
     "output_type": "execute_result"
    }
   ],
   "source": [
    "train_df.columns"
   ]
  },
  {
   "cell_type": "code",
   "execution_count": 7,
   "id": "abc2cb65-26ed-4787-bb71-d66af7b29445",
   "metadata": {},
   "outputs": [
    {
     "name": "stdout",
     "output_type": "stream",
     "text": [
      "Train set: 1889 cases, 70.35 %\n",
      "Validation set: 234 cases, 8.72 %\n",
      "Test set: 562 cases, 20.93 %\n"
     ]
    }
   ],
   "source": [
    "# Split data\n",
    "train_data, val_data, test_data = split_data(train_df, test_df, 0.11)"
   ]
  },
  {
   "cell_type": "markdown",
   "id": "e728c2a8-ebf2-4a14-a059-4d6c86eafbde",
   "metadata": {},
   "source": [
    "#### Iteration 1: Finding best preprocessing technique using custom CNN"
   ]
  },
  {
   "cell_type": "code",
   "execution_count": 8,
   "id": "a806ec0b-0461-449b-8323-b688fdf7e77a",
   "metadata": {},
   "outputs": [],
   "source": [
    "# variables \n",
    "project_phase = \"P2\"\n",
    "options = ['apply_background_removal',\n",
    "           'apply_crop',\n",
    "           'apply_noise_reduction',\n",
    "           'apply_contrast_enhancement',\n",
    "           'apply_edge_enhancement',\n",
    "           'apply_lbp_texturizer']\n",
    "\n",
    "y_true = test_data[\"label\"]"
   ]
  },
  {
   "cell_type": "code",
   "execution_count": 9,
   "id": "c526edd3-7ae2-433e-8008-af0a6d8be615",
   "metadata": {},
   "outputs": [],
   "source": [
    "# create group of techniques to try\n",
    "techniques_groups = ablation(options)"
   ]
  },
  {
   "cell_type": "code",
   "execution_count": 10,
   "id": "e2bc0106-c314-42ce-b165-fbc49d9cad65",
   "metadata": {
    "scrolled": true
   },
   "outputs": [
    {
     "data": {
      "text/plain": [
       "{'Baseline Basic Preporcessing': {'apply_background_removal': False,\n",
       "  'apply_crop': False,\n",
       "  'apply_noise_reduction': False,\n",
       "  'apply_contrast_enhancement': False,\n",
       "  'apply_edge_enhancement': False,\n",
       "  'apply_lbp_texturizer': False},\n",
       " 'All Preporcessing Techniques': {'apply_background_removal': True,\n",
       "  'apply_crop': True,\n",
       "  'apply_noise_reduction': True,\n",
       "  'apply_contrast_enhancement': True,\n",
       "  'apply_edge_enhancement': True,\n",
       "  'apply_lbp_texturizer': True},\n",
       " 'No Background removal': {'apply_background_removal': False,\n",
       "  'apply_crop': True,\n",
       "  'apply_noise_reduction': True,\n",
       "  'apply_contrast_enhancement': True,\n",
       "  'apply_edge_enhancement': True,\n",
       "  'apply_lbp_texturizer': True},\n",
       " 'No Crop': {'apply_background_removal': True,\n",
       "  'apply_crop': False,\n",
       "  'apply_noise_reduction': True,\n",
       "  'apply_contrast_enhancement': True,\n",
       "  'apply_edge_enhancement': True,\n",
       "  'apply_lbp_texturizer': True},\n",
       " 'No Noise reduction': {'apply_background_removal': True,\n",
       "  'apply_crop': True,\n",
       "  'apply_noise_reduction': False,\n",
       "  'apply_contrast_enhancement': True,\n",
       "  'apply_edge_enhancement': True,\n",
       "  'apply_lbp_texturizer': True},\n",
       " 'No Contrast enhancement': {'apply_background_removal': True,\n",
       "  'apply_crop': True,\n",
       "  'apply_noise_reduction': True,\n",
       "  'apply_contrast_enhancement': False,\n",
       "  'apply_edge_enhancement': True,\n",
       "  'apply_lbp_texturizer': True},\n",
       " 'No Edge enhancement': {'apply_background_removal': True,\n",
       "  'apply_crop': True,\n",
       "  'apply_noise_reduction': True,\n",
       "  'apply_contrast_enhancement': True,\n",
       "  'apply_edge_enhancement': False,\n",
       "  'apply_lbp_texturizer': True},\n",
       " 'No Lbp texturizer': {'apply_background_removal': True,\n",
       "  'apply_crop': True,\n",
       "  'apply_noise_reduction': True,\n",
       "  'apply_contrast_enhancement': True,\n",
       "  'apply_edge_enhancement': True,\n",
       "  'apply_lbp_texturizer': False}}"
      ]
     },
     "execution_count": 10,
     "metadata": {},
     "output_type": "execute_result"
    }
   ],
   "source": [
    "techniques_groups"
   ]
  },
  {
   "cell_type": "code",
   "execution_count": null,
   "id": "0d3c437b-5137-4802-9aa0-cc470523a1fc",
   "metadata": {},
   "outputs": [
    {
     "name": "stdout",
     "output_type": "stream",
     "text": [
      "Training Custom CNN - Baseline Basic Preporcessing\n",
      "Found 1889 validated image filenames.\n",
      "Found 234 validated image filenames.\n",
      "Found 562 validated image filenames.\n"
     ]
    },
    {
     "name": "stderr",
     "output_type": "stream",
     "text": [
      "I0000 00:00:1755663252.962258   19767 gpu_device.cc:2022] Created device /job:localhost/replica:0/task:0/device:GPU:0 with 5563 MB memory:  -> device: 0, name: NVIDIA GeForce RTX 4060 Laptop GPU, pci bus id: 0000:01:00.0, compute capability: 8.9\n",
      "/mnt/c/Users/mayra/OneDrive/Documents/MayraCSc/AI/DQNvenv/lib/python3.11/site-packages/keras/src/trainers/data_adapters/py_dataset_adapter.py:121: UserWarning: Your `PyDataset` class should call `super().__init__(**kwargs)` in its constructor. `**kwargs` can include `workers`, `use_multiprocessing`, `max_queue_size`. Do not pass these arguments to `fit()`, as they will be ignored.\n",
      "  self._warn_if_super_not_called()\n"
     ]
    },
    {
     "name": "stdout",
     "output_type": "stream",
     "text": [
      "Epoch 1/10\n"
     ]
    },
    {
     "name": "stderr",
     "output_type": "stream",
     "text": [
      "WARNING: All log messages before absl::InitializeLog() is called are written to STDERR\n",
      "I0000 00:00:1755663268.510683   19939 service.cc:148] XLA service 0x70b764009480 initialized for platform CUDA (this does not guarantee that XLA will be used). Devices:\n",
      "I0000 00:00:1755663268.510782   19939 service.cc:156]   StreamExecutor device (0): NVIDIA GeForce RTX 4060 Laptop GPU, Compute Capability 8.9\n",
      "2025-08-20 00:14:28.593192: I tensorflow/compiler/mlir/tensorflow/utils/dump_mlir_util.cc:268] disabling MLIR crash reproducer, set env var `MLIR_CRASH_REPRODUCER_DIRECTORY` to enable.\n",
      "I0000 00:00:1755663268.818522   19939 cuda_dnn.cc:529] Loaded cuDNN version 90501\n",
      "E0000 00:00:1755663273.325003   19939 gpu_timer.cc:82] Delay kernel timed out: measured time has sub-optimal accuracy. There may be a missing warmup execution, please investigate in Nsight Systems.\n"
     ]
    },
    {
     "name": "stdout",
     "output_type": "stream",
     "text": [
      "\u001b[1m 2/60\u001b[0m \u001b[37m━━━━━━━━━━━━━━━━━━━━\u001b[0m \u001b[1m6s\u001b[0m 105ms/step - accuracy: 0.6562 - loss: 0.6915 "
     ]
    },
    {
     "name": "stderr",
     "output_type": "stream",
     "text": [
      "I0000 00:00:1755663273.991845   19939 device_compiler.h:188] Compiled cluster using XLA!  This line is logged at most once for the lifetime of the process.\n"
     ]
    },
    {
     "name": "stdout",
     "output_type": "stream",
     "text": [
      "\u001b[1m58/60\u001b[0m \u001b[32m━━━━━━━━━━━━━━━━━━━\u001b[0m\u001b[37m━\u001b[0m \u001b[1m11s\u001b[0m 6s/step - accuracy: 0.5244 - loss: 0.6978"
     ]
    }
   ],
   "source": [
    "# iterate trough techniques groups for training a model with each group\n",
    "for technique_name, techniques in techniques_groups.items():\n",
    "    \n",
    "    # create model name\n",
    "    model_name = \"Custom CNN - \" + technique_name\n",
    "    print(\"Training \" + model_name)\n",
    "    \n",
    "    # reset and clears variables before creating a new model \n",
    "    K.clear_session()\n",
    "    \n",
    "    # Create image iterators with preprocessing function for each set of preprocessing techniques \n",
    "    train_generator, val_generator, test_generator = image_iterators((train_data, val_data, test_data), \n",
    "                                                    is_resnet_vgg=False,\n",
    "                                                    preprocessing_techniques=techniques\n",
    "                                                  )\n",
    "    \n",
    "    # initiate model class\n",
    "    model_instance = Basic_Custom_CNN(input_shape=(256, 256, 1), num_classes=2, epochs=10)\n",
    "    \n",
    "    # create model architecture\n",
    "    model_instance.architecture()\n",
    "    \n",
    "    # train model\n",
    "    history = model_instance.train_model(train_generator, val_gen=val_generator)\n",
    "    \n",
    "    # save model and get path\n",
    "    name = technique_name.lower().replace(\" \", \"_\") + \".keras\"\n",
    "    model_path = model_instance.save_model(models_directory=\"Models\", model_file=name)\n",
    "\n",
    "    # evaluate model by making predictions\n",
    "    evaluation = Evaluation(model_instance.get_model())\n",
    "    y_probs = evaluation.predict(test_generator)\n",
    "\n",
    "    # calculate metrics\n",
    "    metrics = evaluation.calculate_metrics(y_true, y_probs)\n",
    "\n",
    "    # get labels dictionary\n",
    "    y_labels = evaluation.get_labels()\n",
    "\n",
    "    # save data\n",
    "    save_data = Save_Data(file_name=\"models_data.json\", out_directory=\"Outputs\")\n",
    "    save_data.add_model_data(model_name, model_path, history, metrics, y_labels, project_phase, comments=\"\")\n",
    "    save_data.save_model_data()\n"
   ]
  },
  {
   "cell_type": "code",
   "execution_count": null,
   "id": "d84e9fdc-8874-438c-b30c-d701d47117e9",
   "metadata": {},
   "outputs": [],
   "source": []
  }
 ],
 "metadata": {
  "kernelspec": {
   "display_name": "Python (DQNvenv)",
   "language": "python",
   "name": "dqnvenv"
  },
  "language_info": {
   "codemirror_mode": {
    "name": "ipython",
    "version": 3
   },
   "file_extension": ".py",
   "mimetype": "text/x-python",
   "name": "python",
   "nbconvert_exporter": "python",
   "pygments_lexer": "ipython3",
   "version": "3.11.11"
  }
 },
 "nbformat": 4,
 "nbformat_minor": 5
}
