{
 "cells": [
  {
   "cell_type": "markdown",
   "id": "dbf3c580-1afd-4aa2-a1c5-d6394f0f7b53",
   "metadata": {},
   "source": [
    "# Phase 3: Find Best Training Model\n",
    "## Iteration 4: Fine tune best model.\n",
    "### Import Libraries and Scripts"
   ]
  },
  {
   "cell_type": "code",
   "execution_count": 1,
   "id": "5b30d7d9-d93f-4779-97fb-d6ddeb4c84af",
   "metadata": {},
   "outputs": [
    {
     "name": "stderr",
     "output_type": "stream",
     "text": [
      "2025-09-17 16:17:45.830926: I tensorflow/core/util/port.cc:153] oneDNN custom operations are on. You may see slightly different numerical results due to floating-point round-off errors from different computation orders. To turn them off, set the environment variable `TF_ENABLE_ONEDNN_OPTS=0`.\n",
      "2025-09-17 16:17:46.901082: E external/local_xla/xla/stream_executor/cuda/cuda_fft.cc:477] Unable to register cuFFT factory: Attempting to register factory for plugin cuFFT when one has already been registered\n",
      "WARNING: All log messages before absl::InitializeLog() is called are written to STDERR\n",
      "E0000 00:00:1758140267.111251  116982 cuda_dnn.cc:8310] Unable to register cuDNN factory: Attempting to register factory for plugin cuDNN when one has already been registered\n",
      "E0000 00:00:1758140267.194772  116982 cuda_blas.cc:1418] Unable to register cuBLAS factory: Attempting to register factory for plugin cuBLAS when one has already been registered\n",
      "2025-09-17 16:17:48.258721: I tensorflow/core/platform/cpu_feature_guard.cc:210] This TensorFlow binary is optimized to use available CPU instructions in performance-critical operations.\n",
      "To enable the following instructions: AVX2 AVX_VNNI FMA, in other operations, rebuild TensorFlow with the appropriate compiler flags.\n"
     ]
    }
   ],
   "source": [
    "# import functions and classes for model\n",
    "from Utils.preporcessing_utils import data_loading \n",
    "from Utils.preporcessing_utils import labels_encoding\n",
    "from Utils.preporcessing_utils import split_data\n",
    "from Utils.preporcessing_utils import image_iterators \n",
    "from Utils.evaluation_utils import Evaluation "
   ]
  },
  {
   "cell_type": "code",
   "execution_count": 28,
   "id": "c54ed895-ba68-47e7-912d-d4023d900198",
   "metadata": {},
   "outputs": [],
   "source": [
    "import numpy as np\n",
    "from numpy import argmax\n",
    "from matplotlib import pyplot as plt\n",
    "from sklearn.metrics import recall_score, precision_score, f1_score, roc_auc_score, confusion_matrix, roc_curve, precision_recall_curve\n",
    "from tensorflow import keras"
   ]
  },
  {
   "cell_type": "markdown",
   "id": "089b689e-f34f-440d-8e7a-4150a295f2dd",
   "metadata": {},
   "source": [
    "### Data Preparation and Basic Preprocessing"
   ]
  },
  {
   "cell_type": "code",
   "execution_count": 3,
   "id": "959c4055-e493-4469-9ff1-317f99200c4c",
   "metadata": {},
   "outputs": [],
   "source": [
    "# Loads data\n",
    "train_df, test_df = data_loading(\"train_full.csv\", \"test_full.csv\")"
   ]
  },
  {
   "cell_type": "code",
   "execution_count": 4,
   "id": "0b639eff-811c-40f8-ae9a-b4824f8b4a1b",
   "metadata": {},
   "outputs": [],
   "source": [
    "# Create dataframe and transform(encodes) pathology labels\n",
    "train_df, test_df = labels_encoding(train_df, test_df)"
   ]
  },
  {
   "cell_type": "code",
   "execution_count": 5,
   "id": "34c38502-93f7-4777-bd3d-e51e5a457a77",
   "metadata": {},
   "outputs": [
    {
     "data": {
      "text/plain": [
       "Index(['image_id', 'image_type', 'image_path', 'series_uid', 'subject_id',\n",
       "       'study_uid', 'breast_density', 'breast_side', 'image_view',\n",
       "       'abnormality_type', 'pathology', 'split', 'label'],\n",
       "      dtype='object')"
      ]
     },
     "execution_count": 5,
     "metadata": {},
     "output_type": "execute_result"
    }
   ],
   "source": [
    "train_df.columns"
   ]
  },
  {
   "cell_type": "code",
   "execution_count": 6,
   "id": "57269002-4fd0-4411-97ce-98d7df9ea2d0",
   "metadata": {
    "scrolled": true
   },
   "outputs": [
    {
     "name": "stdout",
     "output_type": "stream",
     "text": [
      "Train set: 1889 cases, 70.35 %\n",
      "Validation set: 234 cases, 8.72 %\n",
      "Test set: 562 cases, 20.93 %\n"
     ]
    }
   ],
   "source": [
    "# Split data\n",
    "train_data, val_data, test_data = split_data(train_df, test_df, 0.11)"
   ]
  },
  {
   "cell_type": "code",
   "execution_count": 7,
   "id": "e6e99c07-9237-40cb-bbf0-822fa0b8619e",
   "metadata": {},
   "outputs": [
    {
     "name": "stdout",
     "output_type": "stream",
     "text": [
      "Total taining samples: 1889\n",
      "Positive labels: 977\n",
      "Ratio:  0.517204870301747\n"
     ]
    }
   ],
   "source": [
    "print(\"Total taining samples:\", len(train_data[\"label\"]))\n",
    "print(\"Positive labels:\", len(train_data[\"label\"][train_data[\"label\"] == 1]))\n",
    "print(\"Ratio: \", len(train_data[\"label\"][train_data[\"label\"] == 1])/len(train_data[\"label\"]))"
   ]
  },
  {
   "cell_type": "code",
   "execution_count": 16,
   "id": "623dd51c-890f-4201-99eb-d76fabaf5ec7",
   "metadata": {},
   "outputs": [
    {
     "name": "stdout",
     "output_type": "stream",
     "text": [
      "Total validation samples: 234\n",
      "Positive labels: 121\n",
      "Ratio:  0.5170940170940171\n"
     ]
    }
   ],
   "source": [
    "print(\"Total validation samples:\", len(val_data[\"label\"]))\n",
    "print(\"Positive labels:\", len(val_data[\"label\"][val_data[\"label\"] == 1]))\n",
    "print(\"Ratio: \", len(val_data[\"label\"][val_data[\"label\"] == 1])/len(val_data[\"label\"]))"
   ]
  },
  {
   "cell_type": "code",
   "execution_count": 17,
   "id": "db3793d0-eb5c-4fee-93aa-2abb1f205899",
   "metadata": {},
   "outputs": [
    {
     "name": "stdout",
     "output_type": "stream",
     "text": [
      "Total testing samples: 562\n",
      "Positive labels: 260\n",
      "Ratio:  0.4626334519572954\n"
     ]
    }
   ],
   "source": [
    "print(\"Total testing samples:\", len(test_data[\"label\"]))\n",
    "print(\"Positive labels:\", len(test_data[\"label\"][test_data[\"label\"] == 1]))\n",
    "print(\"Ratio: \", len(test_data[\"label\"][test_data[\"label\"] == 1])/len(test_data[\"label\"]))"
   ]
  },
  {
   "cell_type": "code",
   "execution_count": 8,
   "id": "e627fa82-30b2-494c-ae15-208182ac8507",
   "metadata": {},
   "outputs": [],
   "source": [
    "# Baseline No Preprocessing Techniques Only Resizing\n",
    "baseline_techniques = {\n",
    "    \"Baseline Basic Preporcessing\":{\n",
    "         'apply_background_removal': False,\n",
    "         'apply_crop': False,\n",
    "         'apply_noise_reduction': False,\n",
    "         'apply_contrast_enhancement': False,\n",
    "         'apply_edge_enhancement': False,\n",
    "         'apply_lbp_texturizer': False\n",
    "    }\n",
    "}"
   ]
  },
  {
   "cell_type": "code",
   "execution_count": 9,
   "id": "ed41df0f-ca0b-4dde-a2b8-c1daa4db34c5",
   "metadata": {},
   "outputs": [
    {
     "name": "stderr",
     "output_type": "stream",
     "text": [
      "I0000 00:00:1758140375.338059  116982 gpu_device.cc:2022] Created device /job:localhost/replica:0/task:0/device:GPU:0 with 5563 MB memory:  -> device: 0, name: NVIDIA GeForce RTX 4060 Laptop GPU, pci bus id: 0000:01:00.0, compute capability: 8.9\n"
     ]
    }
   ],
   "source": [
    "# Create image iterators with preprocessing function for each set of preprocessing techniques \n",
    "train_generator, val_generator, test_generator = image_iterators((train_data, val_data, test_data),\n",
    "                                                                    with_preprocess=False,\n",
    "                                                                    is_resnet_vgg=True,\n",
    "                                                                    preprocessing_techniques_name=\"Baseline Basic Preporcessing\",\n",
    "                                                                    preprocessing_techniques=baseline_techniques[\"Baseline Basic Preporcessing\"],\n",
    "                                                                    image_dir=\"Preprocessed_Images/\"\n",
    "                                                                  )"
   ]
  },
  {
   "cell_type": "code",
   "execution_count": 10,
   "id": "4daae07f-8b5f-403e-b7a6-100f931d034c",
   "metadata": {},
   "outputs": [],
   "source": [
    "# get y_labels\n",
    "y_true = test_data[\"label\"]"
   ]
  },
  {
   "cell_type": "markdown",
   "id": "e8751ebf-5e85-4d68-80c4-2ebe93440489",
   "metadata": {},
   "source": [
    "### Load Model "
   ]
  },
  {
   "cell_type": "code",
   "execution_count": 11,
   "id": "ad3ea802-2bd5-4205-9a6b-9b2c0245892f",
   "metadata": {},
   "outputs": [],
   "source": [
    "# Load model saved locally\n",
    "model_name = \"Models/Iteration4/vgg16:10_-_baseline_basic_preporcessing_-_(denseu=256,_dropout=0.2,_layer=256).keras\"\n",
    "vgg_model = keras.models.load_model(model_name)"
   ]
  },
  {
   "cell_type": "code",
   "execution_count": 12,
   "id": "eb240b77-f811-4a58-a0c7-c7e56a046c6f",
   "metadata": {},
   "outputs": [
    {
     "name": "stderr",
     "output_type": "stream",
     "text": [
      "WARNING: All log messages before absl::InitializeLog() is called are written to STDERR\n",
      "I0000 00:00:1758140381.268743  117146 service.cc:148] XLA service 0x7a732c004290 initialized for platform CUDA (this does not guarantee that XLA will be used). Devices:\n",
      "I0000 00:00:1758140381.269403  117146 service.cc:156]   StreamExecutor device (0): NVIDIA GeForce RTX 4060 Laptop GPU, Compute Capability 8.9\n",
      "2025-09-17 16:19:41.378285: I tensorflow/compiler/mlir/tensorflow/utils/dump_mlir_util.cc:268] disabling MLIR crash reproducer, set env var `MLIR_CRASH_REPRODUCER_DIRECTORY` to enable.\n",
      "I0000 00:00:1758140381.492213  117146 cuda_dnn.cc:529] Loaded cuDNN version 90501\n"
     ]
    },
    {
     "name": "stdout",
     "output_type": "stream",
     "text": [
      "\u001b[1m 3/18\u001b[0m \u001b[32m━━━\u001b[0m\u001b[37m━━━━━━━━━━━━━━━━━\u001b[0m \u001b[1m0s\u001b[0m 38ms/step"
     ]
    },
    {
     "name": "stderr",
     "output_type": "stream",
     "text": [
      "I0000 00:00:1758140389.182291  117146 device_compiler.h:188] Compiled cluster using XLA!  This line is logged at most once for the lifetime of the process.\n"
     ]
    },
    {
     "name": "stdout",
     "output_type": "stream",
     "text": [
      "\u001b[1m18/18\u001b[0m \u001b[32m━━━━━━━━━━━━━━━━━━━━\u001b[0m\u001b[37m\u001b[0m \u001b[1m14s\u001b[0m 320ms/step\n"
     ]
    }
   ],
   "source": [
    "# get model's prediction probabilities\n",
    "y_pred_prob = vgg_model.predict(test_generator)"
   ]
  },
  {
   "cell_type": "markdown",
   "id": "fb19ee9d-df69-4bbd-b7d1-b27d47f0fc62",
   "metadata": {},
   "source": [
    "### Calculate Evaluation Metrics"
   ]
  },
  {
   "cell_type": "code",
   "execution_count": 19,
   "id": "8663f957-9bbf-46d6-bf30-e8a8088a8747",
   "metadata": {},
   "outputs": [
    {
     "name": "stdout",
     "output_type": "stream",
     "text": [
      "Best threshold: 4.421951e-06\n"
     ]
    }
   ],
   "source": [
    "fpr, tpr, thresholds = roc_curve(y_true, y_pred_prob)\n",
    "youden_index = tpr - fpr\n",
    "best_threshold = thresholds[np.argmax(youden_index)]\n",
    "print(\"Best threshold:\", best_threshold)"
   ]
  },
  {
   "cell_type": "code",
   "execution_count": 20,
   "id": "7f01ca71-1ad3-4b78-9bad-4259484dc0bf",
   "metadata": {},
   "outputs": [],
   "source": [
    "y_pred = (y_pred_prob >= best_threshold).astype(int)"
   ]
  },
  {
   "cell_type": "code",
   "execution_count": 21,
   "id": "82d5a51b-6500-45cd-8103-2845caa3efe4",
   "metadata": {},
   "outputs": [],
   "source": [
    "# get metrics \n",
    "ev_metrics = Evaluation(vgg_model)"
   ]
  },
  {
   "cell_type": "code",
   "execution_count": 14,
   "id": "7739a61d-03da-417a-b84e-be40cbe98e45",
   "metadata": {},
   "outputs": [
    {
     "data": {
      "text/plain": [
       "{'confusion_matrix': array([[146, 156],\n",
       "        [ 54, 206]]),\n",
       " 'accuracy': 0.6263345195729537,\n",
       " 'precision': 0.569060773480663,\n",
       " 'recall': 0.7923076923076923,\n",
       " 'f1_score': 0.662379421221865,\n",
       " 'roc_auc': 0.7030056036678554,\n",
       " 'specificity': np.float64(0.48344370860927155),\n",
       " 'fpr': np.float64(0.5165562913907285),\n",
       " 'fnr': np.float64(0.2076923076923077)}"
      ]
     },
     "execution_count": 14,
     "metadata": {},
     "output_type": "execute_result"
    }
   ],
   "source": [
    "metrics = ev_metrics.calculate_metrics(y_true, y_pred_prob)\n",
    "metrics"
   ]
  },
  {
   "cell_type": "code",
   "execution_count": 15,
   "id": "27211f18-e5a7-49c5-a249-4a5b5f81db4d",
   "metadata": {},
   "outputs": [
    {
     "data": {
      "text/plain": [
       "{'confusion_matrix': array([[202, 100],\n",
       "        [ 88, 172]]),\n",
       " 'accuracy': 0.6654804270462633,\n",
       " 'precision': 0.6323529411764706,\n",
       " 'recall': 0.6615384615384615,\n",
       " 'f1_score': 0.6466165413533834,\n",
       " 'roc_auc': 0.7030056036678554,\n",
       " 'specificity': np.float64(0.6688741721854304),\n",
       " 'fpr': np.float64(0.33112582781456956),\n",
       " 'fnr': np.float64(0.3384615384615385)}"
      ]
     },
     "execution_count": 15,
     "metadata": {},
     "output_type": "execute_result"
    }
   ],
   "source": [
    "metrics2 = ev_metrics.calculate_metrics(y_true, y_pred_prob, threshold=0.79521376)\n",
    "metrics2"
   ]
  },
  {
   "cell_type": "code",
   "execution_count": 36,
   "id": "3decb45a-117e-49e6-8352-23643c27ac16",
   "metadata": {},
   "outputs": [
    {
     "name": "stdout",
     "output_type": "stream",
     "text": [
      "Best threshold 0.38427544\n",
      "Best balanced Recall=0.826923 and Precision=0.567282\n"
     ]
    }
   ],
   "source": [
    "# source https://machinelearningmastery.com/threshold-moving-for-imbalanced-classification/\n",
    "vgg_precision, vgg_recall, vgg_thresholds = precision_recall_curve(y_true, y_pred_prob)\n",
    "vgg_f1 = (2 * vgg_precision * vgg_recall) / (vgg_precision + vgg_recall)\n",
    "best_f1 = argmax(vgg_f1)\n",
    "print(\"Best threshold\", vgg_thresholds[best_f1])\n",
    "print(\"Best balanced Recall=%f and Precision=%f\" % (vgg_recall[best_f1], vgg_precision[best_f1]))"
   ]
  },
  {
   "cell_type": "code",
   "execution_count": 33,
   "id": "e52201de-35cb-4bd9-832e-04ce9d9c1dc9",
   "metadata": {},
   "outputs": [
    {
     "data": {
      "image/png": "[encoded data removed]",
      "text/plain": [
       "<Figure size 640x480 with 1 Axes>"
      ]
     },
     "metadata": {},
     "output_type": "display_data"
    }
   ],
   "source": [
    "plt.plot(vgg_recall, vgg_precision, marker='.', label='F1',  color='orange')\n",
    "plt.scatter(vgg_recall[best_f1], vgg_precision[best_f1], marker='o', color='black', label='Best')\n",
    "plt.xlabel('Recall')\n",
    "plt.ylabel('Precision')\n",
    "pyplot.legend()\n",
    "plt.show()"
   ]
  },
  {
   "cell_type": "code",
   "execution_count": 45,
   "id": "a1cf65ce-3604-44d6-8fb1-97dc5f3d5bbe",
   "metadata": {},
   "outputs": [
    {
     "data": {
      "text/plain": [
       "{'confusion_matrix': array([[138, 164],\n",
       "        [ 45, 215]]),\n",
       " 'accuracy': 0.6281138790035588,\n",
       " 'precision': 0.5672823218997362,\n",
       " 'recall': 0.8269230769230769,\n",
       " 'f1_score': 0.672926447574335,\n",
       " 'roc_auc': 0.7030056036678554,\n",
       " 'specificity': np.float64(0.45695364238410596),\n",
       " 'fpr': np.float64(0.543046357615894),\n",
       " 'fnr': np.float64(0.17307692307692307)}"
      ]
     },
     "execution_count": 45,
     "metadata": {},
     "output_type": "execute_result"
    }
   ],
   "source": [
    "metrics2 = ev_metrics.calculate_metrics(y_true, y_pred_prob, threshold=0.38427544)\n",
    "metrics2"
   ]
  },
  {
   "cell_type": "code",
   "execution_count": null,
   "id": "f3c2d152-356f-41b8-ac1d-7f027e00d18c",
   "metadata": {},
   "outputs": [],
   "source": []
  }
 ],
 "metadata": {
  "kernelspec": {
   "display_name": "Python (DQNvenv)",
   "language": "python",
   "name": "dqnvenv"
  },
  "language_info": {
   "codemirror_mode": {
    "name": "ipython",
    "version": 3
   },
   "file_extension": ".py",
   "mimetype": "text/x-python",
   "name": "python",
   "nbconvert_exporter": "python",
   "pygments_lexer": "ipython3",
   "version": "3.11.11"
  }
 },
 "nbformat": 4,
 "nbformat_minor": 5
}
