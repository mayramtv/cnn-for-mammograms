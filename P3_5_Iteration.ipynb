{
 "cells": [
  {
   "cell_type": "markdown",
   "id": "dbf3c580-1afd-4aa2-a1c5-d6394f0f7b53",
   "metadata": {},
   "source": [
    "# Phase 3: Find Best Training Model\n",
    "## Iteration 4: Fine tune best model.\n",
    "### Import Libraries and Scripts"
   ]
  },
  {
   "cell_type": "code",
   "execution_count": 1,
   "id": "5b30d7d9-d93f-4779-97fb-d6ddeb4c84af",
   "metadata": {},
   "outputs": [
    {
     "name": "stderr",
     "output_type": "stream",
     "text": [
      "2025-09-18 11:23:07.431773: I tensorflow/core/util/port.cc:153] oneDNN custom operations are on. You may see slightly different numerical results due to floating-point round-off errors from different computation orders. To turn them off, set the environment variable `TF_ENABLE_ONEDNN_OPTS=0`.\n",
      "2025-09-18 11:23:09.507130: E external/local_xla/xla/stream_executor/cuda/cuda_fft.cc:477] Unable to register cuFFT factory: Attempting to register factory for plugin cuFFT when one has already been registered\n",
      "WARNING: All log messages before absl::InitializeLog() is called are written to STDERR\n",
      "E0000 00:00:1758208989.878793  212760 cuda_dnn.cc:8310] Unable to register cuDNN factory: Attempting to register factory for plugin cuDNN when one has already been registered\n",
      "E0000 00:00:1758208989.953485  212760 cuda_blas.cc:1418] Unable to register cuBLAS factory: Attempting to register factory for plugin cuBLAS when one has already been registered\n",
      "2025-09-18 11:23:11.635743: I tensorflow/core/platform/cpu_feature_guard.cc:210] This TensorFlow binary is optimized to use available CPU instructions in performance-critical operations.\n",
      "To enable the following instructions: AVX2 AVX_VNNI FMA, in other operations, rebuild TensorFlow with the appropriate compiler flags.\n"
     ]
    }
   ],
   "source": [
    "# import functions and classes for model\n",
    "from Utils.preporcessing_utils import data_loading \n",
    "from Utils.preporcessing_utils import labels_encoding\n",
    "from Utils.preporcessing_utils import split_data\n",
    "from Utils.preporcessing_utils import image_iterators \n",
    "from Utils.evaluation_utils import Evaluation "
   ]
  },
  {
   "cell_type": "code",
   "execution_count": 36,
   "id": "c54ed895-ba68-47e7-912d-d4023d900198",
   "metadata": {},
   "outputs": [],
   "source": [
    "import numpy as np\n",
    "import pandas as pd\n",
    "from numpy import argmax\n",
    "from matplotlib import pyplot as plt\n",
    "from sklearn.metrics import recall_score, precision_score, f1_score, roc_auc_score, confusion_matrix, roc_curve, precision_recall_curve\n",
    "from tensorflow import keras"
   ]
  },
  {
   "cell_type": "markdown",
   "id": "089b689e-f34f-440d-8e7a-4150a295f2dd",
   "metadata": {},
   "source": [
    "### Data Preparation and Basic Preprocessing"
   ]
  },
  {
   "cell_type": "code",
   "execution_count": 3,
   "id": "959c4055-e493-4469-9ff1-317f99200c4c",
   "metadata": {},
   "outputs": [],
   "source": [
    "# Loads data\n",
    "train_df, test_df = data_loading(\"train_full.csv\", \"test_full.csv\")"
   ]
  },
  {
   "cell_type": "code",
   "execution_count": 4,
   "id": "0b639eff-811c-40f8-ae9a-b4824f8b4a1b",
   "metadata": {},
   "outputs": [],
   "source": [
    "# Create dataframe and transform(encodes) pathology labels\n",
    "train_df, test_df = labels_encoding(train_df, test_df)"
   ]
  },
  {
   "cell_type": "code",
   "execution_count": 5,
   "id": "34c38502-93f7-4777-bd3d-e51e5a457a77",
   "metadata": {},
   "outputs": [
    {
     "data": {
      "text/plain": [
       "Index(['image_id', 'image_type', 'image_path', 'series_uid', 'subject_id',\n",
       "       'study_uid', 'breast_density', 'breast_side', 'image_view',\n",
       "       'abnormality_type', 'pathology', 'split', 'label'],\n",
       "      dtype='object')"
      ]
     },
     "execution_count": 5,
     "metadata": {},
     "output_type": "execute_result"
    }
   ],
   "source": [
    "train_df.columns"
   ]
  },
  {
   "cell_type": "code",
   "execution_count": 6,
   "id": "57269002-4fd0-4411-97ce-98d7df9ea2d0",
   "metadata": {
    "scrolled": true
   },
   "outputs": [
    {
     "name": "stdout",
     "output_type": "stream",
     "text": [
      "Train set: 1889 cases, 70.35 %\n",
      "Validation set: 234 cases, 8.72 %\n",
      "Test set: 562 cases, 20.93 %\n"
     ]
    }
   ],
   "source": [
    "# Split data\n",
    "train_data, val_data, test_data = split_data(train_df, test_df, 0.11)"
   ]
  },
  {
   "cell_type": "code",
   "execution_count": 7,
   "id": "e6e99c07-9237-40cb-bbf0-822fa0b8619e",
   "metadata": {},
   "outputs": [
    {
     "name": "stdout",
     "output_type": "stream",
     "text": [
      "Total taining samples: 1889\n",
      "Positive labels: 977\n",
      "Ratio:  0.517204870301747\n"
     ]
    }
   ],
   "source": [
    "print(\"Total taining samples:\", len(train_data[\"label\"]))\n",
    "print(\"Positive labels:\", len(train_data[\"label\"][train_data[\"label\"] == 1]))\n",
    "print(\"Ratio: \", len(train_data[\"label\"][train_data[\"label\"] == 1])/len(train_data[\"label\"]))"
   ]
  },
  {
   "cell_type": "code",
   "execution_count": 8,
   "id": "623dd51c-890f-4201-99eb-d76fabaf5ec7",
   "metadata": {},
   "outputs": [
    {
     "name": "stdout",
     "output_type": "stream",
     "text": [
      "Total validation samples: 234\n",
      "Positive labels: 121\n",
      "Ratio:  0.5170940170940171\n"
     ]
    }
   ],
   "source": [
    "print(\"Total validation samples:\", len(val_data[\"label\"]))\n",
    "print(\"Positive labels:\", len(val_data[\"label\"][val_data[\"label\"] == 1]))\n",
    "print(\"Ratio: \", len(val_data[\"label\"][val_data[\"label\"] == 1])/len(val_data[\"label\"]))"
   ]
  },
  {
   "cell_type": "code",
   "execution_count": 9,
   "id": "db3793d0-eb5c-4fee-93aa-2abb1f205899",
   "metadata": {},
   "outputs": [
    {
     "name": "stdout",
     "output_type": "stream",
     "text": [
      "Total testing samples: 562\n",
      "Positive labels: 260\n",
      "Ratio:  0.4626334519572954\n"
     ]
    }
   ],
   "source": [
    "print(\"Total testing samples:\", len(test_data[\"label\"]))\n",
    "print(\"Positive labels:\", len(test_data[\"label\"][test_data[\"label\"] == 1]))\n",
    "print(\"Ratio: \", len(test_data[\"label\"][test_data[\"label\"] == 1])/len(test_data[\"label\"]))"
   ]
  },
  {
   "cell_type": "code",
   "execution_count": 10,
   "id": "e627fa82-30b2-494c-ae15-208182ac8507",
   "metadata": {},
   "outputs": [],
   "source": [
    "# Baseline No Preprocessing Techniques Only Resizing\n",
    "baseline_techniques = {\n",
    "    \"Baseline Basic Preporcessing\":{\n",
    "         'apply_background_removal': False,\n",
    "         'apply_crop': False,\n",
    "         'apply_noise_reduction': False,\n",
    "         'apply_contrast_enhancement': False,\n",
    "         'apply_edge_enhancement': False,\n",
    "         'apply_lbp_texturizer': False\n",
    "    }\n",
    "}"
   ]
  },
  {
   "cell_type": "code",
   "execution_count": 11,
   "id": "ed41df0f-ca0b-4dde-a2b8-c1daa4db34c5",
   "metadata": {},
   "outputs": [
    {
     "name": "stderr",
     "output_type": "stream",
     "text": [
      "I0000 00:00:1758209152.332374  212760 gpu_device.cc:2022] Created device /job:localhost/replica:0/task:0/device:GPU:0 with 5563 MB memory:  -> device: 0, name: NVIDIA GeForce RTX 4060 Laptop GPU, pci bus id: 0000:01:00.0, compute capability: 8.9\n"
     ]
    }
   ],
   "source": [
    "# Create image iterators with preprocessing function for each set of preprocessing techniques \n",
    "train_generator, val_generator, test_generator = image_iterators((train_data, val_data, test_data),\n",
    "                                                                    with_preprocess=False,\n",
    "                                                                    is_resnet_vgg=True,\n",
    "                                                                    preprocessing_techniques_name=\"Baseline Basic Preporcessing\",\n",
    "                                                                    preprocessing_techniques=baseline_techniques[\"Baseline Basic Preporcessing\"],\n",
    "                                                                    image_dir=\"Preprocessed_Images/\"\n",
    "                                                                  )"
   ]
  },
  {
   "cell_type": "code",
   "execution_count": 12,
   "id": "4daae07f-8b5f-403e-b7a6-100f931d034c",
   "metadata": {},
   "outputs": [],
   "source": [
    "# get y_labels\n",
    "y_true = test_data[\"label\"]"
   ]
  },
  {
   "cell_type": "markdown",
   "id": "e8751ebf-5e85-4d68-80c4-2ebe93440489",
   "metadata": {},
   "source": [
    "### Load Model "
   ]
  },
  {
   "cell_type": "code",
   "execution_count": 13,
   "id": "ad3ea802-2bd5-4205-9a6b-9b2c0245892f",
   "metadata": {},
   "outputs": [],
   "source": [
    "# Load model saved locally\n",
    "model_name = \"Models/Iteration4/vgg16:10_-_baseline_basic_preporcessing_-_(denseu=256,_dropout=0.2,_layer=256).keras\"\n",
    "vgg_model = keras.models.load_model(model_name)"
   ]
  },
  {
   "cell_type": "code",
   "execution_count": 14,
   "id": "eb240b77-f811-4a58-a0c7-c7e56a046c6f",
   "metadata": {},
   "outputs": [
    {
     "name": "stderr",
     "output_type": "stream",
     "text": [
      "WARNING: All log messages before absl::InitializeLog() is called are written to STDERR\n",
      "I0000 00:00:1758209157.506492  212937 service.cc:148] XLA service 0x7f91a0003520 initialized for platform CUDA (this does not guarantee that XLA will be used). Devices:\n",
      "I0000 00:00:1758209157.507144  212937 service.cc:156]   StreamExecutor device (0): NVIDIA GeForce RTX 4060 Laptop GPU, Compute Capability 8.9\n",
      "2025-09-18 11:25:57.575726: I tensorflow/compiler/mlir/tensorflow/utils/dump_mlir_util.cc:268] disabling MLIR crash reproducer, set env var `MLIR_CRASH_REPRODUCER_DIRECTORY` to enable.\n",
      "I0000 00:00:1758209157.670411  212937 cuda_dnn.cc:529] Loaded cuDNN version 90501\n"
     ]
    },
    {
     "name": "stdout",
     "output_type": "stream",
     "text": [
      "\u001b[1m 3/18\u001b[0m \u001b[32m━━━\u001b[0m\u001b[37m━━━━━━━━━━━━━━━━━\u001b[0m \u001b[1m0s\u001b[0m 38ms/step"
     ]
    },
    {
     "name": "stderr",
     "output_type": "stream",
     "text": [
      "I0000 00:00:1758209165.356008  212937 device_compiler.h:188] Compiled cluster using XLA!  This line is logged at most once for the lifetime of the process.\n"
     ]
    },
    {
     "name": "stdout",
     "output_type": "stream",
     "text": [
      "\u001b[1m18/18\u001b[0m \u001b[32m━━━━━━━━━━━━━━━━━━━━\u001b[0m\u001b[37m\u001b[0m \u001b[1m14s\u001b[0m 322ms/step\n"
     ]
    }
   ],
   "source": [
    "# get model's prediction probabilities\n",
    "y_pred_prob = vgg_model.predict(test_generator)"
   ]
  },
  {
   "cell_type": "markdown",
   "id": "fb19ee9d-df69-4bbd-b7d1-b27d47f0fc62",
   "metadata": {},
   "source": [
    "### Calculate Evaluation Metrics"
   ]
  },
  {
   "cell_type": "code",
   "execution_count": null,
   "id": "9ac71b36-ee68-4395-85ef-d2f9805e1ea8",
   "metadata": {},
   "outputs": [],
   "source": [
    "# Calculate ROC curve"
   ]
  },
  {
   "cell_type": "code",
   "execution_count": 19,
   "id": "8663f957-9bbf-46d6-bf30-e8a8088a8747",
   "metadata": {},
   "outputs": [
    {
     "name": "stdout",
     "output_type": "stream",
     "text": [
      "Best threshold: 4.421951e-06\n"
     ]
    }
   ],
   "source": [
    "fpr, tpr, thresholds = roc_curve(y_true, y_pred_prob)\n",
    "youden_index = tpr - fpr\n",
    "best_threshold = thresholds[np.argmax(youden_index)]\n",
    "print(\"Best threshold:\", best_threshold)"
   ]
  },
  {
   "cell_type": "code",
   "execution_count": 20,
   "id": "7f01ca71-1ad3-4b78-9bad-4259484dc0bf",
   "metadata": {},
   "outputs": [],
   "source": [
    "y_pred = (y_pred_prob >= best_threshold).astype(int)"
   ]
  },
  {
   "cell_type": "markdown",
   "id": "b6c04997-b216-405d-aff6-b1170c84a7eb",
   "metadata": {},
   "source": [
    "#### Original Threshold: 0.5"
   ]
  },
  {
   "cell_type": "code",
   "execution_count": 15,
   "id": "82d5a51b-6500-45cd-8103-2845caa3efe4",
   "metadata": {},
   "outputs": [],
   "source": [
    "# get metrics results \n",
    "ev_metrics = Evaluation(vgg_model)"
   ]
  },
  {
   "cell_type": "code",
   "execution_count": 33,
   "id": "851a201d-71f9-46f6-9a75-fc7e33debbbf",
   "metadata": {},
   "outputs": [],
   "source": [
    "def get_best_threshhold(y_true, y_pred_prob):\n",
    "    \n",
    "    thresholds_dict = {\"original threshold\": 0.5}\n",
    "    \n",
    "    # source https://machinelearningmastery.com/threshold-moving-for-imbalanced-classification/\n",
    "    # calculate ROC Curve values\n",
    "    fpr, tpr, roc_thresholds = roc_curve(y_true, y_pred_prob)\n",
    "    # gets Jaudens statistical values\n",
    "    J = tpr - fpr\n",
    "    best_J = argmax(J)\n",
    "    best_roc_thresh = roc_thresholds[best_J]\n",
    "    thresholds_dict[\"roc curve threshold\"] = best_roc_thresh\n",
    "\n",
    "        # source https://machinelearningmastery.com/threshold-moving-for-imbalanced-classification/\n",
    "    precision, recall, thresholds = precision_recall_curve(y_true, y_pred_prob)\n",
    "    f1 = (2 * precision * recall) / (precision + recall)\n",
    "    best_f1 = argmax(f1)\n",
    "    best_threshold = thresholds[best_f1]\n",
    "    thresholds_dict[\"f1 curve threshold\"] = best_threshold\n",
    "\n",
    "    # get evaluation class\n",
    "    ev_metrics = Evaluation(vgg_model)\n",
    "    data = {}\n",
    "    \n",
    "    # calculate original metrics\n",
    "    for name, th in thresholds_dict.items():\n",
    "        metrics = ev_metrics.calculate_metrics(y_true, y_pred_prob, threshold=th)\n",
    "        data[name] = {\"threshhold\": th,\n",
    "                    \"accuracy\": metrics[\"accuracy\"], \n",
    "                    \"precision\": metrics[\"precision\"],\n",
    "                    \"recall\": metrics[\"recall\"],\n",
    "                    \"specificity\": metrics[\"specificity\"]}\n",
    "    return data"
   ]
  },
  {
   "cell_type": "code",
   "execution_count": 43,
   "id": "016ee90b-1d7b-4517-aabe-f04eec3daac5",
   "metadata": {
    "scrolled": true
   },
   "outputs": [
    {
     "name": "stdout",
     "output_type": "stream",
     "text": [
      "{'original threshold': 0.5, 'roc curve threshold': np.float32(0.79521376), 'f1 curve threshold': np.float32(0.38427544)}\n"
     ]
    },
    {
     "data": {
      "text/html": [
       "<div>\n",
       "<style scoped>\n",
       "    .dataframe tbody tr th:only-of-type {\n",
       "        vertical-align: middle;\n",
       "    }\n",
       "\n",
       "    .dataframe tbody tr th {\n",
       "        vertical-align: top;\n",
       "    }\n",
       "\n",
       "    .dataframe thead th {\n",
       "        text-align: right;\n",
       "    }\n",
       "</style>\n",
       "<table border=\"1\" class=\"dataframe\">\n",
       "  <thead>\n",
       "    <tr style=\"text-align: right;\">\n",
       "      <th></th>\n",
       "      <th>threshhold</th>\n",
       "      <th>accuracy</th>\n",
       "      <th>precision</th>\n",
       "      <th>recall</th>\n",
       "      <th>specificity</th>\n",
       "    </tr>\n",
       "  </thead>\n",
       "  <tbody>\n",
       "    <tr>\n",
       "      <th>original threshold</th>\n",
       "      <td>0.500000</td>\n",
       "      <td>0.626335</td>\n",
       "      <td>0.569061</td>\n",
       "      <td>0.792308</td>\n",
       "      <td>0.483444</td>\n",
       "    </tr>\n",
       "    <tr>\n",
       "      <th>roc curve threshold</th>\n",
       "      <td>0.795214</td>\n",
       "      <td>0.665480</td>\n",
       "      <td>0.632353</td>\n",
       "      <td>0.661538</td>\n",
       "      <td>0.668874</td>\n",
       "    </tr>\n",
       "    <tr>\n",
       "      <th>f1 curve threshold</th>\n",
       "      <td>0.384275</td>\n",
       "      <td>0.628114</td>\n",
       "      <td>0.567282</td>\n",
       "      <td>0.826923</td>\n",
       "      <td>0.456954</td>\n",
       "    </tr>\n",
       "  </tbody>\n",
       "</table>\n",
       "</div>"
      ],
      "text/plain": [
       "                     threshhold  accuracy  precision    recall  specificity\n",
       "original threshold     0.500000  0.626335   0.569061  0.792308     0.483444\n",
       "roc curve threshold    0.795214  0.665480   0.632353  0.661538     0.668874\n",
       "f1 curve threshold     0.384275  0.628114   0.567282  0.826923     0.456954"
      ]
     },
     "execution_count": 43,
     "metadata": {},
     "output_type": "execute_result"
    }
   ],
   "source": [
    "thresh_data = pd.DataFrame(get_best_threshhold(y_true, y_pred_prob))\n",
    "thresh_data.transpose()"
   ]
  },
  {
   "cell_type": "code",
   "execution_count": 46,
   "id": "8d8e20b8-8b1d-4ea5-9469-c4c83725fe29",
   "metadata": {},
   "outputs": [
    {
     "data": {
      "text/plain": [
       "<Axes: title={'center': 'Threshhold and Metrics Comparison'}>"
      ]
     },
     "execution_count": 46,
     "metadata": {},
     "output_type": "execute_result"
    },
    {
     "data": {
      "image/png": "[encoded data removed]",
      "text/plain": [
       "<Figure size 640x480 with 1 Axes>"
      ]
     },
     "metadata": {},
     "output_type": "display_data"
    }
   ],
   "source": [
    "thresh_data.plot(kind='line', title='Threshhold and Metrics Comparison', marker='o')"
   ]
  },
  {
   "cell_type": "markdown",
   "id": "efac7de9-453c-4e6f-b5c3-29ee328df061",
   "metadata": {},
   "source": [
    "#### Using ROC Curve\n",
    "ROC is a balnce between Recall and False Positive Rate "
   ]
  },
  {
   "cell_type": "code",
   "execution_count": null,
   "id": "f3c2d152-356f-41b8-ac1d-7f027e00d18c",
   "metadata": {},
   "outputs": [],
   "source": []
  }
 ],
 "metadata": {
  "kernelspec": {
   "display_name": "Python (DQNvenv)",
   "language": "python",
   "name": "dqnvenv"
  },
  "language_info": {
   "codemirror_mode": {
    "name": "ipython",
    "version": 3
   },
   "file_extension": ".py",
   "mimetype": "text/x-python",
   "name": "python",
   "nbconvert_exporter": "python",
   "pygments_lexer": "ipython3",
   "version": "3.11.11"
  }
 },
 "nbformat": 4,
 "nbformat_minor": 5
}
