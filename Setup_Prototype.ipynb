{
 "cells": [
  {
   "cell_type": "markdown",
   "id": "4b75245f-4053-4a4e-9fdb-70ae71ad7767",
   "metadata": {},
   "source": [
    "# Phase 1: Environemnt Setup and Prototype"
   ]
  },
  {
   "cell_type": "markdown",
   "id": "0ae40dd3-140d-4dcc-b89d-5a692a0b41c6",
   "metadata": {},
   "source": [
    "## Sprint 1: Project Setup and Prototype"
   ]
  },
  {
   "cell_type": "markdown",
   "id": "2b6b97e1-d5af-4ae2-87d5-a344ce7adef1",
   "metadata": {},
   "source": [
    "### Data Basic Preporcessing"
   ]
  },
  {
   "cell_type": "markdown",
   "id": "5a46c80e-453c-4466-8894-27b8e545d6f8",
   "metadata": {},
   "source": [
    "### 1.2 Data Analysis"
   ]
  },
  {
   "cell_type": "markdown",
   "id": "933747ab-f7f4-4da2-9a58-40c740d1f6c9",
   "metadata": {},
   "source": [
    "### 1.3 Data Splitting"
   ]
  },
  {
   "cell_type": "markdown",
   "id": "18e3bb02-9b5b-46be-b14f-787f1b5b52d0",
   "metadata": {},
   "source": [
    "## Sprint 2: Functions and Modules"
   ]
  },
  {
   "cell_type": "code",
   "execution_count": null,
   "id": "2f52f525-87f8-4214-94c7-67989fb7776b",
   "metadata": {},
   "outputs": [],
   "source": []
  }
 ],
 "metadata": {
  "kernelspec": {
   "display_name": "Python (DQNvenv)",
   "language": "python",
   "name": "dqnvenv"
  },
  "language_info": {
   "codemirror_mode": {
    "name": "ipython",
    "version": 3
   },
   "file_extension": ".py",
   "mimetype": "text/x-python",
   "name": "python",
   "nbconvert_exporter": "python",
   "pygments_lexer": "ipython3",
   "version": "3.11.11"
  }
 },
 "nbformat": 4,
 "nbformat_minor": 5
}
