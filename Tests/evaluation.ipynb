{
 "cells": [
  {
   "cell_type": "code",
   "execution_count": 1,
   "id": "d30c82c5-05ec-4195-862b-20347d9124eb",
   "metadata": {},
   "outputs": [],
   "source": [
    "import numpy as np\n",
    "import pandas as pd\n",
    "from sklearn.metrics import confusion_matrix, accuracy_score,  f1_score, precision_score, recall_score, roc_auc_score"
   ]
  },
  {
   "cell_type": "code",
   "execution_count": 2,
   "id": "094bd7cb-09a5-475d-a184-cf614bd3e259",
   "metadata": {},
   "outputs": [],
   "source": [
    "y_true=[0,1,0,1,0,0]\n",
    "y_probs=np.array([[0.9, 0.1],\n",
    " [0.2, 0.8],\n",
    " [0.7, 0.3],\n",
    " [0.8, 0.2],\n",
    " [0.4, 0.6],\n",
    " [0.4, 0.6]])"
   ]
  },
  {
   "cell_type": "code",
   "execution_count": 3,
   "id": "3ff979c0-8d04-4ae0-a85d-a4eae26b0083",
   "metadata": {},
   "outputs": [],
   "source": [
    "# take probability for class 1\n",
    "if y_probs.ndim > 1 and y_probs.shape[1] == 2:\n",
    "    y_probs = y_probs[:, 1]"
   ]
  },
  {
   "cell_type": "code",
   "execution_count": 4,
   "id": "cc525762-3c14-4887-8ce6-475cc9e13dd8",
   "metadata": {},
   "outputs": [
    {
     "data": {
      "text/plain": [
       "array([0.1, 0.8, 0.3, 0.2, 0.6, 0.6])"
      ]
     },
     "execution_count": 4,
     "metadata": {},
     "output_type": "execute_result"
    }
   ],
   "source": [
    "y_probs"
   ]
  },
  {
   "cell_type": "code",
   "execution_count": 6,
   "id": "54d8b079-1bff-4aac-98dc-cf96828807d5",
   "metadata": {},
   "outputs": [
    {
     "data": {
      "text/plain": [
       "array([0, 1, 0, 0, 1, 1])"
      ]
     },
     "execution_count": 6,
     "metadata": {},
     "output_type": "execute_result"
    }
   ],
   "source": [
    "y_pred_class = (y_probs > 0.5).astype(int)\n",
    "y_pred_class"
   ]
  },
  {
   "cell_type": "code",
   "execution_count": 27,
   "id": "d744d468-9a49-49ef-b981-b66f8c03091d",
   "metadata": {},
   "outputs": [
    {
     "data": {
      "text/plain": [
       "(np.int64(2), np.int64(2), np.int64(1), np.int64(1))"
      ]
     },
     "execution_count": 27,
     "metadata": {},
     "output_type": "execute_result"
    }
   ],
   "source": [
    "tn, fp, fn, tp = confusion_matrix(y_true, y_pred_class).ravel()\n",
    "tn, fp, fn, tp"
   ]
  },
  {
   "cell_type": "code",
   "execution_count": 13,
   "id": "877640a9-f061-4983-8d40-25e574de3a01",
   "metadata": {},
   "outputs": [
    {
     "data": {
      "text/plain": [
       "0.5"
      ]
     },
     "execution_count": 13,
     "metadata": {},
     "output_type": "execute_result"
    }
   ],
   "source": [
    "accuracy = accuracy_score(y_true, y_pred_class)\n",
    "accuracy"
   ]
  },
  {
   "cell_type": "code",
   "execution_count": 14,
   "id": "97a3cb8c-24fe-48d9-82d3-d82970fc3b0b",
   "metadata": {},
   "outputs": [
    {
     "data": {
      "text/plain": [
       "0.3333333333333333"
      ]
     },
     "execution_count": 14,
     "metadata": {},
     "output_type": "execute_result"
    }
   ],
   "source": [
    "precision = precision_score(y_true, y_pred_class)\n",
    "precision"
   ]
  },
  {
   "cell_type": "code",
   "execution_count": 15,
   "id": "63ca155e-b6bd-473d-8a6d-668884c02e12",
   "metadata": {},
   "outputs": [
    {
     "data": {
      "text/plain": [
       "0.5"
      ]
     },
     "execution_count": 15,
     "metadata": {},
     "output_type": "execute_result"
    }
   ],
   "source": [
    "recall = recall_score(y_true, y_pred_class)\n",
    "recall"
   ]
  },
  {
   "cell_type": "code",
   "execution_count": 16,
   "id": "935354a4-8275-4972-b6f4-e06dc0c6b380",
   "metadata": {},
   "outputs": [
    {
     "data": {
      "text/plain": [
       "0.4"
      ]
     },
     "execution_count": 16,
     "metadata": {},
     "output_type": "execute_result"
    }
   ],
   "source": [
    "f1_score = f1_score(y_true, y_pred_class)\n",
    "f1_score"
   ]
  },
  {
   "cell_type": "code",
   "execution_count": 17,
   "id": "423f6ef6-9737-46b1-9c59-b9473d47bdb1",
   "metadata": {},
   "outputs": [
    {
     "data": {
      "text/plain": [
       "0.625"
      ]
     },
     "execution_count": 17,
     "metadata": {},
     "output_type": "execute_result"
    }
   ],
   "source": [
    "roc_auc = roc_auc_score(y_true, y_probs)\n",
    "roc_auc"
   ]
  },
  {
   "cell_type": "code",
   "execution_count": 24,
   "id": "f8687751-ab20-45b5-acfc-1024d81a65ab",
   "metadata": {},
   "outputs": [
    {
     "data": {
      "text/plain": [
       "np.float64(0.5)"
      ]
     },
     "execution_count": 24,
     "metadata": {},
     "output_type": "execute_result"
    }
   ],
   "source": [
    "specificity = tn / (tn + fp)\n",
    "specificity"
   ]
  },
  {
   "cell_type": "code",
   "execution_count": 25,
   "id": "435e9eaa-55f8-41bd-9cd8-0f586910a913",
   "metadata": {},
   "outputs": [
    {
     "data": {
      "text/plain": [
       "np.float64(0.5)"
      ]
     },
     "execution_count": 25,
     "metadata": {},
     "output_type": "execute_result"
    }
   ],
   "source": [
    "fpr = fp / (fp + tn)  \n",
    "fpr"
   ]
  },
  {
   "cell_type": "code",
   "execution_count": 26,
   "id": "7545beef-3477-4675-98a6-c819b1ed12ff",
   "metadata": {},
   "outputs": [
    {
     "data": {
      "text/plain": [
       "np.float64(0.5)"
      ]
     },
     "execution_count": 26,
     "metadata": {},
     "output_type": "execute_result"
    }
   ],
   "source": [
    "fnr = fn / (fn + tp)  \n",
    "fnr"
   ]
  },
  {
   "cell_type": "code",
   "execution_count": null,
   "id": "2e6a3e7b-8bb9-4f67-b7ff-d47331bfc73e",
   "metadata": {},
   "outputs": [],
   "source": []
  }
 ],
 "metadata": {
  "kernelspec": {
   "display_name": "Python (DQNvenv)",
   "language": "python",
   "name": "dqnvenv"
  },
  "language_info": {
   "codemirror_mode": {
    "name": "ipython",
    "version": 3
   },
   "file_extension": ".py",
   "mimetype": "text/x-python",
   "name": "python",
   "nbconvert_exporter": "python",
   "pygments_lexer": "ipython3",
   "version": "3.11.11"
  }
 },
 "nbformat": 4,
 "nbformat_minor": 5
}
