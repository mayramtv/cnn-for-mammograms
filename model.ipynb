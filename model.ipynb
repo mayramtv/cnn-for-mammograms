{
 "cells": [
  {
   "cell_type": "code",
   "execution_count": 1,
   "id": "e53c0590-cc3f-4030-ad2e-ad5b1f533494",
   "metadata": {},
   "outputs": [
    {
     "name": "stdout",
     "output_type": "stream",
     "text": [
      "Today\n"
     ]
    }
   ],
   "source": [
    "print(\"Today\")"
   ]
  },
  {
   "cell_type": "markdown",
   "id": "be5eeba3-99f1-4768-b6bc-dab0d7761a83",
   "metadata": {},
   "source": [
    "### Import Libraries for Data Preprocessing"
   ]
  },
  {
   "cell_type": "code",
   "execution_count": 2,
   "id": "36fa4f09-87dd-42d3-9e63-bd48b58a3574",
   "metadata": {},
   "outputs": [],
   "source": [
    "# import libraries\n",
    "import pandas as pd\n",
    "import pydicom       # for reading and writing DICOM files\n",
    "import numpy as np\n",
    "import matplotlib\n",
    "import cv2"
   ]
  },
  {
   "cell_type": "markdown",
   "id": "2c9fb1df-0aad-4417-a313-cc09d220f588",
   "metadata": {},
   "source": [
    "### Read metadata "
   ]
  },
  {
   "cell_type": "code",
   "execution_count": 13,
   "id": "968f11d3-c4e8-49ad-9b6a-ddc08b328c59",
   "metadata": {},
   "outputs": [
    {
     "name": "stdout",
     "output_type": "stream",
     "text": [
      "                                          Series UID Collection  \\\n",
      "0  1.3.6.1.4.1.9590.100.1.2.419081637812053404913...  CBIS-DDSM   \n",
      "1  1.3.6.1.4.1.9590.100.1.2.174390361112646747718...  CBIS-DDSM   \n",
      "\n",
      "   3rd Party Analysis                           Data Description URI  \\\n",
      "0                 NaN  https://doi.org/10.7937/K9/TCIA.2016.7O02S9CY   \n",
      "1                 NaN  https://doi.org/10.7937/K9/TCIA.2016.7O02S9CY   \n",
      "\n",
      "                    Subject ID  \\\n",
      "0  Calc-Test_P_00038_LEFT_CC_1   \n",
      "1   Calc-Test_P_00038_LEFT_MLO   \n",
      "\n",
      "                                           Study UID  Study Description  \\\n",
      "0  1.3.6.1.4.1.9590.100.1.2.161465562211359959230...                NaN   \n",
      "1  1.3.6.1.4.1.9590.100.1.2.384159464510350889125...                NaN   \n",
      "\n",
      "   Study Date     Series Description  Manufacturer Modality  \\\n",
      "0  08-29-2017        ROI mask images           NaN       MG   \n",
      "1  08-29-2017  full mammogram images           NaN       MG   \n",
      "\n",
      "                    SOP Class Name              SOP Class UID  \\\n",
      "0  Secondary Capture Image Storage  1.2.840.10008.5.1.4.1.1.7   \n",
      "1  Secondary Capture Image Storage  1.2.840.10008.5.1.4.1.1.7   \n",
      "\n",
      "   Number of Images File Size  \\\n",
      "0                 2  14.06 MB   \n",
      "1                 1  28.97 MB   \n",
      "\n",
      "                                       File Location       Download Timestamp  \n",
      "0  .\\CBIS-DDSM\\Calc-Test_P_00038_LEFT_CC_1\\08-29-...   2025-06-06T07:03:57.14  \n",
      "1  .\\CBIS-DDSM\\Calc-Test_P_00038_LEFT_MLO\\08-29-2...  2025-06-06T07:03:58.738  \n"
     ]
    }
   ],
   "source": [
    "# open metadata file\n",
    "path = 'CBIS-DDSM_Data/images_dataset/metadata.csv' \n",
    "metadata_df = pd.read_csv(path)\n",
    "\n",
    "# show content\n",
    "print(metadata_df.head(2))"
   ]
  },
  {
   "cell_type": "code",
   "execution_count": 5,
   "id": "40cd7843-366e-401e-805f-42da2952815d",
   "metadata": {},
   "outputs": [
    {
     "name": "stdout",
     "output_type": "stream",
     "text": [
      "Index(['Series UID', 'Collection', '3rd Party Analysis',\n",
      "       'Data Description URI', 'Subject ID', 'Study UID', 'Study Description',\n",
      "       'Study Date', 'Series Description', 'Manufacturer', 'Modality',\n",
      "       'SOP Class Name', 'SOP Class UID', 'Number of Images', 'File Size',\n",
      "       'File Location', 'Download Timestamp'],\n",
      "      dtype='object')\n"
     ]
    }
   ],
   "source": [
    "# print the columns of the metadata\n",
    "print(metadata_df.columns)"
   ]
  },
  {
   "cell_type": "code",
   "execution_count": 12,
   "id": "e6713fd8-c3cc-462d-8b38-253e2cec548d",
   "metadata": {},
   "outputs": [
    {
     "data": {
      "text/plain": [
       "'.\\\\CBIS-DDSM\\\\Calc-Test_P_00038_LEFT_CC_1\\\\08-29-2017-DDSM-NA-94942\\\\1.000000-ROI mask images-18515'"
      ]
     },
     "execution_count": 12,
     "metadata": {},
     "output_type": "execute_result"
    }
   ],
   "source": [
    "metadata_df[\"File Location\"][0]"
   ]
  },
  {
   "cell_type": "code",
   "execution_count": 15,
   "id": "e6df5922-9125-4708-befc-f63cb7f9feee",
   "metadata": {},
   "outputs": [
    {
     "data": {
      "text/plain": [
       "'1.3.6.1.4.1.9590.100.1.2.419081637812053404913157930753972718515'"
      ]
     },
     "execution_count": 15,
     "metadata": {},
     "output_type": "execute_result"
    }
   ],
   "source": [
    "metadata_df[\"Series UID\"][0]"
   ]
  },
  {
   "cell_type": "markdown",
   "id": "c5b65329-25c5-4a69-82e3-d0efb13261d0",
   "metadata": {},
   "source": [
    "### Access images\n",
    "- Find and build paths to download data"
   ]
  },
  {
   "cell_type": "code",
   "execution_count": 17,
   "id": "1db4776c-5e6f-47f2-a961-22b89be31353",
   "metadata": {},
   "outputs": [
    {
     "ename": "FileNotFoundError",
     "evalue": "[Errno 2] No such file or directory: '.\\\\CBIS-DDSM\\\\Calc-Test_P_00038_LEFT_CC_1\\\\08-29-2017-DDSM-NA-94942\\\\1.000000-ROI mask images-18515'",
     "output_type": "error",
     "traceback": [
      "\u001b[0;31m---------------------------------------------------------------------------\u001b[0m",
      "\u001b[0;31mFileNotFoundError\u001b[0m                         Traceback (most recent call last)",
      "Cell \u001b[0;32mIn[17], line 4\u001b[0m\n\u001b[1;32m      1\u001b[0m \u001b[38;5;28;01mimport\u001b[39;00m \u001b[38;5;21;01mos\u001b[39;00m\n\u001b[1;32m      3\u001b[0m path_to_dir \u001b[38;5;241m=\u001b[39m metadata_df[\u001b[38;5;124m\"\u001b[39m\u001b[38;5;124mFile Location\u001b[39m\u001b[38;5;124m\"\u001b[39m][\u001b[38;5;241m0\u001b[39m]  \n\u001b[0;32m----> 4\u001b[0m images_per_file \u001b[38;5;241m=\u001b[39m \u001b[43mos\u001b[49m\u001b[38;5;241;43m.\u001b[39;49m\u001b[43mlistdir\u001b[49m\u001b[43m(\u001b[49m\u001b[43mpath_to_dir\u001b[49m\u001b[43m)\u001b[49m\n",
      "\u001b[0;31mFileNotFoundError\u001b[0m: [Errno 2] No such file or directory: '.\\\\CBIS-DDSM\\\\Calc-Test_P_00038_LEFT_CC_1\\\\08-29-2017-DDSM-NA-94942\\\\1.000000-ROI mask images-18515'"
     ]
    }
   ],
   "source": [
    "import os\n",
    "\n",
    "path_to_dir = metadata_df[\"File Location\"][0]  \n",
    "images_per_file = os.listdir(path_to_dir)"
   ]
  },
  {
   "cell_type": "code",
   "execution_count": 9,
   "id": "ae1b0500-c025-4bdc-b9f9-79a440636f20",
   "metadata": {},
   "outputs": [],
   "source": [
    "# Access current location\n",
    "main_dir = 'CBIS-DDSM_Data/images_dataset/'\n",
    "path_one = '.\\CBIS-DDSM\\Calc-Test_P_00038_LEFT_CC_1\\08-29-2017-DDSM-NA-94942\\1.000000-ROI mask images-18515'"
   ]
  },
  {
   "cell_type": "code",
   "execution_count": 11,
   "id": "bcfdef18-63f2-4b8d-95af-24ae1c24ba75",
   "metadata": {},
   "outputs": [
    {
     "ename": "ValueError",
     "evalue": "embedded null byte",
     "output_type": "error",
     "traceback": [
      "\u001b[0;31m---------------------------------------------------------------------------\u001b[0m",
      "\u001b[0;31mValueError\u001b[0m                                Traceback (most recent call last)",
      "Cell \u001b[0;32mIn[11], line 1\u001b[0m\n\u001b[0;32m----> 1\u001b[0m ds \u001b[38;5;241m=\u001b[39m \u001b[43mpydicom\u001b[49m\u001b[38;5;241;43m.\u001b[39;49m\u001b[43mdcmread\u001b[49m\u001b[43m(\u001b[49m\u001b[38;5;124;43m\"\u001b[39;49m\u001b[38;5;124;43m.\u001b[39;49m\u001b[38;5;124;43m\\\u001b[39;49m\u001b[38;5;124;43mCBIS-DDSM\u001b[39;49m\u001b[38;5;124;43m\\\u001b[39;49m\u001b[38;5;124;43mCalc-Test_P_00038_LEFT_CC_1\u001b[39;49m\u001b[38;5;130;43;01m\\0\u001b[39;49;00m\u001b[38;5;124;43m8-29-2017-DDSM-NA-94942\u001b[39;49m\u001b[38;5;130;43;01m\\1\u001b[39;49;00m\u001b[38;5;124;43m.000000-ROI mask images-18515.dcm\u001b[39;49m\u001b[38;5;124;43m\"\u001b[39;49m\u001b[43m)\u001b[49m\n\u001b[1;32m      2\u001b[0m \u001b[38;5;28mprint\u001b[39m(ds\u001b[38;5;241m.\u001b[39mfile_meta\u001b[38;5;241m.\u001b[39mTransferSyntaxUID\u001b[38;5;241m.\u001b[39mname)\n",
      "File \u001b[0;32m/mnt/c/Users/mayra/OneDrive/Documents/MayraCSc/AI/DQNvenv/lib/python3.11/site-packages/pydicom/filereader.py:1042\u001b[0m, in \u001b[0;36mdcmread\u001b[0;34m(fp, defer_size, stop_before_pixels, force, specific_tags)\u001b[0m\n\u001b[1;32m   1040\u001b[0m     caller_owns_file \u001b[38;5;241m=\u001b[39m \u001b[38;5;28;01mFalse\u001b[39;00m\n\u001b[1;32m   1041\u001b[0m     logger\u001b[38;5;241m.\u001b[39mdebug(\u001b[38;5;124mf\u001b[39m\u001b[38;5;124m\"\u001b[39m\u001b[38;5;124mReading file \u001b[39m\u001b[38;5;124m'\u001b[39m\u001b[38;5;132;01m{\u001b[39;00mfp\u001b[38;5;132;01m}\u001b[39;00m\u001b[38;5;124m'\u001b[39m\u001b[38;5;124m\"\u001b[39m)\n\u001b[0;32m-> 1042\u001b[0m     fp \u001b[38;5;241m=\u001b[39m \u001b[38;5;28;43mopen\u001b[39;49m\u001b[43m(\u001b[49m\u001b[43mfp\u001b[49m\u001b[43m,\u001b[49m\u001b[43m \u001b[49m\u001b[38;5;124;43m\"\u001b[39;49m\u001b[38;5;124;43mrb\u001b[39;49m\u001b[38;5;124;43m\"\u001b[39;49m\u001b[43m)\u001b[49m\n\u001b[1;32m   1043\u001b[0m \u001b[38;5;28;01melif\u001b[39;00m (\n\u001b[1;32m   1044\u001b[0m     fp \u001b[38;5;129;01mis\u001b[39;00m \u001b[38;5;28;01mNone\u001b[39;00m\n\u001b[1;32m   1045\u001b[0m     \u001b[38;5;129;01mor\u001b[39;00m \u001b[38;5;129;01mnot\u001b[39;00m \u001b[38;5;28mhasattr\u001b[39m(fp, \u001b[38;5;124m\"\u001b[39m\u001b[38;5;124mread\u001b[39m\u001b[38;5;124m\"\u001b[39m)\n\u001b[1;32m   1046\u001b[0m     \u001b[38;5;129;01mor\u001b[39;00m \u001b[38;5;129;01mnot\u001b[39;00m \u001b[38;5;28mhasattr\u001b[39m(fp, \u001b[38;5;124m\"\u001b[39m\u001b[38;5;124mseek\u001b[39m\u001b[38;5;124m\"\u001b[39m)\n\u001b[1;32m   1047\u001b[0m     \u001b[38;5;129;01mor\u001b[39;00m \u001b[38;5;129;01mnot\u001b[39;00m \u001b[38;5;28mhasattr\u001b[39m(fp, \u001b[38;5;124m\"\u001b[39m\u001b[38;5;124mtell\u001b[39m\u001b[38;5;124m\"\u001b[39m)\n\u001b[1;32m   1048\u001b[0m ):\n\u001b[1;32m   1049\u001b[0m     \u001b[38;5;28;01mraise\u001b[39;00m \u001b[38;5;167;01mTypeError\u001b[39;00m(\n\u001b[1;32m   1050\u001b[0m         \u001b[38;5;124m\"\u001b[39m\u001b[38;5;124mdcmread: Expected a file path, file-like or readable buffer, \u001b[39m\u001b[38;5;124m\"\u001b[39m\n\u001b[1;32m   1051\u001b[0m         \u001b[38;5;124mf\u001b[39m\u001b[38;5;124m\"\u001b[39m\u001b[38;5;124mbut got \u001b[39m\u001b[38;5;132;01m{\u001b[39;00m\u001b[38;5;28mtype\u001b[39m(fp)\u001b[38;5;241m.\u001b[39m\u001b[38;5;18m__name__\u001b[39m\u001b[38;5;132;01m}\u001b[39;00m\u001b[38;5;124m\"\u001b[39m\n\u001b[1;32m   1052\u001b[0m     )\n",
      "\u001b[0;31mValueError\u001b[0m: embedded null byte"
     ]
    }
   ],
   "source": [
    "ds = pydicom.dcmread(\".\\CBIS-DDSM\\Calc-Test_P_00038_LEFT_CC_1\\08-29-2017-DDSM-NA-94942\\1.000000-ROI mask images-18515.dcm\")\n",
    "print(ds.file_meta.TransferSyntaxUID.name)"
   ]
  }
 ],
 "metadata": {
  "kernelspec": {
   "display_name": "Python (DQNvenv)",
   "language": "python",
   "name": "dqnvenv"
  },
  "language_info": {
   "codemirror_mode": {
    "name": "ipython",
    "version": 3
   },
   "file_extension": ".py",
   "mimetype": "text/x-python",
   "name": "python",
   "nbconvert_exporter": "python",
   "pygments_lexer": "ipython3",
   "version": "3.11.11"
  }
 },
 "nbformat": 4,
 "nbformat_minor": 5
}
