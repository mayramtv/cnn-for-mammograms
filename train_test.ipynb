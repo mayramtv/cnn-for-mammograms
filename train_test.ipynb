{
 "cells": [
  {
   "cell_type": "markdown",
   "id": "96f02aa5-b656-49b0-a9d0-501d9db876c9",
   "metadata": {},
   "source": [
    "### Import Libraries"
   ]
  },
  {
   "cell_type": "code",
   "execution_count": 3,
   "id": "99c7a739-04d9-495a-b9c1-4a5f17fa7446",
   "metadata": {},
   "outputs": [],
   "source": [
    "# import libraries\n",
    "import pandas as pd\n",
    "import os"
   ]
  },
  {
   "cell_type": "markdown",
   "id": "64c9ca38-29a6-4206-bf77-58254adeeca5",
   "metadata": {},
   "source": [
    "### Read description data for training and testing "
   ]
  },
  {
   "cell_type": "code",
   "execution_count": 4,
   "id": "b253dd67-8599-419d-bc26-25a6ae7d3542",
   "metadata": {},
   "outputs": [],
   "source": [
    "# open metadata file\n",
    "meta_path = 'CBIS-DDSM_Data/images_dataset/metadata.csv' \n",
    "metadata_df = pd.read_csv(meta_path)\n",
    "\n",
    "# open csv data files\n",
    "mass_train_orig = pd.read_csv(\"CBIS-DDSM_Data/mass_case_description_train_set.csv\")\n",
    "mass_test_orig = pd.read_csv(\"CBIS-DDSM_Data/mass_case_description_test_set.csv\")\n",
    "calc_train_orig = pd.read_csv(\"CBIS-DDSM_Data/calc_case_description_train_set.csv\")\n",
    "calc_test_orig = pd.read_csv(\"CBIS-DDSM_Data/calc_case_description_test_set.csv\")"
   ]
  },
  {
   "cell_type": "code",
   "execution_count": 5,
   "id": "cf65b716-32d4-4eb1-9c66-17b5240266b5",
   "metadata": {},
   "outputs": [
    {
     "data": {
      "text/plain": [
       "'Calc-Test_P_00038_LEFT_CC/1.3.6.1.4.1.9590.100.1.2.85935434310203356712688695661986996009/1.3.6.1.4.1.9590.100.1.2.374115997511889073021386151921807063992/000000.dcm'"
      ]
     },
     "execution_count": 5,
     "metadata": {},
     "output_type": "execute_result"
    }
   ],
   "source": [
    "calc_test_orig[\"image file path\"][0]"
   ]
  },
  {
   "cell_type": "markdown",
   "id": "e1803f8b-8c1d-4bac-8886-559314ccba42",
   "metadata": {},
   "source": [
    "### Combine mass and calcification data files  "
   ]
  },
  {
   "cell_type": "code",
   "execution_count": 6,
   "id": "ebcaeb9f-c599-4056-b7cf-16306e84c071",
   "metadata": {},
   "outputs": [],
   "source": [
    "# rename columns\n",
    "col_new_names = [\"breast_density\", \"breast_side\", \"image_view\", \"abnormality_type\", \"pathology\", \"image_path\", \"cropped_image_path\", \"ROI_mask_path\"] \n",
    "mass_names = [\"breast_density\", \"left or right breast\", \"image view\", \"abnormality type\", \"pathology\", \"image file path\", \"cropped image file path\", \"ROI mask file path\"]\n",
    "calc_names = [\"breast density\", \"left or right breast\", \"image view\", \"abnormality type\", \"pathology\", \"image file path\", \"cropped image file path\", \"ROI mask file path\"]\n",
    "\n",
    "mass_train_renamed = mass_train_orig.rename(columns={name:new_name for name, new_name in zip(mass_names, col_new_names)})\n",
    "mass_test_renamed = mass_test_orig.rename(columns={name:new_name for name, new_name in zip(mass_names, col_new_names)})\n",
    "calc_train_renamed = calc_train_orig.rename(columns={name:new_name for name, new_name in zip(calc_names, col_new_names)})\n",
    "calc_test_renamed = calc_test_orig.rename(columns={name:new_name for name, new_name in zip(calc_names, col_new_names)})"
   ]
  },
  {
   "cell_type": "code",
   "execution_count": 7,
   "id": "063d6829-f152-43b3-9570-7ec3a0d0ef14",
   "metadata": {},
   "outputs": [
    {
     "name": "stdout",
     "output_type": "stream",
     "text": [
      "Mass trained cases:  1318\n",
      "Mass trained cases:  378\n",
      "Calc trained cases:  1546\n",
      "Calc trained cases:  326\n"
     ]
    }
   ],
   "source": [
    "# print number of cases for file\n",
    "print(\"Mass trained cases: \", len(mass_train_renamed))\n",
    "print(\"Mass trained cases: \", len(mass_test_renamed))\n",
    "print(\"Calc trained cases: \", len(calc_train_renamed))\n",
    "print(\"Calc trained cases: \", len(calc_test_renamed))"
   ]
  },
  {
   "cell_type": "code",
   "execution_count": 8,
   "id": "814bedee-2a9c-4b26-bffd-c371bf7ef01d",
   "metadata": {},
   "outputs": [
    {
     "name": "stdout",
     "output_type": "stream",
     "text": [
      "Train cases:  2864\n",
      "Test cases:  704\n"
     ]
    }
   ],
   "source": [
    "# combine columns and print number of cases combining training and testing data\n",
    "train_orig = pd.concat([mass_train_renamed[col_new_names], calc_train_renamed[col_new_names]], ignore_index=True)\n",
    "test_orig = pd.concat([mass_test_renamed[col_new_names], calc_test_renamed[col_new_names]], ignore_index=True)\n",
    "print(\"Train cases: \", len(train_orig))\n",
    "print(\"Test cases: \", len(test_orig))"
   ]
  },
  {
   "cell_type": "markdown",
   "id": "7851956b-dddf-459d-bce0-09789f116377",
   "metadata": {},
   "source": [
    "### Extract series UIDs from paths \n",
    "Extract series UIDs from paths from descriptions files and from images stored in images_png "
   ]
  },
  {
   "cell_type": "code",
   "execution_count": 9,
   "id": "b8dd6658-af2e-4c71-82d0-2331651df425",
   "metadata": {
    "scrolled": true
   },
   "outputs": [
    {
     "name": "stdout",
     "output_type": "stream",
     "text": [
      "Train path:  Mass-Training_P_00001_LEFT_CC/1.3.6.1.4.1.9590.100.1.2.422112722213189649807611434612228974994/1.3.6.1.4.1.9590.100.1.2.342386194811267636608694132590482924515/000000.dcm\n",
      "Train serie:  1.3.6.1.4.1.9590.100.1.2.342386194811267636608694132590482924515\n",
      "\n",
      "Test path:  Mass-Test_P_00016_LEFT_CC/1.3.6.1.4.1.9590.100.1.2.416403281812750683720028031170500130104/1.3.6.1.4.1.9590.100.1.2.245063149211255120613007755642780114172/000000.dcm\n",
      "Test serie:  1.3.6.1.4.1.9590.100.1.2.245063149211255120613007755642780114172\n"
     ]
    }
   ],
   "source": [
    "# Extract training series UIDs from paths stored in the description files \n",
    "train_series = train_orig[\"image_path\"]\n",
    "test_series = test_orig[\"image_path\"]\n",
    "\n",
    "train_series_list = [serie.split(\"/\")[2] for serie in train_series]\n",
    "test_series_list = [serie.split(\"/\")[2] for serie in test_series]\n",
    "print(\"Train path: \", train_series[0])\n",
    "print(\"Train serie: \", train_series_list[0])\n",
    "print()\n",
    "print(\"Test path: \", test_series[0])\n",
    "print(\"Test serie: \", test_series_list[0])"
   ]
  },
  {
   "cell_type": "code",
   "execution_count": 10,
   "id": "030ed2bb-35bb-4582-a7a1-66d30f114d5f",
   "metadata": {},
   "outputs": [
    {
     "name": "stdout",
     "output_type": "stream",
     "text": [
      "breast_density                                                        3\n",
      "breast_side                                                        LEFT\n",
      "image_view                                                           CC\n",
      "abnormality_type                                                   mass\n",
      "pathology                                                     MALIGNANT\n",
      "image_path            Mass-Training_P_00001_LEFT_CC/1.3.6.1.4.1.9590...\n",
      "cropped_image_path    Mass-Training_P_00001_LEFT_CC_1/1.3.6.1.4.1.95...\n",
      "ROI_mask_path         Mass-Training_P_00001_LEFT_CC_1/1.3.6.1.4.1.95...\n",
      "series_uid            1.3.6.1.4.1.9590.100.1.2.342386194811267636608...\n",
      "Name: 0, dtype: object\n",
      "breast_density                                                        3\n",
      "breast_side                                                       RIGHT\n",
      "image_view                                                           CC\n",
      "abnormality_type                                          calcification\n",
      "pathology                                       BENIGN_WITHOUT_CALLBACK\n",
      "image_path            Calc-Training_P_00858_RIGHT_CC/1.3.6.1.4.1.959...\n",
      "cropped_image_path    Calc-Training_P_00858_RIGHT_CC_2/1.3.6.1.4.1.9...\n",
      "ROI_mask_path         Calc-Training_P_00858_RIGHT_CC_2/1.3.6.1.4.1.9...\n",
      "series_uid            1.3.6.1.4.1.9590.100.1.2.327968843610614575901...\n",
      "Name: 2000, dtype: object\n"
     ]
    }
   ],
   "source": [
    "# concatenate series UID to training and test sets\n",
    "train_orig[\"series_uid\"] = train_series_list \n",
    "test_orig[\"series_uid\"] = test_series_list\n",
    "\n",
    "print(train_orig.iloc[0])\n",
    "print(train_orig.iloc[2000])"
   ]
  },
  {
   "cell_type": "code",
   "execution_count": 97,
   "id": "97ec2028-5dac-494b-b09b-e34eac25301a",
   "metadata": {
    "scrolled": true
   },
   "outputs": [
    {
     "data": {
      "text/plain": [
       "['1.3.6.1.4.1.9590.100.1.2.1000188793118245351251151451524542911321-1.png',\n",
       " '1.3.6.1.4.1.9590.100.1.2.1000188793118245351251151451524542911321-2.png',\n",
       " '1.3.6.1.4.1.9590.100.1.2.1001312081106048061172717354220833515471-1.png']"
      ]
     },
     "execution_count": 97,
     "metadata": {},
     "output_type": "execute_result"
    }
   ],
   "source": [
    "# Extracts paths from images stored in images directory \n",
    "path_to_imgs = \"CBIS-DDSM_Clean_Data/images_png/\"\n",
    "paths_to_files = os.listdir(path_to_imgs)[1:]\n",
    "paths_to_files[:3]"
   ]
  },
  {
   "cell_type": "code",
   "execution_count": 98,
   "id": "9e6e7b50-7d9d-4e03-822e-4303e1c16df8",
   "metadata": {},
   "outputs": [
    {
     "data": {
      "text/plain": [
       "['1.3.6.1.4.1.9590.100.1.2.100018879311824535125115145152454291132',\n",
       " '1.3.6.1.4.1.9590.100.1.2.100018879311824535125115145152454291132',\n",
       " '1.3.6.1.4.1.9590.100.1.2.100131208110604806117271735422083351547']"
      ]
     },
     "execution_count": 98,
     "metadata": {},
     "output_type": "execute_result"
    }
   ],
   "source": [
    "# creates a list of series UIDs by removing file extension and last 3 digits \n",
    "series_to_imgs = [path[:-7] for path in paths_to_files]\n",
    "series_to_imgs[:3]"
   ]
  },
  {
   "cell_type": "markdown",
   "id": "33302a05-9589-427e-89c0-605a1e820f73",
   "metadata": {},
   "source": [
    "### Gets images for train and test sets\n",
    "Get series_uids from training and testing sets from description csv files.  Finds the respective image using the series uid in the metadata csv file "
   ]
  },
  {
   "cell_type": "code",
   "execution_count": 99,
   "id": "30e41fa7-d584-4e04-862c-1eba8c56ffd6",
   "metadata": {},
   "outputs": [],
   "source": [
    "# function for matching data sets series to images paths\n",
    "def get_sets_images(desc_series, meta_series, paths):\n",
    "    img_locs = []\n",
    "    for d_serie in desc_series[\"series_uid\"]:\n",
    "        if d_serie in meta_series:\n",
    "            index = meta_series.index(d_serie)\n",
    "            img_locs.append(paths[index])\n",
    "        else: \n",
    "            print(d_series, \"not found\")\n",
    "    return img_locs\n",
    "            "
   ]
  },
  {
   "cell_type": "code",
   "execution_count": 100,
   "id": "4c500cd3-3e61-4d7e-9b79-6aaa1e02bf4c",
   "metadata": {
    "scrolled": true
   },
   "outputs": [
    {
     "name": "stdout",
     "output_type": "stream",
     "text": [
      "2864 images were found out of  2864\n",
      "704 images were found out of  704\n"
     ]
    }
   ],
   "source": [
    "# find images for each data set\n",
    "train_paths = get_sets_images(train_orig, series_to_imgs, paths_to_files)\n",
    "test_paths = get_sets_images(test_orig, series_to_imgs, paths_to_files)\n",
    "print(len(train_paths), \"images were found out of \", len(train_orig))\n",
    "print(len(test_paths), \"images were found out of \", len(test_orig))"
   ]
  },
  {
   "cell_type": "code",
   "execution_count": 101,
   "id": "338e5ee4-9983-4ccb-8802-0668bae8e8f9",
   "metadata": {},
   "outputs": [
    {
     "data": {
      "text/plain": [
       "Index(['breast_density', 'breast_side', 'image_view', 'abnormality_type',\n",
       "       'pathology', 'image_path', 'cropped_image_path', 'ROI_mask_path',\n",
       "       'series_uid', 'images_new_paths', 'image_type'],\n",
       "      dtype='object')"
      ]
     },
     "execution_count": 101,
     "metadata": {},
     "output_type": "execute_result"
    }
   ],
   "source": [
    "train_orig.columns"
   ]
  },
  {
   "cell_type": "code",
   "execution_count": 102,
   "id": "f8ea533d-dc05-475c-bcfb-570b3e9dec09",
   "metadata": {},
   "outputs": [],
   "source": [
    "# add paths to train and test sets\n",
    "train_orig[\"images_new_paths\"] = train_paths\n",
    "test_orig[\"images_new_paths\"] = test_paths"
   ]
  },
  {
   "cell_type": "markdown",
   "id": "037e291a-7dc8-4f2b-bc4c-a9a2d4fbeef0",
   "metadata": {},
   "source": [
    "### Adds series description(ROI Mask or Full Mammogram) to dataframe"
   ]
  },
  {
   "cell_type": "code",
   "execution_count": 103,
   "id": "de374ba7-8cbf-4c06-bf6f-b6fcdce3bc0a",
   "metadata": {},
   "outputs": [],
   "source": [
    "# function for matching data sets series to images paths\n",
    "def get_sets_desc(set_series, meta_series, descriptions):\n",
    "    descriptions_list = []\n",
    "    for s_serie in set_series[\"series_uid\"]:\n",
    "        index = meta_series.to_list().index(s_serie)\n",
    "        if index > -1:\n",
    "            descriptions_list.append(descriptions[index])\n",
    "        else: \n",
    "            print(s_serie, \"not found\")\n",
    "    return descriptions_list"
   ]
  },
  {
   "cell_type": "code",
   "execution_count": 104,
   "id": "d6c75f0c-2bea-40b4-9e45-8dbf5fe07cb1",
   "metadata": {},
   "outputs": [
    {
     "name": "stdout",
     "output_type": "stream",
     "text": [
      "2864 descriptions were found out of  2864\n",
      "704 descriptions were found out of  704\n"
     ]
    }
   ],
   "source": [
    "# find descriptions for each data set\n",
    "train_descs = get_sets_desc(train_orig, metadata_df[\"Series UID\"], metadata_df[\"Series Description\"])\n",
    "test_descs = get_sets_desc(test_orig, metadata_df[\"Series UID\"], metadata_df[\"Series Description\"])\n",
    "print(len(train_descs), \"descriptions were found out of \", len(train_orig))\n",
    "print(len(test_descs), \"descriptions were found out of \", len(test_orig))"
   ]
  },
  {
   "cell_type": "code",
   "execution_count": 105,
   "id": "72b680f1-5334-4454-af9e-77e15d2e60a4",
   "metadata": {},
   "outputs": [],
   "source": [
    "# add paths to train and test sets\n",
    "train_orig[\"image_type\"] = train_descs\n",
    "test_orig[\"image_type\"] = test_descs"
   ]
  },
  {
   "cell_type": "markdown",
   "id": "6f2a8a1f-8f13-4fba-ae86-7a6c12820a3d",
   "metadata": {},
   "source": [
    "### Save new organized data in Dataframe"
   ]
  },
  {
   "cell_type": "code",
   "execution_count": 106,
   "id": "6ac69faa-4e33-416e-aa20-af93e6c17079",
   "metadata": {
    "scrolled": true
   },
   "outputs": [
    {
     "data": {
      "text/plain": [
       "Index(['breast_density', 'breast_side', 'image_view', 'abnormality_type',\n",
       "       'pathology', 'image_path', 'cropped_image_path', 'ROI_mask_path',\n",
       "       'series_uid', 'images_new_paths', 'image_type'],\n",
       "      dtype='object')"
      ]
     },
     "execution_count": 106,
     "metadata": {},
     "output_type": "execute_result"
    }
   ],
   "source": [
    "train_orig.columns"
   ]
  },
  {
   "cell_type": "code",
   "execution_count": 108,
   "id": "2109594f-74dd-49bc-93c9-d44c2ba07d81",
   "metadata": {},
   "outputs": [],
   "source": [
    "cols_to_save = ['breast_density', 'breast_side', 'image_view', 'abnormality_type',\n",
    "               'pathology', 'series_uid', 'images_new_paths', 'image_type']\n",
    "train_orig[cols_to_save].to_csv(\"CBIS-DDSM_Clean_Data/train_descriptions.csv\", index=False)\n",
    "test_orig[cols_to_save].to_csv(\"CBIS-DDSM_Clean_Data/test_descriptions.csv\", index=False)"
   ]
  },
  {
   "cell_type": "code",
   "execution_count": null,
   "id": "f6806eb3-4399-40a0-a5aa-9150638a3d2a",
   "metadata": {},
   "outputs": [],
   "source": []
  }
 ],
 "metadata": {
  "kernelspec": {
   "display_name": "Python (DQNvenv)",
   "language": "python",
   "name": "dqnvenv"
  },
  "language_info": {
   "codemirror_mode": {
    "name": "ipython",
    "version": 3
   },
   "file_extension": ".py",
   "mimetype": "text/x-python",
   "name": "python",
   "nbconvert_exporter": "python",
   "pygments_lexer": "ipython3",
   "version": "3.11.11"
  }
 },
 "nbformat": 4,
 "nbformat_minor": 5
}
