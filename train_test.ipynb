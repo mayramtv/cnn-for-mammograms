{
 "cells": [
  {
   "cell_type": "markdown",
   "id": "96f02aa5-b656-49b0-a9d0-501d9db876c9",
   "metadata": {},
   "source": [
    "### Import Libraries"
   ]
  },
  {
   "cell_type": "code",
   "execution_count": 27,
   "id": "99c7a739-04d9-495a-b9c1-4a5f17fa7446",
   "metadata": {},
   "outputs": [],
   "source": [
    "# import libraries\n",
    "import pandas as pd\n",
    "import os"
   ]
  },
  {
   "cell_type": "markdown",
   "id": "64c9ca38-29a6-4206-bf77-58254adeeca5",
   "metadata": {},
   "source": [
    "### Read description data for training and testing "
   ]
  },
  {
   "cell_type": "code",
   "execution_count": 90,
   "id": "b253dd67-8599-419d-bc26-25a6ae7d3542",
   "metadata": {},
   "outputs": [],
   "source": [
    "# open metadata file\n",
    "meta_path = 'CBIS-DDSM_Data/images_dataset/metadata.csv' \n",
    "metadata_df = pd.read_csv(meta_path)\n",
    "\n",
    "# open csv data files\n",
    "mass_train_orig = pd.read_csv(\"CBIS-DDSM_Data/mass_case_description_train_set.csv\")\n",
    "mass_test_orig = pd.read_csv(\"CBIS-DDSM_Data/mass_case_description_test_set.csv\")\n",
    "calc_train_orig = pd.read_csv(\"CBIS-DDSM_Data/calc_case_description_train_set.csv\")\n",
    "calc_test_orig = pd.read_csv(\"CBIS-DDSM_Data/calc_case_description_test_set.csv\")"
   ]
  },
  {
   "cell_type": "code",
   "execution_count": 92,
   "id": "cf65b716-32d4-4eb1-9c66-17b5240266b5",
   "metadata": {},
   "outputs": [
    {
     "data": {
      "text/plain": [
       "'Calc-Test_P_00038_LEFT_CC/1.3.6.1.4.1.9590.100.1.2.85935434310203356712688695661986996009/1.3.6.1.4.1.9590.100.1.2.374115997511889073021386151921807063992/000000.dcm'"
      ]
     },
     "execution_count": 92,
     "metadata": {},
     "output_type": "execute_result"
    }
   ],
   "source": [
    "calc_test_orig[\"image file path\"][0]"
   ]
  },
  {
   "cell_type": "markdown",
   "id": "e1803f8b-8c1d-4bac-8886-559314ccba42",
   "metadata": {},
   "source": [
    "### Combine mass and calcification data files  "
   ]
  },
  {
   "cell_type": "code",
   "execution_count": 48,
   "id": "ebcaeb9f-c599-4056-b7cf-16306e84c071",
   "metadata": {},
   "outputs": [],
   "source": [
    "# rename columns\n",
    "col_new_names = [\"breast_density\", \"breast_side\", \"image_view\", \"abnormality_type\", \"pathology\", \"image_path\", \"cropped_image_path\", \"ROI_mask_path\"] \n",
    "mass_names = [\"breast_density\", \"left or right breast\", \"image view\", \"abnormality type\", \"pathology\", \"image file path\", \"cropped image file path\", \"ROI mask file path\"]\n",
    "calc_names = [\"breast density\", \"left or right breast\", \"image view\", \"abnormality type\", \"pathology\", \"image file path\", \"cropped image file path\", \"ROI mask file path\"]\n",
    "\n",
    "mass_train_renamed = mass_train_orig.rename(columns={name:new_name for name, new_name in zip(mass_names, col_new_names)})\n",
    "mass_test_renamed = mass_test_orig.rename(columns={name:new_name for name, new_name in zip(mass_names, col_new_names)})\n",
    "calc_train_renamed = calc_train_orig.rename(columns={name:new_name for name, new_name in zip(calc_names, col_new_names)})\n",
    "calc_test_renamed = calc_test_orig.rename(columns={name:new_name for name, new_name in zip(calc_names, col_new_names)})"
   ]
  },
  {
   "cell_type": "code",
   "execution_count": 50,
   "id": "063d6829-f152-43b3-9570-7ec3a0d0ef14",
   "metadata": {},
   "outputs": [
    {
     "name": "stdout",
     "output_type": "stream",
     "text": [
      "Mass trained cases:  1318\n",
      "Mass trained cases:  378\n",
      "Calc trained cases:  1546\n",
      "Calc trained cases:  326\n"
     ]
    }
   ],
   "source": [
    "# print number of cases for file\n",
    "print(\"Mass trained cases: \", len(mass_train_renamed))\n",
    "print(\"Mass trained cases: \", len(mass_test_renamed))\n",
    "print(\"Calc trained cases: \", len(calc_train_renamed))\n",
    "print(\"Calc trained cases: \", len(calc_test_renamed))"
   ]
  },
  {
   "cell_type": "code",
   "execution_count": 61,
   "id": "814bedee-2a9c-4b26-bffd-c371bf7ef01d",
   "metadata": {},
   "outputs": [
    {
     "name": "stdout",
     "output_type": "stream",
     "text": [
      "Train cases:  2864\n",
      "Test cases:  704\n"
     ]
    }
   ],
   "source": [
    "# combine columns and print number of cases combining training and testing data\n",
    "train_orig = pd.concat([mass_train_renamed[col_new_names], calc_train_renamed[col_new_names]], ignore_index=True)\n",
    "test_orig = pd.concat([mass_test_renamed[col_new_names], calc_test_renamed[col_new_names]], ignore_index=True)\n",
    "print(\"Train cases: \", len(train_orig))\n",
    "print(\"Test cases: \", len(test_orig))"
   ]
  },
  {
   "cell_type": "markdown",
   "id": "7851956b-dddf-459d-bce0-09789f116377",
   "metadata": {},
   "source": [
    "### Extract series UIDs from paths \n",
    "Extract series UIDs from paths from descriptions files and from images stored in images_png "
   ]
  },
  {
   "cell_type": "code",
   "execution_count": 94,
   "id": "b8dd6658-af2e-4c71-82d0-2331651df425",
   "metadata": {
    "scrolled": true
   },
   "outputs": [
    {
     "name": "stdout",
     "output_type": "stream",
     "text": [
      "Train path:  Mass-Training_P_00001_LEFT_CC/1.3.6.1.4.1.9590.100.1.2.422112722213189649807611434612228974994/1.3.6.1.4.1.9590.100.1.2.342386194811267636608694132590482924515/000000.dcm\n",
      "Train serie:  1.3.6.1.4.1.9590.100.1.2.342386194811267636608694132590482924515\n",
      "\n",
      "Test path:  Mass-Test_P_00016_LEFT_CC/1.3.6.1.4.1.9590.100.1.2.416403281812750683720028031170500130104/1.3.6.1.4.1.9590.100.1.2.245063149211255120613007755642780114172/000000.dcm\n",
      "Test serie:  1.3.6.1.4.1.9590.100.1.2.245063149211255120613007755642780114172\n"
     ]
    }
   ],
   "source": [
    "# Extract training series UIDs from paths stored in the description files \n",
    "train_series = train_orig[\"image_path\"]\n",
    "test_series = test_orig[\"image_path\"]\n",
    "\n",
    "train_series_list = [serie.split(\"/\")[2] for serie in train_series]\n",
    "test_series_list = [serie.split(\"/\")[2] for serie in test_series]\n",
    "print(\"Train path: \", train_series[0])\n",
    "print(\"Train serie: \", train_series_list[0])\n",
    "print()\n",
    "print(\"Test path: \", test_series[0])\n",
    "print(\"Test serie: \", test_series_list[0])"
   ]
  },
  {
   "cell_type": "code",
   "execution_count": 95,
   "id": "030ed2bb-35bb-4582-a7a1-66d30f114d5f",
   "metadata": {},
   "outputs": [
    {
     "name": "stdout",
     "output_type": "stream",
     "text": [
      "breast_density                                                        3\n",
      "breast_side                                                        LEFT\n",
      "image_view                                                           CC\n",
      "abnormality_type                                                   mass\n",
      "pathology                                                     MALIGNANT\n",
      "image_path            Mass-Training_P_00001_LEFT_CC/1.3.6.1.4.1.9590...\n",
      "cropped_image_path    Mass-Training_P_00001_LEFT_CC_1/1.3.6.1.4.1.95...\n",
      "ROI_mask_path         Mass-Training_P_00001_LEFT_CC_1/1.3.6.1.4.1.95...\n",
      "series_uid            1.3.6.1.4.1.9590.100.1.2.342386194811267636608...\n",
      "Name: 0, dtype: object\n",
      "breast_density                                                        3\n",
      "breast_side                                                       RIGHT\n",
      "image_view                                                           CC\n",
      "abnormality_type                                          calcification\n",
      "pathology                                       BENIGN_WITHOUT_CALLBACK\n",
      "image_path            Calc-Training_P_00858_RIGHT_CC/1.3.6.1.4.1.959...\n",
      "cropped_image_path    Calc-Training_P_00858_RIGHT_CC_2/1.3.6.1.4.1.9...\n",
      "ROI_mask_path         Calc-Training_P_00858_RIGHT_CC_2/1.3.6.1.4.1.9...\n",
      "series_uid            1.3.6.1.4.1.9590.100.1.2.327968843610614575901...\n",
      "Name: 2000, dtype: object\n"
     ]
    }
   ],
   "source": [
    "# concatenate series UID to training and test sets\n",
    "train_orig[\"series_uid\"] = train_series_list \n",
    "test_orig[\"series_uid\"] = test_series_list\n",
    "\n",
    "print(train_orig.iloc[0])\n",
    "print(train_orig.iloc[2000])"
   ]
  },
  {
   "cell_type": "code",
   "execution_count": 96,
   "id": "97ec2028-5dac-494b-b09b-e34eac25301a",
   "metadata": {
    "scrolled": true
   },
   "outputs": [
    {
     "data": {
      "text/plain": [
       "['1.3.6.1.4.1.9590.100.1.2.1000188793118245351251151451524542911321-1.png',\n",
       " '1.3.6.1.4.1.9590.100.1.2.1000188793118245351251151451524542911321-2.png',\n",
       " '1.3.6.1.4.1.9590.100.1.2.1001312081106048061172717354220833515471-1.png']"
      ]
     },
     "execution_count": 96,
     "metadata": {},
     "output_type": "execute_result"
    }
   ],
   "source": [
    "# Extracts paths from images stored in images directory \n",
    "path_to_imgs = \"images_png/\"\n",
    "paths_to_files = os.listdir(path_to_imgs)[1:]\n",
    "paths_to_files[:3]"
   ]
  },
  {
   "cell_type": "code",
   "execution_count": 97,
   "id": "9e6e7b50-7d9d-4e03-822e-4303e1c16df8",
   "metadata": {},
   "outputs": [
    {
     "data": {
      "text/plain": [
       "['1.3.6.1.4.1.9590.100.1.2.100018879311824535125115145152454291132',\n",
       " '1.3.6.1.4.1.9590.100.1.2.100018879311824535125115145152454291132',\n",
       " '1.3.6.1.4.1.9590.100.1.2.100131208110604806117271735422083351547']"
      ]
     },
     "execution_count": 97,
     "metadata": {},
     "output_type": "execute_result"
    }
   ],
   "source": [
    "# creates a list of series UIDs by removing file extension and last 3 digits \n",
    "series_to_imgs = [path[:-7] for path in paths_to_imgs]\n",
    "series_to_imgs[:3]"
   ]
  },
  {
   "cell_type": "code",
   "execution_count": 98,
   "id": "d22bcbbe-e928-4c4a-a3ae-e68173d033e0",
   "metadata": {},
   "outputs": [
    {
     "data": {
      "text/plain": [
       "False"
      ]
     },
     "execution_count": 98,
     "metadata": {},
     "output_type": "execute_result"
    }
   ],
   "source": [
    "\"1.3.6.1.4.1.9590.100.1.2.85935434310203356712688695661986996009\" in series_to_imgs"
   ]
  },
  {
   "cell_type": "code",
   "execution_count": 99,
   "id": "27361a1d-6c3a-4c00-a92f-d2d3b284e818",
   "metadata": {},
   "outputs": [
    {
     "data": {
      "text/plain": [
       "str"
      ]
     },
     "execution_count": 99,
     "metadata": {},
     "output_type": "execute_result"
    }
   ],
   "source": [
    "type(\"1.3.6.1.4.1.9590.100.1.2.161465562211359959230647609981488894942\")"
   ]
  },
  {
   "cell_type": "code",
   "execution_count": 100,
   "id": "390641a9-d0ed-41ca-93eb-f88e18c36ee0",
   "metadata": {},
   "outputs": [
    {
     "data": {
      "text/plain": [
       "'Calc-Test_P_00038_LEFT_CC/1.3.6.1.4.1.9590.100.1.2.85935434310203356712688695661986996009/1.3.6.1.4.1.9590.100.1.2.374115997511889073021386151921807063992/000000.dcm'"
      ]
     },
     "execution_count": 100,
     "metadata": {},
     "output_type": "execute_result"
    }
   ],
   "source": [
    "calc_test_renamed[\"image_path\"][0]"
   ]
  },
  {
   "cell_type": "code",
   "execution_count": 14,
   "id": "b30a75f3-aba7-427e-8666-8cf00c623b73",
   "metadata": {},
   "outputs": [
    {
     "ename": "AttributeError",
     "evalue": "'list' object has no attribute 'values'",
     "output_type": "error",
     "traceback": [
      "\u001b[0;31m---------------------------------------------------------------------------\u001b[0m",
      "\u001b[0;31mAttributeError\u001b[0m                            Traceback (most recent call last)",
      "Cell \u001b[0;32mIn[14], line 1\u001b[0m\n\u001b[0;32m----> 1\u001b[0m path_parts[\u001b[38;5;241m1\u001b[39m] \u001b[38;5;129;01min\u001b[39;00m \u001b[43mpaths_to_imgs\u001b[49m\u001b[38;5;241;43m.\u001b[39;49m\u001b[43mvalues\u001b[49m\n",
      "\u001b[0;31mAttributeError\u001b[0m: 'list' object has no attribute 'values'"
     ]
    }
   ],
   "source": [
    "path_parts[1] in path"
   ]
  },
  {
   "cell_type": "code",
   "execution_count": null,
   "id": "9efddcef-b73e-4aee-b5f2-b8c59dee003b",
   "metadata": {},
   "outputs": [],
   "source": [
    "metadata_df[\"Series UID\"].str.contains\n",
    "result = df[df['Column1'].str.contains('an', case=False, na=False)]\n",
    "print(result)"
   ]
  },
  {
   "cell_type": "code",
   "execution_count": 7,
   "id": "5159cfff-0163-4bb4-8fb2-db4877003441",
   "metadata": {},
   "outputs": [
    {
     "name": "stdout",
     "output_type": "stream",
     "text": [
      "meta columns:  Index(['Series UID', 'Collection', '3rd Party Analysis',\n",
      "       'Data Description URI', 'Subject ID', 'Study UID', 'Study Description',\n",
      "       'Study Date', 'Series Description', 'Manufacturer', 'Modality',\n",
      "       'SOP Class Name', 'SOP Class UID', 'Number of Images', 'File Size',\n",
      "       'File Location', 'Download Timestamp'],\n",
      "      dtype='object')\n",
      "mass columns:  Index(['patient_id', 'breast_density', 'left or right breast', 'image view',\n",
      "       'abnormality id', 'abnormality type', 'mass shape', 'mass margins',\n",
      "       'assessment', 'pathology', 'subtlety', 'image file path',\n",
      "       'cropped image file path', 'ROI mask file path'],\n",
      "      dtype='object')\n",
      "calc columns:  Index(['patient_id', 'breast density', 'left or right breast', 'image view',\n",
      "       'abnormality id', 'abnormality type', 'calc type', 'calc distribution',\n",
      "       'assessment', 'pathology', 'subtlety', 'image file path',\n",
      "       'cropped image file path', 'ROI mask file path'],\n",
      "      dtype='object')\n"
     ]
    }
   ],
   "source": [
    "print(\"meta columns: \", metadata_df.columns)\n",
    "print(\"mass columns: \", mass_train_orig.columns)\n",
    "print(\"calc columns: \", calc_train_orig.columns)"
   ]
  }
 ],
 "metadata": {
  "kernelspec": {
   "display_name": "Python (DQNvenv)",
   "language": "python",
   "name": "dqnvenv"
  },
  "language_info": {
   "codemirror_mode": {
    "name": "ipython",
    "version": 3
   },
   "file_extension": ".py",
   "mimetype": "text/x-python",
   "name": "python",
   "nbconvert_exporter": "python",
   "pygments_lexer": "ipython3",
   "version": "3.11.11"
  }
 },
 "nbformat": 4,
 "nbformat_minor": 5
}
