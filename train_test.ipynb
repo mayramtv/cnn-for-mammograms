{
 "cells": [
  {
   "cell_type": "code",
   "execution_count": null,
   "id": "99c7a739-04d9-495a-b9c1-4a5f17fa7446",
   "metadata": {},
   "outputs": [],
   "source": [
    "# import libraries\n",
    "import pandas as pd"
   ]
  },
  {
   "cell_type": "code",
   "execution_count": null,
   "id": "b253dd67-8599-419d-bc26-25a6ae7d3542",
   "metadata": {},
   "outputs": [],
   "source": [
    "# open metadata file\n",
    "path = 'CBIS-DDSM_Data/images_dataset/metadata.csv' \n",
    "metadata_df = pd.read_csv(path)\n",
    "\n",
    "# open "
   ]
  }
 ],
 "metadata": {
  "kernelspec": {
   "display_name": "Python (DQNvenv)",
   "language": "python",
   "name": "dqnvenv"
  },
  "language_info": {
   "codemirror_mode": {
    "name": "ipython",
    "version": 3
   },
   "file_extension": ".py",
   "mimetype": "text/x-python",
   "name": "python",
   "nbconvert_exporter": "python",
   "pygments_lexer": "ipython3",
   "version": "3.11.11"
  }
 },
 "nbformat": 4,
 "nbformat_minor": 5
}
