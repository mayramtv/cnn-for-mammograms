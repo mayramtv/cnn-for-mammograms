{
 "cells": [
  {
   "cell_type": "code",
   "execution_count": 31,
   "id": "02a59e11-18af-41a0-8d6d-0e8e69595c84",
   "metadata": {},
   "outputs": [],
   "source": [
    "import os"
   ]
  },
  {
   "cell_type": "code",
   "execution_count": 76,
   "id": "f9e2ad29-2da3-4bd7-a452-abad9c8c6b44",
   "metadata": {},
   "outputs": [],
   "source": [
    "# Extracts paths from images stored in images_png directory \n",
    "path_1 = \"images_png/\"\n",
    "p1 = os.listdir(path)"
   ]
  },
  {
   "cell_type": "code",
   "execution_count": 77,
   "id": "7e0cbbe2-b239-46e3-88a5-11121378a9c7",
   "metadata": {},
   "outputs": [
    {
     "name": "stdout",
     "output_type": "stream",
     "text": [
      "p1 10239\n"
     ]
    }
   ],
   "source": [
    "print(\"p1\", len(p1))"
   ]
  },
  {
   "cell_type": "code",
   "execution_count": 78,
   "id": "a743cd39-9b10-436b-90f6-bceb029f74a9",
   "metadata": {},
   "outputs": [],
   "source": [
    "# Extracts paths from images stored in images_png directory \n",
    "path_2 = \"CBIS-DDSM_Data/images_dataset/CBIS-DDSM\"\n",
    "p2 = os.listdir(path_2)"
   ]
  },
  {
   "cell_type": "code",
   "execution_count": 79,
   "id": "98f97072-dcdb-4a01-b370-0470e97d6e07",
   "metadata": {},
   "outputs": [
    {
     "data": {
      "text/plain": [
       "6672"
      ]
     },
     "execution_count": 79,
     "metadata": {},
     "output_type": "execute_result"
    }
   ],
   "source": [
    "len(p2)"
   ]
  },
  {
   "cell_type": "code",
   "execution_count": 81,
   "id": "67cdca06-d079-4909-9b60-729ad9ea807d",
   "metadata": {},
   "outputs": [],
   "source": [
    "# Extracts paths from images stored in images_png directory \n",
    "path_to_imgs = \"CBIS-DDSM_Clean_Data/images_png/\"\n",
    "paths_to_files = os.listdir(path_to_imgs)\n"
   ]
  },
  {
   "cell_type": "code",
   "execution_count": 82,
   "id": "e4f22ffc-f61d-4832-95e1-837f9271b235",
   "metadata": {},
   "outputs": [
    {
     "data": {
      "text/plain": [
       "10239"
      ]
     },
     "execution_count": 82,
     "metadata": {},
     "output_type": "execute_result"
    }
   ],
   "source": [
    "len(paths_to_files)"
   ]
  },
  {
   "cell_type": "code",
   "execution_count": null,
   "id": "b5bc9afd-5d71-4da0-a501-ab6dcc124e84",
   "metadata": {},
   "outputs": [],
   "source": []
  }
 ],
 "metadata": {
  "kernelspec": {
   "display_name": "Python (DQNvenv)",
   "language": "python",
   "name": "dqnvenv"
  },
  "language_info": {
   "codemirror_mode": {
    "name": "ipython",
    "version": 3
   },
   "file_extension": ".py",
   "mimetype": "text/x-python",
   "name": "python",
   "nbconvert_exporter": "python",
   "pygments_lexer": "ipython3",
   "version": "3.11.11"
  }
 },
 "nbformat": 4,
 "nbformat_minor": 5
}
